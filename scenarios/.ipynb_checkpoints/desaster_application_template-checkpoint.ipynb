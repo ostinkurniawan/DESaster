{
 "cells": [
  {
   "cell_type": "markdown",
   "metadata": {
    "nbpresent": {
     "id": "5d6821e5-6824-4330-a555-39b1dc08357a"
    }
   },
   "source": [
    "# DESaster Application Template\n",
    "v. 10292017"
   ]
  },
  {
   "cell_type": "markdown",
   "metadata": {
    "nbpresent": {
     "id": "1d3465f4-2fbf-4582-92e9-7c48d9cf82e6"
    }
   },
   "source": [
    "## Required Modules"
   ]
  },
  {
   "cell_type": "code",
   "execution_count": 126,
   "metadata": {
    "nbpresent": {
     "id": "efe0367b-ecea-4f68-8747-3507afa0a7e4"
    }
   },
   "outputs": [],
   "source": [
    "# System modules\n",
    "import sys, random, inspect\n",
    "from datetime import datetime\n",
    "from IPython.display import display\n",
    "import sys, inspect\n",
    "\n",
    "# Data analysis modules\n",
    "import pandas as pd\n",
    "import numpy as np\n",
    "from scipy.stats import uniform, norm, beta, weibull_min, rv_discrete\n",
    "import random\n",
    "from ipywidgets import Dropdown\n",
    "\n",
    "\n",
    "# SimPy modules\n",
    "import simpy\n",
    "from simpy import Resource, Container, FilterStore\n",
    "from simpy.util import start_delayed\n",
    "\n",
    "# Viz modules\n",
    "import matplotlib.pyplot as plt\n",
    "import seaborn as sns\n",
    "import folium\n",
    "from folium import plugins\n",
    "import branca.colormap as cm\n",
    "from folium.plugins import MarkerCluster\n",
    "from folium import Map, FeatureGroup, Marker, LayerControl\n",
    "\n",
    "### DESaster Modules\n",
    "desaster_path = \"/Users/geomando/Dropbox/github/DESaster\"\n",
    "sys.path.append(desaster_path)\n",
    "import desaster\n",
    "from desaster.io import *\n",
    "from desaster.structures import *\n",
    "from desaster.financial import *\n",
    "from desaster.technical import *\n",
    "from desaster.entities import *\n",
    "from desaster.policies import *\n",
    "from desaster.visualize import dashboard, folium_map"
   ]
  },
  {
   "cell_type": "markdown",
   "metadata": {
    "nbpresent": {
     "id": "cccae357-be1e-4cdd-b6da-33bc39eb27c2"
    }
   },
   "source": [
    "## Import Households Attribute Data\n",
    "Input data must be MS Excel .xlsx file with format (column names and sheet names) of ../inputs/desaster_input_data_template.xlsx"
   ]
  },
  {
   "cell_type": "code",
   "execution_count": 127,
   "metadata": {
    "collapsed": true,
    "nbpresent": {
     "id": "f5ad9903-feef-4cc1-865e-2632556532d1"
    }
   },
   "outputs": [],
   "source": [
    "scenario_file = '../inputs/desaster_input_data_template.xlsx'"
   ]
  },
  {
   "cell_type": "markdown",
   "metadata": {},
   "source": [
    "__Create Pandas dataframe of attribute data for all OwnerHouseholds to be modeled in the simulation.__"
   ]
  },
  {
   "cell_type": "code",
   "execution_count": 128,
   "metadata": {
    "nbpresent": {
     "id": "77a6f2a4-6ea6-484d-9de2-eba265cd3ce1"
    }
   },
   "outputs": [
    {
     "data": {
      "text/html": [
       "<div>\n",
       "<style>\n",
       "    .dataframe thead tr:only-child th {\n",
       "        text-align: right;\n",
       "    }\n",
       "\n",
       "    .dataframe thead th {\n",
       "        text-align: left;\n",
       "    }\n",
       "\n",
       "    .dataframe tbody tr th {\n",
       "        vertical-align: top;\n",
       "    }\n",
       "</style>\n",
       "<table border=\"1\" class=\"dataframe\">\n",
       "  <thead>\n",
       "    <tr style=\"text-align: right;\">\n",
       "      <th></th>\n",
       "      <th>Name</th>\n",
       "      <th>Income</th>\n",
       "      <th>Owner Savings</th>\n",
       "      <th>Owner Insurance</th>\n",
       "      <th>Address</th>\n",
       "      <th>Monthly Cost</th>\n",
       "      <th>Occupancy</th>\n",
       "      <th>Tenure</th>\n",
       "      <th>Bedrooms</th>\n",
       "      <th>Bathrooms</th>\n",
       "      <th>Area</th>\n",
       "      <th>Year Built</th>\n",
       "      <th>Value</th>\n",
       "      <th>Damage State</th>\n",
       "      <th>Listed</th>\n",
       "      <th>Longitude</th>\n",
       "      <th>Latitude</th>\n",
       "      <th>Owner Credit</th>\n",
       "    </tr>\n",
       "  </thead>\n",
       "  <tbody>\n",
       "    <tr>\n",
       "      <th>0</th>\n",
       "      <td>Alfred</td>\n",
       "      <td>60000</td>\n",
       "      <td>100000</td>\n",
       "      <td>0</td>\n",
       "      <td>62 That St</td>\n",
       "      <td>1482.755005</td>\n",
       "      <td>Mobile Home</td>\n",
       "      <td>Owner Occupied</td>\n",
       "      <td>1</td>\n",
       "      <td>1</td>\n",
       "      <td>1100</td>\n",
       "      <td>1920</td>\n",
       "      <td>306900</td>\n",
       "      <td>Complete</td>\n",
       "      <td>False</td>\n",
       "      <td>-90.296127</td>\n",
       "      <td>43.224344</td>\n",
       "      <td>700</td>\n",
       "    </tr>\n",
       "    <tr>\n",
       "      <th>1</th>\n",
       "      <td>Bruce</td>\n",
       "      <td>1000000</td>\n",
       "      <td>100</td>\n",
       "      <td>1</td>\n",
       "      <td>720 This Rd</td>\n",
       "      <td>4043.877286</td>\n",
       "      <td>Single Family Dwelling</td>\n",
       "      <td>Owner Occupied</td>\n",
       "      <td>4</td>\n",
       "      <td>3</td>\n",
       "      <td>3000</td>\n",
       "      <td>1920</td>\n",
       "      <td>837000</td>\n",
       "      <td>None</td>\n",
       "      <td>False</td>\n",
       "      <td>-90.295697</td>\n",
       "      <td>43.224219</td>\n",
       "      <td>700</td>\n",
       "    </tr>\n",
       "    <tr>\n",
       "      <th>2</th>\n",
       "      <td>Selena</td>\n",
       "      <td>45000</td>\n",
       "      <td>50000</td>\n",
       "      <td>0</td>\n",
       "      <td>1001 Other Ave</td>\n",
       "      <td>1010.969322</td>\n",
       "      <td>Single Family Dwelling</td>\n",
       "      <td>Owner Occupied</td>\n",
       "      <td>2</td>\n",
       "      <td>1</td>\n",
       "      <td>750</td>\n",
       "      <td>1960</td>\n",
       "      <td>209250</td>\n",
       "      <td>Extensive</td>\n",
       "      <td>False</td>\n",
       "      <td>-90.296706</td>\n",
       "      <td>43.223984</td>\n",
       "      <td>700</td>\n",
       "    </tr>\n",
       "    <tr>\n",
       "      <th>3</th>\n",
       "      <td>Fish</td>\n",
       "      <td>125000</td>\n",
       "      <td>100</td>\n",
       "      <td>0</td>\n",
       "      <td>26000 Out There Lane</td>\n",
       "      <td>2695.918191</td>\n",
       "      <td>Single Family Dwelling</td>\n",
       "      <td>Owner Occupied</td>\n",
       "      <td>3</td>\n",
       "      <td>2</td>\n",
       "      <td>2000</td>\n",
       "      <td>2010</td>\n",
       "      <td>558000</td>\n",
       "      <td>None</td>\n",
       "      <td>False</td>\n",
       "      <td>-90.296642</td>\n",
       "      <td>43.223750</td>\n",
       "      <td>700</td>\n",
       "    </tr>\n",
       "    <tr>\n",
       "      <th>4</th>\n",
       "      <td>Jerome</td>\n",
       "      <td>100000000</td>\n",
       "      <td>100000000</td>\n",
       "      <td>1</td>\n",
       "      <td>100 New Ave</td>\n",
       "      <td>1449.418382</td>\n",
       "      <td>Mobile Home</td>\n",
       "      <td>Owner Occupied</td>\n",
       "      <td>1</td>\n",
       "      <td>1</td>\n",
       "      <td>1100</td>\n",
       "      <td>1920</td>\n",
       "      <td>300000</td>\n",
       "      <td>None</td>\n",
       "      <td>True</td>\n",
       "      <td>-90.295054</td>\n",
       "      <td>43.224375</td>\n",
       "      <td>700</td>\n",
       "    </tr>\n",
       "    <tr>\n",
       "      <th>5</th>\n",
       "      <td>Barbara</td>\n",
       "      <td>100000000</td>\n",
       "      <td>100000000</td>\n",
       "      <td>1</td>\n",
       "      <td>101 New Ave</td>\n",
       "      <td>3865.115686</td>\n",
       "      <td>Single Family Dwelling</td>\n",
       "      <td>Owner Occupied</td>\n",
       "      <td>4</td>\n",
       "      <td>3</td>\n",
       "      <td>3000</td>\n",
       "      <td>1920</td>\n",
       "      <td>800000</td>\n",
       "      <td>None</td>\n",
       "      <td>True</td>\n",
       "      <td>-90.294539</td>\n",
       "      <td>43.224391</td>\n",
       "      <td>700</td>\n",
       "    </tr>\n",
       "    <tr>\n",
       "      <th>6</th>\n",
       "      <td>Lucius</td>\n",
       "      <td>100000000</td>\n",
       "      <td>100000000</td>\n",
       "      <td>1</td>\n",
       "      <td>102 New Ave</td>\n",
       "      <td>1010.969322</td>\n",
       "      <td>Single Family Dwelling</td>\n",
       "      <td>Owner Occupied</td>\n",
       "      <td>2</td>\n",
       "      <td>1</td>\n",
       "      <td>750</td>\n",
       "      <td>1960</td>\n",
       "      <td>209250</td>\n",
       "      <td>None</td>\n",
       "      <td>True</td>\n",
       "      <td>-90.295225</td>\n",
       "      <td>43.223953</td>\n",
       "      <td>700</td>\n",
       "    </tr>\n",
       "    <tr>\n",
       "      <th>7</th>\n",
       "      <td>Dick</td>\n",
       "      <td>100000000</td>\n",
       "      <td>100000000</td>\n",
       "      <td>1</td>\n",
       "      <td>103 New Ave</td>\n",
       "      <td>2415.697304</td>\n",
       "      <td>Single Family Dwelling</td>\n",
       "      <td>Owner Occupied</td>\n",
       "      <td>3</td>\n",
       "      <td>2</td>\n",
       "      <td>2000</td>\n",
       "      <td>2010</td>\n",
       "      <td>500000</td>\n",
       "      <td>None</td>\n",
       "      <td>True</td>\n",
       "      <td>-90.295225</td>\n",
       "      <td>43.223718</td>\n",
       "      <td>700</td>\n",
       "    </tr>\n",
       "  </tbody>\n",
       "</table>\n",
       "</div>"
      ],
      "text/plain": [
       "      Name     Income  Owner Savings  Owner Insurance               Address  \\\n",
       "0   Alfred      60000         100000                0            62 That St   \n",
       "1    Bruce    1000000            100                1           720 This Rd   \n",
       "2   Selena      45000          50000                0        1001 Other Ave   \n",
       "3     Fish     125000            100                0  26000 Out There Lane   \n",
       "4   Jerome  100000000      100000000                1           100 New Ave   \n",
       "5  Barbara  100000000      100000000                1           101 New Ave   \n",
       "6   Lucius  100000000      100000000                1           102 New Ave   \n",
       "7     Dick  100000000      100000000                1           103 New Ave   \n",
       "\n",
       "   Monthly Cost               Occupancy          Tenure  Bedrooms  Bathrooms  \\\n",
       "0   1482.755005             Mobile Home  Owner Occupied         1          1   \n",
       "1   4043.877286  Single Family Dwelling  Owner Occupied         4          3   \n",
       "2   1010.969322  Single Family Dwelling  Owner Occupied         2          1   \n",
       "3   2695.918191  Single Family Dwelling  Owner Occupied         3          2   \n",
       "4   1449.418382             Mobile Home  Owner Occupied         1          1   \n",
       "5   3865.115686  Single Family Dwelling  Owner Occupied         4          3   \n",
       "6   1010.969322  Single Family Dwelling  Owner Occupied         2          1   \n",
       "7   2415.697304  Single Family Dwelling  Owner Occupied         3          2   \n",
       "\n",
       "   Area  Year Built   Value Damage State  Listed  Longitude   Latitude  \\\n",
       "0  1100        1920  306900     Complete   False -90.296127  43.224344   \n",
       "1  3000        1920  837000         None   False -90.295697  43.224219   \n",
       "2   750        1960  209250    Extensive   False -90.296706  43.223984   \n",
       "3  2000        2010  558000         None   False -90.296642  43.223750   \n",
       "4  1100        1920  300000         None    True -90.295054  43.224375   \n",
       "5  3000        1920  800000         None    True -90.294539  43.224391   \n",
       "6   750        1960  209250         None    True -90.295225  43.223953   \n",
       "7  2000        2010  500000         None    True -90.295225  43.223718   \n",
       "\n",
       "   Owner Credit  \n",
       "0           700  \n",
       "1           700  \n",
       "2           700  \n",
       "3           700  \n",
       "4           700  \n",
       "5           700  \n",
       "6           700  \n",
       "7           700  "
      ]
     },
     "execution_count": 128,
     "metadata": {},
     "output_type": "execute_result"
    }
   ],
   "source": [
    "owners_df = pd.read_excel(scenario_file, sheetname='owners')\n",
    "owners_df"
   ]
  },
  {
   "cell_type": "markdown",
   "metadata": {},
   "source": [
    "__Create Pandas dataframe of attribute data for all RenterHouseholds to be modeled in the simulation.__"
   ]
  },
  {
   "cell_type": "code",
   "execution_count": 129,
   "metadata": {
    "nbpresent": {
     "id": "2bedb18e-ce6d-41cb-98a4-7b91bd10f9bb"
    }
   },
   "outputs": [
    {
     "data": {
      "text/html": [
       "<div>\n",
       "<style>\n",
       "    .dataframe thead tr:only-child th {\n",
       "        text-align: right;\n",
       "    }\n",
       "\n",
       "    .dataframe thead th {\n",
       "        text-align: left;\n",
       "    }\n",
       "\n",
       "    .dataframe tbody tr th {\n",
       "        vertical-align: top;\n",
       "    }\n",
       "</style>\n",
       "<table border=\"1\" class=\"dataframe\">\n",
       "  <thead>\n",
       "    <tr style=\"text-align: right;\">\n",
       "      <th></th>\n",
       "      <th>Name</th>\n",
       "      <th>Address</th>\n",
       "      <th>Occupancy</th>\n",
       "      <th>Tenure</th>\n",
       "      <th>Income</th>\n",
       "      <th>Tenant Savings</th>\n",
       "      <th>Tenant Credit</th>\n",
       "      <th>Tenant Insurance</th>\n",
       "      <th>Monthly Cost</th>\n",
       "      <th>Bedrooms</th>\n",
       "      <th>...</th>\n",
       "      <th>Year Built</th>\n",
       "      <th>Value</th>\n",
       "      <th>Damage State</th>\n",
       "      <th>Landlord</th>\n",
       "      <th>Owner Savings</th>\n",
       "      <th>Owner Insurance</th>\n",
       "      <th>Listed</th>\n",
       "      <th>Longitude</th>\n",
       "      <th>Latitude</th>\n",
       "      <th>Owner Credit</th>\n",
       "    </tr>\n",
       "  </thead>\n",
       "  <tbody>\n",
       "    <tr>\n",
       "      <th>0</th>\n",
       "      <td>Ivy</td>\n",
       "      <td>262 That St</td>\n",
       "      <td>Mobile Home</td>\n",
       "      <td>Rental</td>\n",
       "      <td>119040</td>\n",
       "      <td>1000</td>\n",
       "      <td>700</td>\n",
       "      <td>0</td>\n",
       "      <td>2480</td>\n",
       "      <td>1</td>\n",
       "      <td>...</td>\n",
       "      <td>1920</td>\n",
       "      <td>279000</td>\n",
       "      <td>Moderate</td>\n",
       "      <td>Alice</td>\n",
       "      <td>30000</td>\n",
       "      <td>0</td>\n",
       "      <td>False</td>\n",
       "      <td>-90.294238</td>\n",
       "      <td>43.224015</td>\n",
       "      <td>700</td>\n",
       "    </tr>\n",
       "    <tr>\n",
       "      <th>1</th>\n",
       "      <td>Edward</td>\n",
       "      <td>4720 This Rd</td>\n",
       "      <td>Single Family Dwelling</td>\n",
       "      <td>Rental</td>\n",
       "      <td>178560</td>\n",
       "      <td>1000</td>\n",
       "      <td>700</td>\n",
       "      <td>0</td>\n",
       "      <td>3720</td>\n",
       "      <td>3</td>\n",
       "      <td>...</td>\n",
       "      <td>1920</td>\n",
       "      <td>418500</td>\n",
       "      <td>Slight</td>\n",
       "      <td>Julie</td>\n",
       "      <td>30000</td>\n",
       "      <td>0</td>\n",
       "      <td>False</td>\n",
       "      <td>-90.293766</td>\n",
       "      <td>43.224062</td>\n",
       "      <td>700</td>\n",
       "    </tr>\n",
       "    <tr>\n",
       "      <th>2</th>\n",
       "      <td>Oswald</td>\n",
       "      <td>2301 Other Ave</td>\n",
       "      <td>Single Family Dwelling</td>\n",
       "      <td>Rental</td>\n",
       "      <td>1000000</td>\n",
       "      <td>1000000</td>\n",
       "      <td>700</td>\n",
       "      <td>0</td>\n",
       "      <td>1240</td>\n",
       "      <td>0</td>\n",
       "      <td>...</td>\n",
       "      <td>1960</td>\n",
       "      <td>139500</td>\n",
       "      <td>Extensive</td>\n",
       "      <td>Gerry</td>\n",
       "      <td>30000</td>\n",
       "      <td>1</td>\n",
       "      <td>False</td>\n",
       "      <td>-90.293294</td>\n",
       "      <td>43.224125</td>\n",
       "      <td>700</td>\n",
       "    </tr>\n",
       "    <tr>\n",
       "      <th>3</th>\n",
       "      <td>James</td>\n",
       "      <td>74000 Out There Lane</td>\n",
       "      <td>Single Family Dwelling</td>\n",
       "      <td>Rental</td>\n",
       "      <td>238080</td>\n",
       "      <td>1000</td>\n",
       "      <td>700</td>\n",
       "      <td>0</td>\n",
       "      <td>4960</td>\n",
       "      <td>2</td>\n",
       "      <td>...</td>\n",
       "      <td>2010</td>\n",
       "      <td>558000</td>\n",
       "      <td>Complete</td>\n",
       "      <td>Sally</td>\n",
       "      <td>30000</td>\n",
       "      <td>1</td>\n",
       "      <td>False</td>\n",
       "      <td>-90.293058</td>\n",
       "      <td>43.223937</td>\n",
       "      <td>700</td>\n",
       "    </tr>\n",
       "    <tr>\n",
       "      <th>4</th>\n",
       "      <td>Butch</td>\n",
       "      <td>100 Old Ave</td>\n",
       "      <td>Mobile Home</td>\n",
       "      <td>Rental</td>\n",
       "      <td>100000000</td>\n",
       "      <td>1000</td>\n",
       "      <td>700</td>\n",
       "      <td>0</td>\n",
       "      <td>2480</td>\n",
       "      <td>1</td>\n",
       "      <td>...</td>\n",
       "      <td>1920</td>\n",
       "      <td>279000</td>\n",
       "      <td>None</td>\n",
       "      <td>Greg</td>\n",
       "      <td>100000000</td>\n",
       "      <td>1</td>\n",
       "      <td>True</td>\n",
       "      <td>-90.293080</td>\n",
       "      <td>43.223671</td>\n",
       "      <td>700</td>\n",
       "    </tr>\n",
       "    <tr>\n",
       "      <th>5</th>\n",
       "      <td>Harvey</td>\n",
       "      <td>101 Old Ave</td>\n",
       "      <td>Single Family Dwelling</td>\n",
       "      <td>Rental</td>\n",
       "      <td>100000000</td>\n",
       "      <td>1000</td>\n",
       "      <td>700</td>\n",
       "      <td>0</td>\n",
       "      <td>3720</td>\n",
       "      <td>3</td>\n",
       "      <td>...</td>\n",
       "      <td>1920</td>\n",
       "      <td>418500</td>\n",
       "      <td>None</td>\n",
       "      <td>Allison</td>\n",
       "      <td>100000000</td>\n",
       "      <td>1</td>\n",
       "      <td>True</td>\n",
       "      <td>-90.292736</td>\n",
       "      <td>43.223546</td>\n",
       "      <td>700</td>\n",
       "    </tr>\n",
       "    <tr>\n",
       "      <th>6</th>\n",
       "      <td>Lee</td>\n",
       "      <td>102 Old Ave</td>\n",
       "      <td>Single Family Dwelling</td>\n",
       "      <td>Rental</td>\n",
       "      <td>100000000</td>\n",
       "      <td>1000</td>\n",
       "      <td>700</td>\n",
       "      <td>0</td>\n",
       "      <td>1240</td>\n",
       "      <td>0</td>\n",
       "      <td>...</td>\n",
       "      <td>1960</td>\n",
       "      <td>139500</td>\n",
       "      <td>None</td>\n",
       "      <td>Rachel</td>\n",
       "      <td>100000000</td>\n",
       "      <td>1</td>\n",
       "      <td>True</td>\n",
       "      <td>-90.296191</td>\n",
       "      <td>43.223406</td>\n",
       "      <td>700</td>\n",
       "    </tr>\n",
       "    <tr>\n",
       "      <th>7</th>\n",
       "      <td>Carmine</td>\n",
       "      <td>103 Old Ave</td>\n",
       "      <td>Single Family Dwelling</td>\n",
       "      <td>Rental</td>\n",
       "      <td>100000000</td>\n",
       "      <td>1000</td>\n",
       "      <td>700</td>\n",
       "      <td>0</td>\n",
       "      <td>4960</td>\n",
       "      <td>2</td>\n",
       "      <td>...</td>\n",
       "      <td>2010</td>\n",
       "      <td>558000</td>\n",
       "      <td>None</td>\n",
       "      <td>Larry</td>\n",
       "      <td>100000000</td>\n",
       "      <td>1</td>\n",
       "      <td>True</td>\n",
       "      <td>-90.295740</td>\n",
       "      <td>43.223359</td>\n",
       "      <td>700</td>\n",
       "    </tr>\n",
       "    <tr>\n",
       "      <th>8</th>\n",
       "      <td>For Alfred</td>\n",
       "      <td>341 Where St</td>\n",
       "      <td>Mobile Home</td>\n",
       "      <td>Rental</td>\n",
       "      <td>60000</td>\n",
       "      <td>1000</td>\n",
       "      <td>700</td>\n",
       "      <td>0</td>\n",
       "      <td>1</td>\n",
       "      <td>1</td>\n",
       "      <td>...</td>\n",
       "      <td>1920</td>\n",
       "      <td>306900</td>\n",
       "      <td>None</td>\n",
       "      <td>Gal</td>\n",
       "      <td>30000</td>\n",
       "      <td>0</td>\n",
       "      <td>True</td>\n",
       "      <td>-90.294238</td>\n",
       "      <td>43.224015</td>\n",
       "      <td>700</td>\n",
       "    </tr>\n",
       "    <tr>\n",
       "      <th>9</th>\n",
       "      <td>For Selena</td>\n",
       "      <td>9900 Nowhere St</td>\n",
       "      <td>Single Family Dwelling</td>\n",
       "      <td>Rental</td>\n",
       "      <td>60000</td>\n",
       "      <td>1000</td>\n",
       "      <td>700</td>\n",
       "      <td>0</td>\n",
       "      <td>1</td>\n",
       "      <td>2</td>\n",
       "      <td>...</td>\n",
       "      <td>1960</td>\n",
       "      <td>209250</td>\n",
       "      <td>None</td>\n",
       "      <td>Blake</td>\n",
       "      <td>30000</td>\n",
       "      <td>0</td>\n",
       "      <td>True</td>\n",
       "      <td>-90.294238</td>\n",
       "      <td>43.224015</td>\n",
       "      <td>700</td>\n",
       "    </tr>\n",
       "  </tbody>\n",
       "</table>\n",
       "<p>10 rows × 22 columns</p>\n",
       "</div>"
      ],
      "text/plain": [
       "         Name               Address               Occupancy  Tenure  \\\n",
       "0         Ivy           262 That St             Mobile Home  Rental   \n",
       "1      Edward          4720 This Rd  Single Family Dwelling  Rental   \n",
       "2      Oswald        2301 Other Ave  Single Family Dwelling  Rental   \n",
       "3       James  74000 Out There Lane  Single Family Dwelling  Rental   \n",
       "4       Butch           100 Old Ave             Mobile Home  Rental   \n",
       "5      Harvey           101 Old Ave  Single Family Dwelling  Rental   \n",
       "6         Lee           102 Old Ave  Single Family Dwelling  Rental   \n",
       "7     Carmine           103 Old Ave  Single Family Dwelling  Rental   \n",
       "8  For Alfred          341 Where St             Mobile Home  Rental   \n",
       "9  For Selena       9900 Nowhere St  Single Family Dwelling  Rental   \n",
       "\n",
       "      Income  Tenant Savings  Tenant Credit  Tenant Insurance  Monthly Cost  \\\n",
       "0     119040            1000            700                 0          2480   \n",
       "1     178560            1000            700                 0          3720   \n",
       "2    1000000         1000000            700                 0          1240   \n",
       "3     238080            1000            700                 0          4960   \n",
       "4  100000000            1000            700                 0          2480   \n",
       "5  100000000            1000            700                 0          3720   \n",
       "6  100000000            1000            700                 0          1240   \n",
       "7  100000000            1000            700                 0          4960   \n",
       "8      60000            1000            700                 0             1   \n",
       "9      60000            1000            700                 0             1   \n",
       "\n",
       "   Bedrooms      ...       Year Built   Value  Damage State  Landlord  \\\n",
       "0         1      ...             1920  279000      Moderate     Alice   \n",
       "1         3      ...             1920  418500        Slight     Julie   \n",
       "2         0      ...             1960  139500     Extensive     Gerry   \n",
       "3         2      ...             2010  558000      Complete     Sally   \n",
       "4         1      ...             1920  279000          None      Greg   \n",
       "5         3      ...             1920  418500          None   Allison   \n",
       "6         0      ...             1960  139500          None    Rachel   \n",
       "7         2      ...             2010  558000          None     Larry   \n",
       "8         1      ...             1920  306900          None       Gal   \n",
       "9         2      ...             1960  209250          None     Blake   \n",
       "\n",
       "  Owner Savings Owner Insurance  Listed  Longitude   Latitude  Owner Credit  \n",
       "0         30000               0   False -90.294238  43.224015           700  \n",
       "1         30000               0   False -90.293766  43.224062           700  \n",
       "2         30000               1   False -90.293294  43.224125           700  \n",
       "3         30000               1   False -90.293058  43.223937           700  \n",
       "4     100000000               1    True -90.293080  43.223671           700  \n",
       "5     100000000               1    True -90.292736  43.223546           700  \n",
       "6     100000000               1    True -90.296191  43.223406           700  \n",
       "7     100000000               1    True -90.295740  43.223359           700  \n",
       "8         30000               0    True -90.294238  43.224015           700  \n",
       "9         30000               0    True -90.294238  43.224015           700  \n",
       "\n",
       "[10 rows x 22 columns]"
      ]
     },
     "execution_count": 129,
     "metadata": {},
     "output_type": "execute_result"
    }
   ],
   "source": [
    "renters_df = pd.read_excel(scenario_file, sheetname='renters')\n",
    "renters_df"
   ]
  },
  {
   "cell_type": "markdown",
   "metadata": {},
   "source": [
    "# Inspect DESaster library modules and classes"
   ]
  },
  {
   "cell_type": "markdown",
   "metadata": {},
   "source": [
    "Choose DESaster module to list classes (next cell)"
   ]
  },
  {
   "cell_type": "code",
   "execution_count": 130,
   "metadata": {},
   "outputs": [
    {
     "name": "stderr",
     "output_type": "stream",
     "text": [
      "Widget Javascript not detected.  It may not be installed or enabled properly.\n"
     ]
    },
    {
     "data": {
      "application/vnd.jupyter.widget-view+json": {
       "model_id": "9b0b38f67067412ba826cf0adcc4a04c"
      }
     },
     "metadata": {},
     "output_type": "display_data"
    }
   ],
   "source": [
    "\n",
    "modules = sorted(str(name) for name, obj in inspect.getmembers(desaster) if inspect.ismodule(obj))\n",
    "module_chooser = Dropdown(\n",
    "    options=modules\n",
    ")\n",
    "display(module_chooser)"
   ]
  },
  {
   "cell_type": "markdown",
   "metadata": {},
   "source": [
    "List classes in module selected above"
   ]
  },
  {
   "cell_type": "code",
   "execution_count": 131,
   "metadata": {
    "scrolled": true
   },
   "outputs": [
    {
     "name": "stdout",
     "output_type": "stream",
     "text": [
      "DESaster Entities Classes\n",
      "--------------\n",
      "Building\n",
      "Container\n",
      "Household\n",
      "Landlord\n",
      "Owner\n",
      "OwnerHousehold\n",
      "RenterHousehold\n",
      "SingleFamilyResidential\n"
     ]
    }
   ],
   "source": [
    "print('DESaster ' + str(module_chooser.value).title() + ' Classes')\n",
    "print('--------------')\n",
    "classes = sorted(str(name) for name, obj in inspect.getmembers(eval('desaster.' + module_chooser.value)) if inspect.isclass(obj))\n",
    "for i in classes: print(i)"
   ]
  },
  {
   "cell_type": "code",
   "execution_count": 132,
   "metadata": {},
   "outputs": [
    {
     "name": "stdout",
     "output_type": "stream",
     "text": [
      "__init__\n",
      "buy_home\n",
      "occupy\n",
      "rent_home\n",
      "story_to_text\n",
      "writeAttributes\n",
      "writeGaveUpHomeBuySearch\n",
      "writeGaveUpHomeRentSearchMoney\n",
      "writeGaveUpHomeRentSearchStock\n",
      "writeHomeBuy\n",
      "writeHomeRent\n",
      "writeOccupy\n",
      "writeOwnsOccupies\n",
      "writeResides\n",
      "writeStartHomeBuySearch\n",
      "writeStartHomeRentSearch\n"
     ]
    }
   ],
   "source": [
    "methods = sorted(str(name) for name, obj in inspect.getmembers(desaster.entities.OwnerHousehold) if inspect.isfunction(obj))\n",
    "for i in methods: print(i)"
   ]
  },
  {
   "cell_type": "markdown",
   "metadata": {
    "nbpresent": {
     "id": "82ea73e7-3af1-4c0e-917f-a2c8c211f877"
    }
   },
   "source": [
    "## Setup the Simulation Environment, Define Parameter Distributions, and Populate with Households, Recovery Programs, and Recovery Policies"
   ]
  },
  {
   "cell_type": "markdown",
   "metadata": {
    "nbpresent": {
     "id": "674d14b6-8c36-4fdb-aa62-2082abb1ade9"
    }
   },
   "source": [
    "__Set Simpy simulation environment__"
   ]
  },
  {
   "cell_type": "code",
   "execution_count": 133,
   "metadata": {
    "collapsed": true,
    "nbpresent": {
     "id": "4b32e43c-2ad8-4103-ab07-110178d9f224"
    }
   },
   "outputs": [],
   "source": [
    "env = simpy.Environment()"
   ]
  },
  {
   "cell_type": "markdown",
   "metadata": {
    "nbpresent": {
     "id": "60da519d-86e8-4159-a232-897fe476c53c"
    }
   },
   "source": [
    "__Indicate whether the simulation will keep track of the stories of each entity in the simulation. This can also be set individually for each group of imported entities (e.g., each call to an entities.Entity class or subclass.__"
   ]
  },
  {
   "cell_type": "code",
   "execution_count": 134,
   "metadata": {
    "collapsed": true,
    "nbpresent": {
     "id": "219edad0-ba39-4977-8836-3bbf81b33cf5"
    }
   },
   "outputs": [],
   "source": [
    "write_story = True"
   ]
  },
  {
   "cell_type": "markdown",
   "metadata": {
    "nbpresent": {
     "id": "c3e629b0-ac2a-4222-a944-939a885c034a"
    }
   },
   "source": [
    "__Define the probability distributions that can be used in the simulation to define various recovery program process event durations.__"
   ]
  },
  {
   "cell_type": "code",
   "execution_count": 135,
   "metadata": {
    "collapsed": true
   },
   "outputs": [],
   "source": [
    "fema_ia_dist = norm(loc = 10, scale = 0)\n",
    "sba_home_sba_dist = norm(loc = 10, scale = 0)\n",
    "sba_biz_sba_dist = norm(loc = 10, scale = 0)\n",
    "insurance_dist = norm(loc = 10, scale = 0)\n",
    "start_delay_dist = norm(loc = 10, scale = 0)\n",
    "inspection_dist = norm(loc = 0.5, scale = 0)\n",
    "assessment_dist = norm(loc = 10, scale = 0)\n",
    "permitting_dist = norm(loc = 10, scale = 0)\n",
    "repair_dist = norm(loc = 10, scale = 0)\n",
    "demolition_dist = norm(loc = 10, scale = 0)\n",
    "occupy_dist = norm(loc = 10, scale = 0)\n",
    "rent_home_dist = norm(loc = 10, scale = 0)\n",
    "buy_home_dist = norm(loc = 10, scale = 0)\n",
    "\n",
    "declaration = norm.rvs(loc = 30, scale = 0) # Placeholder deterministic scalar that defines number of days before federal disaster declared\n",
    "sba_deadline = norm.rvs(loc = 60, scale = 0) # Typically duration in days after declaration that SBA applications must be submitted"
   ]
  },
  {
   "cell_type": "markdown",
   "metadata": {},
   "source": [
    "__Instantiate the recovery program objects that will be used in the simulation. Each recovery program requires\n",
    "specification of a duration probability distribution (set above). Unlike shown below, the distributions do not have to be the same for each program. Currently all are the same scalars to simplify interpretation and debugging.__"
   ]
  },
  {
   "cell_type": "code",
   "execution_count": 136,
   "metadata": {
    "collapsed": true
   },
   "outputs": [],
   "source": [
    "# Instantiate a FEMA Individual Assistance program\n",
    "fema_ia = HousingAssistanceFEMA(env, staff=100, budget=10000000, duration=fema_ia_dist, max_outlay=30000,\n",
    "                                  deadline=540, declaration=declaration)\n",
    "# Instantiate a SBA Loan program to use w/ OwnerHouseholds\n",
    "sba_home_loan = RealPropertyLoanSBA(env, officers=10, inspectors=10, duration=sba_home_sba_dist, max_loan = 200000, \n",
    "                            min_credit = 600, deadline=sba_deadline, declaration=declaration)\n",
    "# Instantiate a SBA Loan program to use w/ Landlords (higher maximum for businesses)\n",
    "sba_biz_loan = RealPropertyLoanSBA(env, officers=10, inspectors=10, duration=sba_biz_sba_dist, \n",
    "                           max_loan = 2000000, deadline=sba_deadline, declaration=declaration) # SBA max biz loan = $2mil\n",
    "# Instantiate a private insurance program\n",
    "insurance = OwnersInsurance(env, staff=100, deductible=0.0, duration=insurance_dist)\n",
    "# Instantiate a rapid inspeaction (tagging) program\n",
    "inspection = InspectionProgram(env, staff=1000, duration=inspection_dist)\n",
    "# Instantiate a detailed engineering assessment program\n",
    "assessment = EngineeringAssessment(env, staff=1000, duration=assessment_dist)\n",
    "# Instantiate a building permit processing program\n",
    "permitting = PermitProgram(env, staff=1000, duration=permitting_dist) \n",
    "# Instantiate a program to represent private repair contractors\n",
    "repair = RepairProgram(env, staff=1000, materials=1000000000, duration=repair_dist)\n",
    "# Instantiate a program to represent private demolition contractors\n",
    "demolition = DemolitionProgram(env, staff=1000, duration=demolition_dist)"
   ]
  },
  {
   "cell_type": "markdown",
   "metadata": {},
   "source": [
    "__Instantiate any recovery policies. Policies are custom classes that define different recovery program arrangements, sequences, logic, patience, etc. Currently only one is written. Policy classes also provides an example of how to model entity \"patience\" and process interuption.__"
   ]
  },
  {
   "cell_type": "code",
   "execution_count": 137,
   "metadata": {
    "collapsed": true
   },
   "outputs": [],
   "source": [
    "insurance_ia_sba_seq = Insurance_IA_SBA_Sequential(env)\n",
    "insurance_ia_sba_para = Insurance_IA_SBA_Parallel(env)\n",
    "insurance_firstthen_ia_sba_para = Insurance_FirstThen_IA_SBA_Parallel(env)\n",
    "insurance_sba_seq = Insurance_SBA_Sequential(env)\n",
    "insurance_sba_para = Insurance_SBA_Parallel(env)\n",
    "repair_stock = RepairVacantBuilding(env)"
   ]
  },
  {
   "cell_type": "markdown",
   "metadata": {
    "nbpresent": {
     "id": "ba511c7a-6df4-4ba1-a590-dbcb877c1c5d"
    }
   },
   "source": [
    "__Create empty Simpy FilterStores to use as housing stocks.__"
   ]
  },
  {
   "cell_type": "code",
   "execution_count": 138,
   "metadata": {
    "collapsed": true,
    "nbpresent": {
     "id": "f462c94a-6efe-4376-a69e-c58cebcab9f2"
    }
   },
   "outputs": [],
   "source": [
    "owned_stock = FilterStore(env)  # To put the residences associated with owners\n",
    "rented_stock = FilterStore(env) # To put the residences associated with renters\n",
    "# housing_stock = FilterStore(env) # To put the residences associated with renters\n",
    "# forsale_stock = FilterStore(env) # To put the homes associated with vacant home sellers\n",
    "# forrent_stock = FilterStore(env) # To put the homes associated with vacant home landlords"
   ]
  },
  {
   "cell_type": "markdown",
   "metadata": {},
   "source": [
    "__Create a list of OwnerHousehold objects based on input data. Place each associated residence in the rented housing stock.__"
   ]
  },
  {
   "cell_type": "code",
   "execution_count": 139,
   "metadata": {
    "nbpresent": {
     "id": "0a1a343c-01a9-43a3-9309-fb83ddc13acc"
    }
   },
   "outputs": [],
   "source": [
    "owners = importEntities(env, owners_df, 'OwnerHousehold', owned_stock, write_story)"
   ]
  },
  {
   "cell_type": "code",
   "execution_count": 140,
   "metadata": {},
   "outputs": [
    {
     "data": {
      "text/plain": [
       "['Fish has $100 of savings and a credit score of 700. ',\n",
       " 'Fish resides at 26000 Out There Lane. ',\n",
       " 'Fish owns and occupies a 3 bedroom single family dwelling worth $558,000. ']"
      ]
     },
     "execution_count": 140,
     "metadata": {},
     "output_type": "execute_result"
    }
   ],
   "source": [
    "owners[3].story"
   ]
  },
  {
   "cell_type": "markdown",
   "metadata": {},
   "source": [
    "__Create a list of RenterHousehold objects based on input data. Place each associated residence in the rented housing stock.__"
   ]
  },
  {
   "cell_type": "code",
   "execution_count": 141,
   "metadata": {
    "nbpresent": {
     "id": "422d741a-01e2-4fee-bf86-ac07ba86cb2e"
    }
   },
   "outputs": [],
   "source": [
    "renters = importEntities(env, renters_df, 'RenterHousehold', rented_stock, write_story)"
   ]
  },
  {
   "cell_type": "code",
   "execution_count": 142,
   "metadata": {},
   "outputs": [
    {
     "data": {
      "text/plain": [
       "['Alice is owner and landlord of a 1 bedroom mobile home worth $279,000. ']"
      ]
     },
     "execution_count": 142,
     "metadata": {},
     "output_type": "execute_result"
    }
   ],
   "source": [
    "renters[0].landlord.story"
   ]
  },
  {
   "cell_type": "markdown",
   "metadata": {},
   "source": [
    "# Specify master processes for Landlords, OwnerHouseholds, and Renter Households\n",
    "Note: Master processes define custom, case-specific, scenario-based, or user-defined logic for modeled entities. They are not \"hard coded\" processes or policies in DESaster."
   ]
  },
  {
   "cell_type": "markdown",
   "metadata": {},
   "source": [
    "*A listing of arguments for each of the recovery programs and policies to help write master processes.*"
   ]
  },
  {
   "cell_type": "code",
   "execution_count": 143,
   "metadata": {},
   "outputs": [
    {
     "name": "stdout",
     "output_type": "stream",
     "text": [
      "HousingAssistanceFEMA.process ['self', 'entity', 'callbacks']\n",
      "RealPropertyLoanSBA.process ['self', 'entity', 'callbacks']\n",
      "RealPropertyLoanSBA.process ['self', 'entity', 'callbacks']\n",
      "OwnersInsurance.process ['self', 'entity', 'callbacks']\n",
      "InspectionProgram.process ['self', 'structure', 'entity', 'callbacks']\n",
      "EngineeringAssessment.process ['self', 'structure', 'entity', 'callbacks']\n",
      "PermitProgram.process ['self', 'structure', 'entity', 'callbacks']\n",
      "RepairProgram.process ['self', 'structure', 'entity', 'callbacks']\n",
      "DemolitionProgram.process ['self', 'structure', 'entity', 'callbacks']\n",
      "Insurance_IA_SBA_Sequential.policy ['self', 'insurance_program', 'fema_program', 'sba_program', 'entity', 'search_patience']\n",
      "Insurance_IA_SBA_Parallel.policy ['self', 'insurance_program', 'fema_program', 'sba_program', 'entity', 'search_patience']\n",
      "Insurance_FirstThen_IA_SBA_Parallel.policy ['self', 'insurance_program', 'fema_program', 'sba_program', 'entity', 'search_patience']\n",
      "Insurance_SBA_Sequential.policy ['self', 'insurance_program', 'sba_program', 'entity', 'search_patience']\n",
      "Insurance_SBA_Parallel.policy ['self', 'insurance_program', 'sba_program', 'entity', 'search_patience']\n",
      "RepairVacantBuilding.policy ['self', 'inspection_program', 'assessment_program', 'permit_program', 'repair_program', 'entity', 'building_stock', 'repair_probability', 'wait_time']\n"
     ]
    }
   ],
   "source": [
    "def list_args(programs_policies):\n",
    "    for p in programs_policies:\n",
    "        print(str(p.__func__)[10:-16], inspect.getfullargspec(p).args) # Useful to determine the arguments for the recovery programs\n",
    "\n",
    "programs_policies = [fema_ia.process, sba_home_loan.process, sba_biz_loan.process, insurance.process, \n",
    "                     inspection.process, assessment.process, permitting.process, repair.process, \n",
    "                     demolition.process, insurance_ia_sba_seq.policy, insurance_ia_sba_para.policy, \n",
    "                     insurance_firstthen_ia_sba_para.policy, insurance_sba_seq.policy, insurance_sba_para.policy, \n",
    "                     repair_stock.policy]\n",
    "\n",
    "list_args(programs_policies)"
   ]
  },
  {
   "cell_type": "markdown",
   "metadata": {},
   "source": [
    "__A really basic custom master process as an example of how to create one.__"
   ]
  },
  {
   "cell_type": "code",
   "execution_count": 144,
   "metadata": {
    "collapsed": true
   },
   "outputs": [],
   "source": [
    "def basic_process(inspection_program, assessment_program, permit_program, repair_program, entity):\n",
    "        yield env.process(inspection_program.process(entity.property, entity))\n",
    "        yield env.process(assessment_program.process(entity.property, entity))\n",
    "        yield env.process(permit_program.process(entity.property, entity))\n",
    "        yield env.process(repair_program.process(entity.property, entity))"
   ]
  },
  {
   "cell_type": "markdown",
   "metadata": {
    "nbpresent": {
     "id": "6872528b-8992-44ce-8de9-79a318a19eec"
    }
   },
   "source": [
    "__A custom master process for Landlords. Landlords are the owners of renters' residences and so are the ones to seek financial assistance for repairs.__"
   ]
  },
  {
   "cell_type": "code",
   "execution_count": 145,
   "metadata": {
    "collapsed": true,
    "nbpresent": {
     "id": "7be4185f-0a7d-449c-b02d-cb35947db032"
    }
   },
   "outputs": [],
   "source": [
    "# def landlord_process(env, inspection_program, insurance_program, loan_program, \n",
    "#                  assessment_program, permit_program, demolish_program, repair_program, entity):\n",
    "    \n",
    "#     money_patience = 100000  # days until give up the search for repair money\n",
    "    \n",
    "#     # Do inspection after inspectors are mobilized\n",
    "#     yield env.timeout(start_delay_dist.rvs())\n",
    "#     yield env.process(inspection_program.process(entity.property, entity)) \n",
    "    \n",
    "#     # Simulate damaged properties\n",
    "#     if entity.property.damage_state != 'None': \n",
    "         \n",
    "#         # If is extensively/completely damaged, evict tenant. Eventually initiate temp/transition shelter etc.\n",
    "#         if entity.property.damage_state == 'Extensive' or entity.property.damage_state == 'Complete':\n",
    "#             print(entity.name + ' 3')\n",
    "#             entity.evict_tenant()\n",
    "\n",
    "#         # Landlord search for financial assistance using an Insurance_SBA policy. Note two alternate versions \n",
    "#         # can be used: insurance_sba_para or insurance_sba_seq. Paste in the desired policy approach below.\n",
    "#         yield env.process(insurance_sba_seq.policy(insurance_program, loan_program, entity, money_patience)) # Sequential\n",
    "\n",
    "#         # If landlord gives up looking for recovery funds, evict their tenant\n",
    "#         if entity.gave_up_funding_search != None:\n",
    "#             entity.evict_tenant()\n",
    "            \n",
    "#             if entity.write_story:\n",
    "#                 entity.story.append(\n",
    "#                 '{0} decided not to repair their {1}. '.format(\n",
    "#                 entity.name, entity.property.occupancy.lower()\n",
    "#                                                                 )\n",
    "#                                     )\n",
    "#             return\n",
    "        \n",
    "#         # If has enough recovery funds, repair; if not, evict tenant.\n",
    "#         if entity.recovery_funds.level >= entity.property.damage_value:\n",
    "#             yield env.process(assessment_program.process(entity.property, entity))\n",
    "#             yield env.process(permit_program.process(entity.property, entity))\n",
    "            \n",
    "#             # Demolish property if > extensive damage\n",
    "#             if entity.property.damage_state == 'Extensive' or entity.property.damage_state == 'Complete':\n",
    "#                 yield env.process(demolish_program.process(entity.property, entity))\n",
    "#             yield env.process(repair_program.process(entity.property, entity))\n",
    "#         else:\n",
    "#             if entity.tenant.residence != None:\n",
    "#                 entity.evict_tenant()  "
   ]
  },
  {
   "cell_type": "markdown",
   "metadata": {},
   "source": [
    "__A custom master process for OwnerHouseholds (owner occupiers). Don't do anything if no damage suffered. If residence damage is \"Complete\", abandon home and look to buy a different one. Otherwise look for financial assistance for repairs. If money for repairs can't be found (patience runs out), look for a new home. If home search patience runs out, simply stop.__"
   ]
  },
  {
   "cell_type": "code",
   "execution_count": 146,
   "metadata": {
    "collapsed": true
   },
   "outputs": [],
   "source": [
    "def owner_process(env, inspection_program, insurance_program, fema_program, loan_program, \n",
    "                 assessment_program, permit_program, demolish_program, rebuild_program, owned_stock, rented_stock, entity):\n",
    "    \n",
    "    money_patience = 200000  # days until give up the search for rebuild money\n",
    "    home_patience = 15000  # days until give up the search for a new home\n",
    "    \n",
    "    # Do inspections after inspectors are mobilized\n",
    "    yield env.timeout(start_delay_dist.rvs())\n",
    "    yield env.process(inspection_program.process(entity.property, entity))\n",
    "    \n",
    "    # Process damaged properties\n",
    "    if entity.property.damage_state == 'None':\n",
    "        yield env.process(entity.occupy(duration = occupy_dist))   \n",
    "    else:\n",
    "        \n",
    "        if entity.property.damage_state == 'Extensive' or entity.property.damage_state == 'Complete':\n",
    "            yield env.process(entity.rent_home(rented_stock, rent_home_dist, search_patience = home_patience,\n",
    "                                              permanent = False))\n",
    "\n",
    "        # Homeowner search for financial assistance using an Insurance_SBA policy. Note two alternate versions \n",
    "        # can be used: insurance_ia_sba_para, insurance_ia_sba_seq, and insurance_firstthen_ia_sba_para. \n",
    "        # Paste in the desired policy approach below.\n",
    "        yield env.process(insurance_firstthen_ia_sba_para.policy(insurance_program, fema_program,\n",
    "                                                   loan_program, entity, money_patience))\n",
    "\n",
    "        # If not enough money to repair home or home completely damaged, search for a new home to purchase.\n",
    "        if (entity.recovery_funds.level < entity.property.damage_value or\n",
    "                entity.property.damage_state == 'Complete'):\n",
    "            yield env.process(entity.buy_home(owned_stock, buy_home_dist, down_payment_pct = 0.10,\n",
    "                                                  search_patience = home_patience))\n",
    "            \n",
    "            if entity.gave_up_home_buy_search == None:\n",
    "                yield env.process(entity.occupy(duration = occupy_dist))\n",
    "            \n",
    "            return\n",
    "        # Otherwise repair home.       \n",
    "        elif entity.recovery_funds.level >= entity.property.damage_value:\n",
    "            \n",
    "            yield env.process(assessment_program.process(entity.property, entity))\n",
    "            yield env.process(permit_program.process(entity.property, entity))\n",
    "            if entity.property.damage_state == 'Extensive' or entity.property.damage_state == 'Complete':\n",
    "                yield env.process(demolish_program.process(entity.property, entity))\n",
    "            yield env.process(rebuild_program.process(entity.property, entity))    \n",
    "            yield env.process(entity.occupy(duration = occupy_dist))     "
   ]
  },
  {
   "cell_type": "markdown",
   "metadata": {},
   "source": [
    "__A custom master process for RenterHouseholds. For the most part it simply initiates a process for their landlords. If they are evicted by their landlords, the renter will look for a new home. If home search patience runs out, simply stop. Otherwise, occupy home after landlord repairs it.__"
   ]
  },
  {
   "cell_type": "code",
   "execution_count": 147,
   "metadata": {
    "collapsed": true,
    "nbpresent": {
     "id": "7872bd09-acde-43e0-a022-ab468070e863"
    }
   },
   "outputs": [],
   "source": [
    "# def renter_process(env, inspection_program, landlord_insurance, \n",
    "#                    landlord_loan, assessment_program, permit_program, demolish_program, rebuild_program, \n",
    "#                    search_stock, entity):\n",
    "        \n",
    "#     money_patience = 365  # days until give up the search for rebuild money\n",
    "#     home_patience = 550  # days until give up the search for a new home\n",
    "    \n",
    "#     # Process damaged homes\n",
    "#     if entity.residence.damage_state == 'None':\n",
    "#         yield env.process(entity.occupy(duration = occupy_dist))\n",
    "    \n",
    "#     else:\n",
    "#         # Process landlord property repairs\n",
    "#         yield env.process(landlord_process(env, inspection_program, landlord_insurance, \n",
    "#                                 landlord_loan, assessment_program, permit_program, demolish_program, \n",
    "#                                 rebuild_program, entity.landlord))\n",
    "   \n",
    "#         # Check to see if renter has a residence, occupy if so.\n",
    "#         if entity.residence != None:\n",
    "#             yield env.process(entity.occupy(duration = occupy_dist))\n",
    "#         # Otherwise look for a new residence\n",
    "#         else:\n",
    "#             yield env.process(entity.rent_home(search_stock, rent_home_dist, search_patience = home_patience))\n",
    "\n",
    "#             if not entity.gave_up_home_rent_search:\n",
    "#                     yield env.process(entity.occupy(duration = occupy_dist))\n",
    "        \n",
    "#         # For printing and viz convenience, add the landlord's story to renter's story\n",
    "#         entity.story += entity.landlord.story"
   ]
  },
  {
   "cell_type": "code",
   "execution_count": 148,
   "metadata": {
    "collapsed": true
   },
   "outputs": [],
   "source": [
    "def landlord_process(env, insurance_program, loan_program, \n",
    "                 assessment_program, permit_program, demolish_program, repair_program, entity):\n",
    "    \n",
    "    money_patience = 100000  # days until give up the search for repair money\n",
    "    \n",
    "    # Simulate damaged properties\n",
    "    if entity.property.damage_state != 'None': \n",
    "         \n",
    "        # Landlord search for financial assistance using an Insurance_SBA policy. Note two alternate versions \n",
    "        # can be used: insurance_sba_para or insurance_sba_seq. Paste in the desired policy approach below.\n",
    "        yield env.process(insurance_sba_seq.policy(insurance_program, loan_program, entity, money_patience)) # Sequential\n",
    "        print('1!')\n",
    "        # If landlord gives up looking for recovery funds, evict their tenant\n",
    "        if entity.gave_up_funding_search != None:\n",
    "            entity.evict_tenant()\n",
    "            \n",
    "            if entity.write_story:\n",
    "                entity.story.append(\n",
    "                '{0} decided not to repair their {1}. '.format(\n",
    "                entity.name, entity.property.occupancy.lower()\n",
    "                                                                )\n",
    "                                    )\n",
    "            return\n",
    "        \n",
    "        # If has enough recovery funds, repair; if not, evict tenant.\n",
    "        if entity.recovery_funds.level >= entity.property.damage_value:\n",
    "            print('2!')\n",
    "            yield env.process(assessment_program.process(entity.property, entity))\n",
    "            print('3!')\n",
    "            yield env.process(permit_program.process(entity.property, entity))\n",
    "            print('3!')\n",
    "            \n",
    "            # Demolish property if > extensive damage\n",
    "            if entity.property.damage_state == 'Extensive' or entity.property.damage_state == 'Complete':\n",
    "                yield env.process(demolish_program.process(entity.property, entity))\n",
    "            yield env.process(repair_program.process(entity.property, entity))\n",
    "        else:\n",
    "            if entity.tenant.residence != None:\n",
    "                entity.evict_tenant()  "
   ]
  },
  {
   "cell_type": "code",
   "execution_count": 149,
   "metadata": {},
   "outputs": [],
   "source": [
    "def renter_process(env, landlord_process, inspection_program, search_stock, entity):\n",
    "        \n",
    "    home_patience = 550  # days until give up the search for a new home\n",
    "    \n",
    "    # Do inspection after inspectors are mobilized\n",
    "    yield env.timeout(start_delay_dist.rvs())\n",
    "    yield env.process(inspection_program.process(entity.landlord.property, entity.landlord)) \n",
    "      \n",
    "    if entity.residence.damage_state == 'None':\n",
    "        yield env.process(entity.occupy(duration = occupy_dist))\n",
    "    else:\n",
    "         # If is extensively/completely damaged, evict tenant.\n",
    "        if entity.residence.damage_state == 'Extensive' or entity.residence.damage_state == 'Complete':\n",
    "            yield env.process(entity.landlord.evict_tenant())\n",
    "            \n",
    "            print(entity.name, 'searching!')\n",
    "            rent_home_start = env.process(entity.rent_home(search_stock, rent_home_dist, search_patience = home_patience))\n",
    "            \n",
    "            yield rent_home_start | env.process(landlord_process)\n",
    "#             yield rent_home_start\n",
    "\n",
    "            \n",
    "            if rent_home_start.processed and entity.residence != None:\n",
    "                yield env.process(entity.occupy(duration = occupy_dist))\n",
    "        else:\n",
    "            yield env.process(entity.occupy(duration = occupy_dist))\n",
    "    \n",
    "        # For printing and viz convenience, add the landlord's story to renter's story\n",
    "        entity.story += entity.landlord.story"
   ]
  },
  {
   "cell_type": "markdown",
   "metadata": {},
   "source": [
    "__Initiate the master process for each owner to be modeled in the simulation.__"
   ]
  },
  {
   "cell_type": "code",
   "execution_count": 150,
   "metadata": {
    "collapsed": true
   },
   "outputs": [],
   "source": [
    "# #inspect.getfullargspec(owner_process).args # Useful to determine what arguments are required for the process.\n",
    "\n",
    "# for i in range(len(owners)):\n",
    "#     env.process(owner_process(env, inspection, insurance, fema_ia, sba_home_loan, \n",
    "#                                     assessment, permitting, demolition, repair,\n",
    "#                                     owned_stock, rented_stock, owners[i]))"
   ]
  },
  {
   "cell_type": "markdown",
   "metadata": {},
   "source": [
    "__Initiate the master process for each renter to be modeled in the simulation.__"
   ]
  },
  {
   "cell_type": "code",
   "execution_count": 151,
   "metadata": {
    "collapsed": true,
    "nbpresent": {
     "id": "ec9beb28-1118-43d1-9993-11d28a0196ef"
    }
   },
   "outputs": [],
   "source": [
    "# # # #inspect.getfullargspec(renter_process).args # Useful to determine what arguments are required for the process.\n",
    "\n",
    "# for i in range(len(renters)):\n",
    "#     env.process(renter_process(env, inspection, insurance, sba_biz_loan, assessment, permitting, \n",
    "#                                     demolition, repair, rented_stock, renters[i]))"
   ]
  },
  {
   "cell_type": "code",
   "execution_count": 152,
   "metadata": {},
   "outputs": [],
   "source": [
    "# # #inspect.getfullargspec(renter_process).args # Useful to determine what arguments are required for the process.\n",
    "\n",
    "\n",
    "for i in range(len(renters)):\n",
    "    landlord_start = landlord_process(env, insurance, sba_biz_loan, assessment, permitting, \n",
    "                                    demolition, repair, renters[i].landlord)\n",
    "    \n",
    "    env.process(renter_process(env, landlord_start, inspection, rented_stock, renters[i]))"
   ]
  },
  {
   "cell_type": "code",
   "execution_count": 153,
   "metadata": {},
   "outputs": [],
   "source": [
    "# # # #inspect.getfullargspec(landlord_process).args # Useful to determine what arguments are required for the process.\n",
    "# #     \n",
    "# for i in range(len(renters)):\n",
    "#     env.process(landlord_process(env, inspection, insurance, sba_biz_loan, assessment, permitting, \n",
    "#                                     demolition, repair, renters[i].landlord))"
   ]
  },
  {
   "cell_type": "markdown",
   "metadata": {},
   "source": [
    "## Run the simulation"
   ]
  },
  {
   "cell_type": "code",
   "execution_count": 154,
   "metadata": {
    "nbpresent": {
     "id": "aeabefd9-8ded-4a8c-a6e3-83f73b64144a"
    },
    "scrolled": true
   },
   "outputs": [
    {
     "name": "stdout",
     "output_type": "stream",
     "text": [
      "Oswald searching!\n",
      "James searching!\n",
      "1!\n",
      "2!\n",
      "1!\n",
      "2!\n"
     ]
    }
   ],
   "source": [
    "env.run()"
   ]
  },
  {
   "cell_type": "code",
   "execution_count": 155,
   "metadata": {},
   "outputs": [
    {
     "data": {
      "text/plain": [
       "['Oswald has $1000000 of savings and a credit score of 700. ',\n",
       " 'Oswald resides at 2301 Other Ave. ',\n",
       " 'Oswald rents a 0 room single family dwelling owned by Gerry. ',\n",
       " 'Oswald was evicted because the single family dwelling had extensive damage. ',\n",
       " 'Oswald started searching to rent a single family dwelling 10 days after the event. ',\n",
       " 'On day 20, Oswald rented a single family dwelling at 101 Old Ave with a rent of $3,720. ',\n",
       " 'Oswald occupied the single family dwelling 30 days after the event. ',\n",
       " 'Gerry is owner and landlord of a 0 bedroom single family dwelling worth $139,500. ',\n",
       " \"Gerry's single family dwelling was inspected 10 days after the event. \",\n",
       " 'It was found to have a damage level of extensive and was irreparable. ',\n",
       " 'The value of the damage was $62,356. ',\n",
       " 'Gerry submitted an insurance claim 10 days after the event. ',\n",
       " 'Gerry received a $62,356 insurance payout 20 days after the event. ',\n",
       " 'It took Gerry 10 days to exhaust financial assistance options and now has $92,356 for repairs or replacement. ']"
      ]
     },
     "execution_count": 155,
     "metadata": {},
     "output_type": "execute_result"
    }
   ],
   "source": [
    "renters[2].story"
   ]
  },
  {
   "cell_type": "code",
   "execution_count": 156,
   "metadata": {},
   "outputs": [
    {
     "name": "stdout",
     "output_type": "stream",
     "text": [
      "262 That St : False\n",
      "4720 This Rd : False\n",
      "100 Old Ave : True\n",
      "102 Old Ave : True\n",
      "341 Where St : True\n",
      "9900 Nowhere St : True\n",
      "101 Old Ave : False\n",
      "2301 Other Ave : True\n",
      "74000 Out There Lane : True\n",
      "103 Old Ave : True\n"
     ]
    }
   ],
   "source": [
    "for item in rented_stock.items:\n",
    "    print(item.address, ':', item.listed)\n"
   ]
  },
  {
   "cell_type": "code",
   "execution_count": 157,
   "metadata": {},
   "outputs": [
    {
     "ename": "SyntaxError",
     "evalue": "invalid syntax (<ipython-input-157-275401fdacea>, line 1)",
     "output_type": "error",
     "traceback": [
      "\u001b[0;36m  File \u001b[0;32m\"<ipython-input-157-275401fdacea>\"\u001b[0;36m, line \u001b[0;32m1\u001b[0m\n\u001b[0;31m    d =\u001b[0m\n\u001b[0m       ^\u001b[0m\n\u001b[0;31mSyntaxError\u001b[0m\u001b[0;31m:\u001b[0m invalid syntax\n"
     ]
    }
   ],
   "source": [
    "d ="
   ]
  },
  {
   "cell_type": "markdown",
   "metadata": {
    "nbpresent": {
     "id": "7ba728c6-b364-4ad6-9073-20a83a0cbe5c"
    }
   },
   "source": [
    "# Summarize and visualize simulation outputs"
   ]
  },
  {
   "cell_type": "markdown",
   "metadata": {
    "nbpresent": {
     "id": "7d4aada5-0d56-481e-b318-6f7a13dcd8a2"
    }
   },
   "source": [
    "## OwnerHousehold summary statistics"
   ]
  },
  {
   "cell_type": "code",
   "execution_count": null,
   "metadata": {
    "nbpresent": {
     "id": "b3eb9288-806e-4978-b30a-93cb80d880e0"
    },
    "scrolled": false
   },
   "outputs": [],
   "source": [
    "output_summary(owners, 'OwnerHousehold')"
   ]
  },
  {
   "cell_type": "code",
   "execution_count": null,
   "metadata": {},
   "outputs": [],
   "source": [
    "owners[0].property"
   ]
  },
  {
   "cell_type": "code",
   "execution_count": null,
   "metadata": {},
   "outputs": [],
   "source": [
    "entities = owners\n",
    "\n",
    "num_damaged = 0\n",
    "num_rebuilt = 0\n",
    "num_gave_up_funding_search = 0\n",
    "num_home_buy_get = 0\n",
    "num_home_buy_put = 0\n",
    "num_home_rent_get = 0\n",
    "num_home_rent_put = 0\n",
    "num_gave_up_home_buy_search = 0\n",
    "num_gave_up_home_rent_search = 0\n",
    "num_vacant_fixed = 0\n",
    "        \n",
    "for household in entities:\n",
    "    if household.residence.damage_state_start != None: num_damaged += 1\n",
    "    if household.repair_get != None: num_rebuilt += 1\n",
    "    if household.gave_up_funding_search: num_gave_up_funding_search += 1\n",
    "    if household.home_buy_put != None: num_home_buy_put += 1\n",
    "    if household.home_buy_get != None: num_home_buy_get += 1\n",
    "    if household.home_rent_put != None: num_home_buy_put += 1\n",
    "    if household.home_rent_get != None: num_home_buy_get += 1\n",
    "    if household.gave_up_home_buy_search: num_gave_up_home_buy_search += 1\n",
    "    if household.gave_up_home_rent_search: num_gave_up_home_rent_search += 1\n",
    "\n",
    "print('{0} out of {1} owners suffered damage to their homes.\\n'.format(num_damaged, len(entities)),\n",
    "  '{0} out of {1} owners rebuilt or repaired their damaged home.\\n'.format(num_rebuilt, len(entities)),\n",
    "    '{0} out of {1} owners gave up searching for money.\\n'.format(num_gave_up_funding_search, len(entities)),\n",
    "  '{0} out of {1} owners searched to buy a new home.\\n'.format(num_home_buy_put, len(entities)),\n",
    "    '{0} out of {1} owners bought a new home.\\n'.format(num_home_buy_get, len(entities)),\n",
    "    '{0} out of {1} owners searched to temporarily rent a new home.\\n'.format(num_home_rent_put, len(entities)),\n",
    "      '{0} out of {1} owners rented a temporary home.\\n'.format(num_home_rent_get, len(entities)),\n",
    "    '{0} out of {1} owners gave up searching to buy a home.'.format(num_gave_up_home_buy_search, len(entities)),\n",
    "    '{0} out of {1} owners gave up searching to rent a temporary home.'.format(num_gave_up_home_rent_search, len(entities))\n",
    "    )"
   ]
  },
  {
   "cell_type": "markdown",
   "metadata": {
    "nbpresent": {
     "id": "099821e3-0cad-402e-9da5-fda4bed7663e"
    }
   },
   "source": [
    "## Print OwnerHousehold stories"
   ]
  },
  {
   "cell_type": "code",
   "execution_count": null,
   "metadata": {
    "nbpresent": {
     "id": "950d3c2e-68b6-4ca2-a2f9-4094469ba2ae"
    },
    "scrolled": false
   },
   "outputs": [],
   "source": [
    "owners[0].story"
   ]
  },
  {
   "cell_type": "code",
   "execution_count": null,
   "metadata": {
    "nbpresent": {
     "id": "11e73bf1-4ef5-484b-81cd-936043f5b800"
    }
   },
   "outputs": [],
   "source": [
    "owners[1].story"
   ]
  },
  {
   "cell_type": "code",
   "execution_count": null,
   "metadata": {
    "nbpresent": {
     "id": "a653615f-5f7c-4d96-9430-9cde218c3ffc"
    },
    "scrolled": false
   },
   "outputs": [],
   "source": [
    "owners[2].story"
   ]
  },
  {
   "cell_type": "code",
   "execution_count": null,
   "metadata": {
    "nbpresent": {
     "id": "e45edacc-0055-418a-a65b-d06361b78f36"
    },
    "scrolled": false
   },
   "outputs": [],
   "source": [
    "owners[3].story"
   ]
  },
  {
   "cell_type": "markdown",
   "metadata": {
    "nbpresent": {
     "id": "17baf8a7-1023-4c2d-b6f2-5687736b081c"
    }
   },
   "source": [
    "## RenterHousehold summary statistics"
   ]
  },
  {
   "cell_type": "code",
   "execution_count": null,
   "metadata": {
    "collapsed": true,
    "nbpresent": {
     "id": "c98b8cee-da7d-435b-88a8-ecef564957cb"
    }
   },
   "outputs": [],
   "source": [
    "# output_summary(renters, 'RenterHousehold')"
   ]
  },
  {
   "cell_type": "markdown",
   "metadata": {
    "nbpresent": {
     "id": "04f9c8c8-adbb-4a0f-8a72-a6ed5bfccf91"
    }
   },
   "source": [
    "## Print RenterHousehold stories"
   ]
  },
  {
   "cell_type": "code",
   "execution_count": null,
   "metadata": {
    "nbpresent": {
     "id": "89bd7c5b-ec66-46bd-88cc-afbd144319ab"
    },
    "scrolled": true
   },
   "outputs": [],
   "source": [
    "renters[0].story"
   ]
  },
  {
   "cell_type": "code",
   "execution_count": null,
   "metadata": {
    "nbpresent": {
     "id": "eb7be125-07cc-4997-bc00-ec9562fd57b3"
    }
   },
   "outputs": [],
   "source": [
    "renters[1].story"
   ]
  },
  {
   "cell_type": "code",
   "execution_count": null,
   "metadata": {
    "scrolled": true
   },
   "outputs": [],
   "source": [
    "renters[2].story"
   ]
  },
  {
   "cell_type": "markdown",
   "metadata": {},
   "source": [
    "### vvvvvv WHY DOESN'T EVICTED RENTER FIND ITS OWN APARTMENT AGAIN?!?!?! vvvvvv"
   ]
  },
  {
   "cell_type": "code",
   "execution_count": null,
   "metadata": {},
   "outputs": [],
   "source": [
    "renters[2].story"
   ]
  },
  {
   "cell_type": "code",
   "execution_count": null,
   "metadata": {},
   "outputs": [],
   "source": [
    "renters[2].residence.address"
   ]
  },
  {
   "cell_type": "code",
   "execution_count": null,
   "metadata": {},
   "outputs": [],
   "source": [
    "renters[2].landlord.property.listed"
   ]
  },
  {
   "cell_type": "code",
   "execution_count": null,
   "metadata": {},
   "outputs": [],
   "source": [
    "d = "
   ]
  },
  {
   "cell_type": "code",
   "execution_count": null,
   "metadata": {
    "collapsed": true
   },
   "outputs": [],
   "source": [
    "df = households_to_df(owners)"
   ]
  },
  {
   "cell_type": "code",
   "execution_count": null,
   "metadata": {
    "collapsed": true
   },
   "outputs": [],
   "source": [
    "# outfile = '../outputs/' + str(datetime.now().hour) + str(datetime.now().minute) + str(datetime.now().day) \\\n",
    "#                  + str(datetime.now().month) + str(datetime.now().year) + '.csv'\n",
    "    \n",
    "# df.to_csv(outfile)"
   ]
  },
  {
   "cell_type": "code",
   "execution_count": null,
   "metadata": {
    "collapsed": true
   },
   "outputs": [],
   "source": [
    "event_list=[]\n",
    "\n",
    "for i in df.columns:\n",
    "    if \"get\" in i or \"put\" in i or \"stop\" in i or \"start\" in i or \"name\" in i or \"gave\" in i:\n",
    "        event_list.append(i)\n",
    "\n",
    "event_df = df[event_list]\n",
    "event_df = event_df.set_index('name')"
   ]
  },
  {
   "cell_type": "code",
   "execution_count": null,
   "metadata": {
    "collapsed": true
   },
   "outputs": [],
   "source": [
    "event_df"
   ]
  },
  {
   "cell_type": "markdown",
   "metadata": {},
   "source": [
    "__Visualize events experienced by an individual HomeOwner entity.__"
   ]
  },
  {
   "cell_type": "code",
   "execution_count": null,
   "metadata": {
    "collapsed": true
   },
   "outputs": [],
   "source": [
    "names = sorted([f for f in df['name']])\n",
    "\n",
    "name_chooser = Dropdown(\n",
    "    options=names\n",
    ")\n",
    "display(name_chooser)"
   ]
  },
  {
   "cell_type": "code",
   "execution_count": null,
   "metadata": {
    "collapsed": true
   },
   "outputs": [],
   "source": [
    "name = name_chooser.value\n",
    "\n",
    "name_row = df[df['name']==name][['inspection_put',\n",
    " 'inspection_get',\n",
    " 'claim_put',\n",
    " 'claim_get',\n",
    " 'fema_put',\n",
    " 'fema_get',\n",
    " 'sba_put',\n",
    " 'sba_get',\n",
    "'occupy_put',\n",
    "'occupy_get']]\n",
    "\n",
    "%matplotlib inline\n",
    "plt.figure(figsize=(10,10))\n",
    "sns.set_style(style=\"whitegrid\")\n",
    "sns.set(font_scale=2)\n",
    "ax = sns.stripplot(name_row.iloc[0], name_row.columns, jitter=True, size = 15, linewidth=1)\n",
    "ax.set(xlabel=\"Days After Event\", ylabel=\"Housing Recovery Events for {0}\".format(name))\n",
    "ax.set_xbound(lower=0)"
   ]
  },
  {
   "cell_type": "markdown",
   "metadata": {},
   "source": [
    "Map of outputs"
   ]
  },
  {
   "cell_type": "code",
   "execution_count": null,
   "metadata": {
    "collapsed": true
   },
   "outputs": [],
   "source": [
    "# outfile = '../outputs/' + 'folium_map_' + str(datetime.now().hour) + str(datetime.now().minute) + str(datetime.now().day) \\\n",
    "#                  + str(datetime.now().month) + str(datetime.now().year) + '.html'\n",
    "    \n",
    "# folium_map(df, outfile = outfile)"
   ]
  },
  {
   "cell_type": "markdown",
   "metadata": {},
   "source": [
    "Dashboard of outputs"
   ]
  },
  {
   "cell_type": "code",
   "execution_count": null,
   "metadata": {
    "collapsed": true
   },
   "outputs": [],
   "source": [
    "# outfile = '../outputs/' + 'dashboard_' + str(datetime.now().hour) + str(datetime.now().minute) + str(datetime.now().day) \\\n",
    "#                  + str(datetime.now().month) + str(datetime.now().year) + '.html'\n",
    "\n",
    "# dashboard(df, outfile = outfile)"
   ]
  }
 ],
 "metadata": {
  "anaconda-cloud": {},
  "kernelspec": {
   "display_name": "Python [default]",
   "language": "python",
   "name": "python3"
  },
  "language_info": {
   "codemirror_mode": {
    "name": "ipython",
    "version": 3
   },
   "file_extension": ".py",
   "mimetype": "text/x-python",
   "name": "python",
   "nbconvert_exporter": "python",
   "pygments_lexer": "ipython3",
   "version": "3.5.3"
  },
  "nbpresent": {
   "slides": {
    "c70bf630-c1ab-4568-8b60-1be60a4c6f14": {
     "id": "c70bf630-c1ab-4568-8b60-1be60a4c6f14",
     "layout": "grid",
     "prev": null,
     "regions": {
      "4937cfd3-95ef-472b-8bcb-0fe395034eeb": {
       "attrs": {
        "height": 0.75,
        "pad": 0.01,
        "treemap:weight": 1,
        "width": 0.3333333333333333,
        "x": 0.6666666666666666,
        "y": 0
       },
       "id": "4937cfd3-95ef-472b-8bcb-0fe395034eeb"
      },
      "5fbef4a8-e9f1-4a08-86db-46056e211b66": {
       "attrs": {
        "height": 0.75,
        "pad": 0.01,
        "treemap:weight": 1,
        "width": 0.3333333333333333,
        "x": 0.3333333333333333,
        "y": 0
       },
       "id": "5fbef4a8-e9f1-4a08-86db-46056e211b66"
      },
      "7ee15621-2c2c-44b3-b170-4eb63bd818cc": {
       "attrs": {
        "height": 0.25,
        "pad": 0.01,
        "treemap:weight": 1,
        "width": 1,
        "x": 0,
        "y": 0.75
       },
       "id": "7ee15621-2c2c-44b3-b170-4eb63bd818cc"
      },
      "fc201ce3-4473-4f2f-b833-b627be3edf18": {
       "attrs": {
        "height": 0.75,
        "pad": 0.01,
        "treemap:weight": 1,
        "width": 0.3333333333333333,
        "x": 0,
        "y": 0
       },
       "content": {
        "cell": "daf47265-2d0b-406e-bda0-4d5c93d295ab",
        "part": "source"
       },
       "id": "fc201ce3-4473-4f2f-b833-b627be3edf18"
      }
     }
    }
   },
   "themes": {}
  }
 },
 "nbformat": 4,
 "nbformat_minor": 1
}
