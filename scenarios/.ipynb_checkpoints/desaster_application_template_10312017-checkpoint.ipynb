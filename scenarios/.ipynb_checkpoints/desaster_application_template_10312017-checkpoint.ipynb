{
 "cells": [
  {
   "cell_type": "markdown",
   "metadata": {
    "nbpresent": {
     "id": "5d6821e5-6824-4330-a555-39b1dc08357a"
    }
   },
   "source": [
    "# DESaster Application Template\n",
    "v. 10312017"
   ]
  },
  {
   "cell_type": "markdown",
   "metadata": {
    "nbpresent": {
     "id": "1d3465f4-2fbf-4582-92e9-7c48d9cf82e6"
    }
   },
   "source": [
    "## Required Modules"
   ]
  },
  {
   "cell_type": "code",
   "execution_count": 1,
   "metadata": {
    "collapsed": true,
    "nbpresent": {
     "id": "efe0367b-ecea-4f68-8747-3507afa0a7e4"
    }
   },
   "outputs": [],
   "source": [
    "# System modules\n",
    "import sys, random, inspect\n",
    "from datetime import datetime\n",
    "from IPython.display import display\n",
    "import sys, inspect\n",
    "\n",
    "# Data analysis modules\n",
    "import pandas as pd\n",
    "import numpy as np\n",
    "from scipy.stats import uniform, norm, beta, weibull_min, rv_discrete\n",
    "import random\n",
    "from ipywidgets import Dropdown\n",
    "\n",
    "\n",
    "# SimPy modules\n",
    "import simpy\n",
    "from simpy import Resource, Container, FilterStore\n",
    "from simpy.util import start_delayed\n",
    "\n",
    "# Viz modules\n",
    "import matplotlib.pyplot as plt\n",
    "import seaborn as sns\n",
    "import folium\n",
    "from folium import plugins\n",
    "import branca.colormap as cm\n",
    "from folium.plugins import MarkerCluster\n",
    "from folium import Map, FeatureGroup, Marker, LayerControl\n",
    "\n",
    "### DESaster Modules\n",
    "desaster_path = \"/Users/geomando/Dropbox/github/DESaster\"\n",
    "sys.path.append(desaster_path)\n",
    "import desaster\n",
    "from desaster.io import *\n",
    "from desaster.structures import *\n",
    "from desaster.financial import *\n",
    "from desaster.technical import *\n",
    "from desaster.entities import *\n",
    "from desaster.policies import *\n",
    "from desaster.visualize import dashboard, folium_map"
   ]
  },
  {
   "cell_type": "markdown",
   "metadata": {
    "nbpresent": {
     "id": "cccae357-be1e-4cdd-b6da-33bc39eb27c2"
    }
   },
   "source": [
    "## Import Households Attribute Data\n",
    "Input data must be MS Excel .xlsx file with format (column names and sheet names) of ../inputs/desaster_input_data_template.xlsx"
   ]
  },
  {
   "cell_type": "code",
   "execution_count": 2,
   "metadata": {
    "collapsed": true,
    "nbpresent": {
     "id": "f5ad9903-feef-4cc1-865e-2632556532d1"
    }
   },
   "outputs": [],
   "source": [
    "scenario_file = '../inputs/desaster_input_data_template.xlsx'"
   ]
  },
  {
   "cell_type": "markdown",
   "metadata": {},
   "source": [
    "__Create Pandas dataframe of attribute data for all OwnerHouseholds to be modeled in the simulation.__"
   ]
  },
  {
   "cell_type": "code",
   "execution_count": 3,
   "metadata": {
    "nbpresent": {
     "id": "77a6f2a4-6ea6-484d-9de2-eba265cd3ce1"
    }
   },
   "outputs": [
    {
     "data": {
      "text/html": [
       "<div>\n",
       "<style>\n",
       "    .dataframe thead tr:only-child th {\n",
       "        text-align: right;\n",
       "    }\n",
       "\n",
       "    .dataframe thead th {\n",
       "        text-align: left;\n",
       "    }\n",
       "\n",
       "    .dataframe tbody tr th {\n",
       "        vertical-align: top;\n",
       "    }\n",
       "</style>\n",
       "<table border=\"1\" class=\"dataframe\">\n",
       "  <thead>\n",
       "    <tr style=\"text-align: right;\">\n",
       "      <th></th>\n",
       "      <th>owner</th>\n",
       "      <th>owner_income</th>\n",
       "      <th>owner_savings</th>\n",
       "      <th>owner_insurance</th>\n",
       "      <th>owner_credit</th>\n",
       "      <th>address</th>\n",
       "      <th>monthly_cost</th>\n",
       "      <th>move_in_cost</th>\n",
       "      <th>occupancy</th>\n",
       "      <th>tenure</th>\n",
       "      <th>bedrooms</th>\n",
       "      <th>bathrooms</th>\n",
       "      <th>area</th>\n",
       "      <th>year_built</th>\n",
       "      <th>value</th>\n",
       "      <th>damage_state</th>\n",
       "      <th>listed</th>\n",
       "      <th>longitude</th>\n",
       "      <th>latitude</th>\n",
       "    </tr>\n",
       "  </thead>\n",
       "  <tbody>\n",
       "    <tr>\n",
       "      <th>0</th>\n",
       "      <td>Alfred</td>\n",
       "      <td>60000</td>\n",
       "      <td>100000</td>\n",
       "      <td>0</td>\n",
       "      <td>700</td>\n",
       "      <td>62 That St</td>\n",
       "      <td>1482.755005</td>\n",
       "      <td>30690</td>\n",
       "      <td>Mobile Home</td>\n",
       "      <td>Owner Occupied</td>\n",
       "      <td>1</td>\n",
       "      <td>1</td>\n",
       "      <td>1100</td>\n",
       "      <td>1920</td>\n",
       "      <td>306900</td>\n",
       "      <td>Complete</td>\n",
       "      <td>False</td>\n",
       "      <td>-90.296127</td>\n",
       "      <td>43.224344</td>\n",
       "    </tr>\n",
       "    <tr>\n",
       "      <th>1</th>\n",
       "      <td>Bruce</td>\n",
       "      <td>1000000</td>\n",
       "      <td>100</td>\n",
       "      <td>1</td>\n",
       "      <td>700</td>\n",
       "      <td>720 This Rd</td>\n",
       "      <td>4043.877286</td>\n",
       "      <td>83700</td>\n",
       "      <td>Single Family Dwelling</td>\n",
       "      <td>Owner Occupied</td>\n",
       "      <td>4</td>\n",
       "      <td>3</td>\n",
       "      <td>3000</td>\n",
       "      <td>1920</td>\n",
       "      <td>837000</td>\n",
       "      <td>None</td>\n",
       "      <td>False</td>\n",
       "      <td>-90.295697</td>\n",
       "      <td>43.224219</td>\n",
       "    </tr>\n",
       "    <tr>\n",
       "      <th>2</th>\n",
       "      <td>Selena</td>\n",
       "      <td>45000</td>\n",
       "      <td>50000</td>\n",
       "      <td>0</td>\n",
       "      <td>700</td>\n",
       "      <td>1001 Other Ave</td>\n",
       "      <td>1010.969322</td>\n",
       "      <td>20925</td>\n",
       "      <td>Single Family Dwelling</td>\n",
       "      <td>Owner Occupied</td>\n",
       "      <td>2</td>\n",
       "      <td>1</td>\n",
       "      <td>750</td>\n",
       "      <td>1960</td>\n",
       "      <td>209250</td>\n",
       "      <td>None</td>\n",
       "      <td>False</td>\n",
       "      <td>-90.296706</td>\n",
       "      <td>43.223984</td>\n",
       "    </tr>\n",
       "    <tr>\n",
       "      <th>3</th>\n",
       "      <td>Fish</td>\n",
       "      <td>125000</td>\n",
       "      <td>100</td>\n",
       "      <td>0</td>\n",
       "      <td>700</td>\n",
       "      <td>26000 Out There Lane</td>\n",
       "      <td>2695.918191</td>\n",
       "      <td>55800</td>\n",
       "      <td>Single Family Dwelling</td>\n",
       "      <td>Owner Occupied</td>\n",
       "      <td>3</td>\n",
       "      <td>2</td>\n",
       "      <td>2000</td>\n",
       "      <td>2010</td>\n",
       "      <td>558000</td>\n",
       "      <td>None</td>\n",
       "      <td>False</td>\n",
       "      <td>-90.296642</td>\n",
       "      <td>43.223750</td>\n",
       "    </tr>\n",
       "    <tr>\n",
       "      <th>4</th>\n",
       "      <td>Jerome</td>\n",
       "      <td>100000000</td>\n",
       "      <td>100000000</td>\n",
       "      <td>1</td>\n",
       "      <td>700</td>\n",
       "      <td>100 New Ave</td>\n",
       "      <td>1449.418382</td>\n",
       "      <td>30000</td>\n",
       "      <td>Mobile Home</td>\n",
       "      <td>Owner Occupied</td>\n",
       "      <td>1</td>\n",
       "      <td>1</td>\n",
       "      <td>1100</td>\n",
       "      <td>1920</td>\n",
       "      <td>300000</td>\n",
       "      <td>None</td>\n",
       "      <td>True</td>\n",
       "      <td>-90.295054</td>\n",
       "      <td>43.224375</td>\n",
       "    </tr>\n",
       "    <tr>\n",
       "      <th>5</th>\n",
       "      <td>Barbara</td>\n",
       "      <td>100000000</td>\n",
       "      <td>100000000</td>\n",
       "      <td>1</td>\n",
       "      <td>700</td>\n",
       "      <td>101 New Ave</td>\n",
       "      <td>3865.115686</td>\n",
       "      <td>80000</td>\n",
       "      <td>Single Family Dwelling</td>\n",
       "      <td>Owner Occupied</td>\n",
       "      <td>4</td>\n",
       "      <td>3</td>\n",
       "      <td>3000</td>\n",
       "      <td>1920</td>\n",
       "      <td>800000</td>\n",
       "      <td>None</td>\n",
       "      <td>True</td>\n",
       "      <td>-90.294539</td>\n",
       "      <td>43.224391</td>\n",
       "    </tr>\n",
       "    <tr>\n",
       "      <th>6</th>\n",
       "      <td>Lucius</td>\n",
       "      <td>100000000</td>\n",
       "      <td>100000000</td>\n",
       "      <td>1</td>\n",
       "      <td>700</td>\n",
       "      <td>102 New Ave</td>\n",
       "      <td>1010.969322</td>\n",
       "      <td>20925</td>\n",
       "      <td>Single Family Dwelling</td>\n",
       "      <td>Owner Occupied</td>\n",
       "      <td>2</td>\n",
       "      <td>1</td>\n",
       "      <td>750</td>\n",
       "      <td>1960</td>\n",
       "      <td>209250</td>\n",
       "      <td>None</td>\n",
       "      <td>True</td>\n",
       "      <td>-90.295225</td>\n",
       "      <td>43.223953</td>\n",
       "    </tr>\n",
       "    <tr>\n",
       "      <th>7</th>\n",
       "      <td>Dick</td>\n",
       "      <td>100000000</td>\n",
       "      <td>100000000</td>\n",
       "      <td>1</td>\n",
       "      <td>700</td>\n",
       "      <td>103 New Ave</td>\n",
       "      <td>2415.697304</td>\n",
       "      <td>50000</td>\n",
       "      <td>Single Family Dwelling</td>\n",
       "      <td>Owner Occupied</td>\n",
       "      <td>3</td>\n",
       "      <td>2</td>\n",
       "      <td>2000</td>\n",
       "      <td>2010</td>\n",
       "      <td>500000</td>\n",
       "      <td>None</td>\n",
       "      <td>True</td>\n",
       "      <td>-90.295225</td>\n",
       "      <td>43.223718</td>\n",
       "    </tr>\n",
       "  </tbody>\n",
       "</table>\n",
       "</div>"
      ],
      "text/plain": [
       "     owner  owner_income  owner_savings  owner_insurance  owner_credit  \\\n",
       "0   Alfred         60000         100000                0           700   \n",
       "1    Bruce       1000000            100                1           700   \n",
       "2   Selena         45000          50000                0           700   \n",
       "3     Fish        125000            100                0           700   \n",
       "4   Jerome     100000000      100000000                1           700   \n",
       "5  Barbara     100000000      100000000                1           700   \n",
       "6   Lucius     100000000      100000000                1           700   \n",
       "7     Dick     100000000      100000000                1           700   \n",
       "\n",
       "                address  monthly_cost  move_in_cost               occupancy  \\\n",
       "0            62 That St   1482.755005         30690             Mobile Home   \n",
       "1           720 This Rd   4043.877286         83700  Single Family Dwelling   \n",
       "2        1001 Other Ave   1010.969322         20925  Single Family Dwelling   \n",
       "3  26000 Out There Lane   2695.918191         55800  Single Family Dwelling   \n",
       "4           100 New Ave   1449.418382         30000             Mobile Home   \n",
       "5           101 New Ave   3865.115686         80000  Single Family Dwelling   \n",
       "6           102 New Ave   1010.969322         20925  Single Family Dwelling   \n",
       "7           103 New Ave   2415.697304         50000  Single Family Dwelling   \n",
       "\n",
       "           tenure  bedrooms  bathrooms  area  year_built   value damage_state  \\\n",
       "0  Owner Occupied         1          1  1100        1920  306900     Complete   \n",
       "1  Owner Occupied         4          3  3000        1920  837000         None   \n",
       "2  Owner Occupied         2          1   750        1960  209250         None   \n",
       "3  Owner Occupied         3          2  2000        2010  558000         None   \n",
       "4  Owner Occupied         1          1  1100        1920  300000         None   \n",
       "5  Owner Occupied         4          3  3000        1920  800000         None   \n",
       "6  Owner Occupied         2          1   750        1960  209250         None   \n",
       "7  Owner Occupied         3          2  2000        2010  500000         None   \n",
       "\n",
       "   listed  longitude   latitude  \n",
       "0   False -90.296127  43.224344  \n",
       "1   False -90.295697  43.224219  \n",
       "2   False -90.296706  43.223984  \n",
       "3   False -90.296642  43.223750  \n",
       "4    True -90.295054  43.224375  \n",
       "5    True -90.294539  43.224391  \n",
       "6    True -90.295225  43.223953  \n",
       "7    True -90.295225  43.223718  "
      ]
     },
     "execution_count": 3,
     "metadata": {},
     "output_type": "execute_result"
    }
   ],
   "source": [
    "owners_df = pd.read_excel(scenario_file, sheetname='owners')\n",
    "owners_df"
   ]
  },
  {
   "cell_type": "markdown",
   "metadata": {},
   "source": [
    "__Create Pandas dataframe of attribute data for all RenterHouseholds to be modeled in the simulation.__"
   ]
  },
  {
   "cell_type": "code",
   "execution_count": 4,
   "metadata": {
    "nbpresent": {
     "id": "2bedb18e-ce6d-41cb-98a4-7b91bd10f9bb"
    }
   },
   "outputs": [
    {
     "data": {
      "text/html": [
       "<div>\n",
       "<style>\n",
       "    .dataframe thead tr:only-child th {\n",
       "        text-align: right;\n",
       "    }\n",
       "\n",
       "    .dataframe thead th {\n",
       "        text-align: left;\n",
       "    }\n",
       "\n",
       "    .dataframe tbody tr th {\n",
       "        vertical-align: top;\n",
       "    }\n",
       "</style>\n",
       "<table border=\"1\" class=\"dataframe\">\n",
       "  <thead>\n",
       "    <tr style=\"text-align: right;\">\n",
       "      <th></th>\n",
       "      <th>tenant</th>\n",
       "      <th>address</th>\n",
       "      <th>occupancy</th>\n",
       "      <th>tenure</th>\n",
       "      <th>tenant_income</th>\n",
       "      <th>tenant_savings</th>\n",
       "      <th>tenant_credit</th>\n",
       "      <th>tenant_insurance</th>\n",
       "      <th>monthly_cost</th>\n",
       "      <th>move_in_cost</th>\n",
       "      <th>...</th>\n",
       "      <th>year_built</th>\n",
       "      <th>value</th>\n",
       "      <th>damage_state</th>\n",
       "      <th>listed</th>\n",
       "      <th>longitude</th>\n",
       "      <th>latitude</th>\n",
       "      <th>owner</th>\n",
       "      <th>owner_savings</th>\n",
       "      <th>owner_insurance</th>\n",
       "      <th>owner_credit</th>\n",
       "    </tr>\n",
       "  </thead>\n",
       "  <tbody>\n",
       "    <tr>\n",
       "      <th>0</th>\n",
       "      <td>Ivy</td>\n",
       "      <td>262 That St</td>\n",
       "      <td>Mobile Home</td>\n",
       "      <td>Rental</td>\n",
       "      <td>119040</td>\n",
       "      <td>1000</td>\n",
       "      <td>700</td>\n",
       "      <td>0</td>\n",
       "      <td>2480</td>\n",
       "      <td>4960</td>\n",
       "      <td>...</td>\n",
       "      <td>1920</td>\n",
       "      <td>279000</td>\n",
       "      <td>Moderate</td>\n",
       "      <td>False</td>\n",
       "      <td>-90.294238</td>\n",
       "      <td>43.224015</td>\n",
       "      <td>Alice</td>\n",
       "      <td>30000</td>\n",
       "      <td>0</td>\n",
       "      <td>700</td>\n",
       "    </tr>\n",
       "    <tr>\n",
       "      <th>1</th>\n",
       "      <td>Edward</td>\n",
       "      <td>4720 This Rd</td>\n",
       "      <td>Single Family Dwelling</td>\n",
       "      <td>Rental</td>\n",
       "      <td>178560</td>\n",
       "      <td>1000</td>\n",
       "      <td>700</td>\n",
       "      <td>0</td>\n",
       "      <td>3720</td>\n",
       "      <td>7440</td>\n",
       "      <td>...</td>\n",
       "      <td>1920</td>\n",
       "      <td>418500</td>\n",
       "      <td>None</td>\n",
       "      <td>False</td>\n",
       "      <td>-90.293766</td>\n",
       "      <td>43.224062</td>\n",
       "      <td>Julie</td>\n",
       "      <td>30000</td>\n",
       "      <td>0</td>\n",
       "      <td>700</td>\n",
       "    </tr>\n",
       "    <tr>\n",
       "      <th>2</th>\n",
       "      <td>Oswald</td>\n",
       "      <td>2301 Other Ave</td>\n",
       "      <td>Single Family Dwelling</td>\n",
       "      <td>Rental</td>\n",
       "      <td>1000000</td>\n",
       "      <td>1000000</td>\n",
       "      <td>700</td>\n",
       "      <td>0</td>\n",
       "      <td>1240</td>\n",
       "      <td>2480</td>\n",
       "      <td>...</td>\n",
       "      <td>1960</td>\n",
       "      <td>139500</td>\n",
       "      <td>None</td>\n",
       "      <td>False</td>\n",
       "      <td>-90.293294</td>\n",
       "      <td>43.224125</td>\n",
       "      <td>Gerry</td>\n",
       "      <td>30000</td>\n",
       "      <td>1</td>\n",
       "      <td>700</td>\n",
       "    </tr>\n",
       "    <tr>\n",
       "      <th>3</th>\n",
       "      <td>James</td>\n",
       "      <td>74000 Out There Lane</td>\n",
       "      <td>Single Family Dwelling</td>\n",
       "      <td>Rental</td>\n",
       "      <td>238080</td>\n",
       "      <td>1000000</td>\n",
       "      <td>700</td>\n",
       "      <td>0</td>\n",
       "      <td>4960</td>\n",
       "      <td>9920</td>\n",
       "      <td>...</td>\n",
       "      <td>2010</td>\n",
       "      <td>558000</td>\n",
       "      <td>None</td>\n",
       "      <td>False</td>\n",
       "      <td>-90.293058</td>\n",
       "      <td>43.223937</td>\n",
       "      <td>Sally</td>\n",
       "      <td>30000</td>\n",
       "      <td>1</td>\n",
       "      <td>700</td>\n",
       "    </tr>\n",
       "    <tr>\n",
       "      <th>4</th>\n",
       "      <td>Butch</td>\n",
       "      <td>100 Old Ave</td>\n",
       "      <td>Mobile Home</td>\n",
       "      <td>Rental</td>\n",
       "      <td>100000000</td>\n",
       "      <td>1000</td>\n",
       "      <td>700</td>\n",
       "      <td>0</td>\n",
       "      <td>2480</td>\n",
       "      <td>4960</td>\n",
       "      <td>...</td>\n",
       "      <td>1920</td>\n",
       "      <td>279000</td>\n",
       "      <td>None</td>\n",
       "      <td>True</td>\n",
       "      <td>-90.293080</td>\n",
       "      <td>43.223671</td>\n",
       "      <td>Greg</td>\n",
       "      <td>100000000</td>\n",
       "      <td>1</td>\n",
       "      <td>700</td>\n",
       "    </tr>\n",
       "  </tbody>\n",
       "</table>\n",
       "<p>5 rows × 23 columns</p>\n",
       "</div>"
      ],
      "text/plain": [
       "   tenant               address               occupancy  tenure  \\\n",
       "0     Ivy           262 That St             Mobile Home  Rental   \n",
       "1  Edward          4720 This Rd  Single Family Dwelling  Rental   \n",
       "2  Oswald        2301 Other Ave  Single Family Dwelling  Rental   \n",
       "3   James  74000 Out There Lane  Single Family Dwelling  Rental   \n",
       "4   Butch           100 Old Ave             Mobile Home  Rental   \n",
       "\n",
       "   tenant_income  tenant_savings  tenant_credit  tenant_insurance  \\\n",
       "0         119040            1000            700                 0   \n",
       "1         178560            1000            700                 0   \n",
       "2        1000000         1000000            700                 0   \n",
       "3         238080         1000000            700                 0   \n",
       "4      100000000            1000            700                 0   \n",
       "\n",
       "   monthly_cost  move_in_cost     ...       year_built   value  damage_state  \\\n",
       "0          2480          4960     ...             1920  279000      Moderate   \n",
       "1          3720          7440     ...             1920  418500          None   \n",
       "2          1240          2480     ...             1960  139500          None   \n",
       "3          4960          9920     ...             2010  558000          None   \n",
       "4          2480          4960     ...             1920  279000          None   \n",
       "\n",
       "   listed  longitude   latitude  owner  owner_savings  owner_insurance  \\\n",
       "0   False -90.294238  43.224015  Alice          30000                0   \n",
       "1   False -90.293766  43.224062  Julie          30000                0   \n",
       "2   False -90.293294  43.224125  Gerry          30000                1   \n",
       "3   False -90.293058  43.223937  Sally          30000                1   \n",
       "4    True -90.293080  43.223671   Greg      100000000                1   \n",
       "\n",
       "  owner_credit  \n",
       "0          700  \n",
       "1          700  \n",
       "2          700  \n",
       "3          700  \n",
       "4          700  \n",
       "\n",
       "[5 rows x 23 columns]"
      ]
     },
     "execution_count": 4,
     "metadata": {},
     "output_type": "execute_result"
    }
   ],
   "source": [
    "renters_df = pd.read_excel(scenario_file, sheetname='renters')\n",
    "renters_df.head()"
   ]
  },
  {
   "cell_type": "markdown",
   "metadata": {},
   "source": [
    "# Inspect DESaster library modules and classes"
   ]
  },
  {
   "cell_type": "markdown",
   "metadata": {},
   "source": [
    "Choose DESaster module to list classes (next cell)"
   ]
  },
  {
   "cell_type": "code",
   "execution_count": 5,
   "metadata": {},
   "outputs": [
    {
     "data": {
      "application/vnd.jupyter.widget-view+json": {
       "model_id": "1af4d48a3cfb4ebe959f536d011856f2"
      }
     },
     "metadata": {},
     "output_type": "display_data"
    }
   ],
   "source": [
    "\n",
    "modules = sorted(str(name) for name, obj in inspect.getmembers(desaster) if inspect.ismodule(obj))\n",
    "module_chooser = Dropdown(\n",
    "    options=modules\n",
    ")\n",
    "display(module_chooser)"
   ]
  },
  {
   "cell_type": "markdown",
   "metadata": {},
   "source": [
    "List classes in module selected above"
   ]
  },
  {
   "cell_type": "code",
   "execution_count": 6,
   "metadata": {
    "scrolled": true
   },
   "outputs": [
    {
     "name": "stdout",
     "output_type": "stream",
     "text": [
      "DESaster Entities Classes\n",
      "--------------\n",
      "Building\n",
      "Container\n",
      "Household\n",
      "Landlord\n",
      "Owner\n",
      "OwnerHousehold\n",
      "RenterHousehold\n",
      "ResidentialBuilding\n"
     ]
    }
   ],
   "source": [
    "print('DESaster ' + str(module_chooser.value).title() + ' Classes')\n",
    "print('--------------')\n",
    "classes = sorted(str(name) for name, obj in inspect.getmembers(eval('desaster.' + module_chooser.value)) if inspect.isclass(obj))\n",
    "for i in classes: print(i)"
   ]
  },
  {
   "cell_type": "code",
   "execution_count": 7,
   "metadata": {},
   "outputs": [
    {
     "name": "stdout",
     "output_type": "stream",
     "text": [
      "__init__\n",
      "buy_home\n",
      "occupy_permanent\n",
      "rent_home\n",
      "story_to_text\n",
      "writeAttributes\n",
      "writeGaveUpHomeBuySearch\n",
      "writeGaveUpHomeRentSearchStock\n",
      "writeHomeBuy\n",
      "writeHomeRent\n",
      "writeOccupy\n",
      "writeOwnsOccupies\n",
      "writeResides\n",
      "writeStartHomeBuySearch\n",
      "writeStartHomeRentSearch\n",
      "writeVacated\n"
     ]
    }
   ],
   "source": [
    "methods = sorted(str(name) for name, obj in inspect.getmembers(desaster.entities.OwnerHousehold) if inspect.isfunction(obj))\n",
    "for i in methods: print(i)"
   ]
  },
  {
   "cell_type": "markdown",
   "metadata": {
    "nbpresent": {
     "id": "82ea73e7-3af1-4c0e-917f-a2c8c211f877"
    }
   },
   "source": [
    "## Setup the Simulation Environment, Define Parameter Distributions, and Populate with Households, Recovery Programs, and Recovery Policies"
   ]
  },
  {
   "cell_type": "markdown",
   "metadata": {
    "nbpresent": {
     "id": "674d14b6-8c36-4fdb-aa62-2082abb1ade9"
    }
   },
   "source": [
    "__Set Simpy simulation environment__"
   ]
  },
  {
   "cell_type": "code",
   "execution_count": 8,
   "metadata": {
    "collapsed": true,
    "nbpresent": {
     "id": "4b32e43c-2ad8-4103-ab07-110178d9f224"
    }
   },
   "outputs": [],
   "source": [
    "env = simpy.Environment()"
   ]
  },
  {
   "cell_type": "markdown",
   "metadata": {
    "nbpresent": {
     "id": "60da519d-86e8-4159-a232-897fe476c53c"
    }
   },
   "source": [
    "__Indicate whether the simulation will keep track of the stories of each entity in the simulation. This can also be set individually for each group of imported entities (e.g., each call to an entities.Entity class or subclass.__"
   ]
  },
  {
   "cell_type": "code",
   "execution_count": 9,
   "metadata": {
    "collapsed": true,
    "nbpresent": {
     "id": "219edad0-ba39-4977-8836-3bbf81b33cf5"
    }
   },
   "outputs": [],
   "source": [
    "write_story = True"
   ]
  },
  {
   "cell_type": "markdown",
   "metadata": {
    "nbpresent": {
     "id": "c3e629b0-ac2a-4222-a944-939a885c034a"
    }
   },
   "source": [
    "__Define the probability distributions that can be used in the simulation to define various recovery program process event durations.__"
   ]
  },
  {
   "cell_type": "code",
   "execution_count": 10,
   "metadata": {
    "collapsed": true
   },
   "outputs": [],
   "source": [
    "fema_ia_dist = norm(loc = 10, scale = 0)\n",
    "sba_home_sba_dist = norm(loc = 10, scale = 0)\n",
    "sba_biz_sba_dist = norm(loc = 10, scale = 0)\n",
    "insurance_dist = norm(loc = 10, scale = 0)\n",
    "start_delay_dist = norm(loc = 10, scale = 0)\n",
    "inspection_dist = norm(loc = 0.5, scale = 0)\n",
    "assessment_dist = norm(loc = 10, scale = 0)\n",
    "permitting_dist = norm(loc = 10, scale = 0)\n",
    "repair_dist = norm(loc = 10, scale = 0)\n",
    "demolition_dist = norm(loc = 10, scale = 0)\n",
    "occupy_dist = norm(loc = 10, scale = 0)\n",
    "rent_home_dist = norm(loc = 10, scale = 0)\n",
    "buy_home_dist = norm(loc = 10, scale = 0)\n",
    "\n",
    "declaration = norm.rvs(loc = 30, scale = 0) # Placeholder deterministic scalar that defines number of days before federal disaster declared\n",
    "sba_deadline = norm.rvs(loc = 60, scale = 0) # Typically duration in days after declaration that SBA applications must be submitted"
   ]
  },
  {
   "cell_type": "markdown",
   "metadata": {},
   "source": [
    "__Instantiate the recovery program objects that will be used in the simulation. Each recovery program requires\n",
    "specification of a duration probability distribution (set above). Unlike shown below, the distributions do not have to be the same for each program. Currently all are the same scalars to simplify interpretation and debugging.__"
   ]
  },
  {
   "cell_type": "code",
   "execution_count": 11,
   "metadata": {
    "collapsed": true
   },
   "outputs": [],
   "source": [
    "# Instantiate a FEMA Individual Assistance program\n",
    "fema_ia = HousingAssistanceFEMA(env, staff=100, budget=10000000, duration=fema_ia_dist, max_outlay=30000,\n",
    "                                  deadline=540, declaration=declaration)\n",
    "# Instantiate a SBA Loan program to use w/ OwnerHouseholds\n",
    "sba_home_loan = RealPropertyLoanSBA(env, officers=10, inspectors=10, duration=sba_home_sba_dist, max_loan = 200000, \n",
    "                            min_credit = 600, deadline=sba_deadline, declaration=declaration)\n",
    "# Instantiate a SBA Loan program to use w/ Landlords (higher maximum for businesses)\n",
    "sba_biz_loan = RealPropertyLoanSBA(env, officers=10, inspectors=10, duration=sba_biz_sba_dist, \n",
    "                           max_loan = 2000000, deadline=sba_deadline, declaration=declaration) # SBA max biz loan = $2mil\n",
    "# Instantiate a private insurance program\n",
    "insurance = OwnersInsurance(env, staff=100, deductible=0.0, duration=insurance_dist)\n",
    "# Instantiate a rapid inspeaction (tagging) program\n",
    "inspection = InspectionProgram(env, staff=1000, duration=inspection_dist)\n",
    "# Instantiate a detailed engineering assessment program\n",
    "assessment = EngineeringAssessment(env, staff=1000, duration=assessment_dist)\n",
    "# Instantiate a building permit processing program\n",
    "permitting = PermitProgram(env, staff=1000, duration=permitting_dist) \n",
    "# Instantiate a program to represent private repair contractors\n",
    "repair = RepairProgram(env, staff=1000, materials=1000000000, duration=repair_dist)\n",
    "# Instantiate a program to represent private demolition contractors\n",
    "demolition = DemolitionProgram(env, staff=1000, duration=demolition_dist)"
   ]
  },
  {
   "cell_type": "markdown",
   "metadata": {},
   "source": [
    "__Instantiate any recovery policies. Policies are custom classes that define different recovery program arrangements, sequences, logic, patience, etc. Currently only one is written. Policy classes also provides an example of how to model entity \"patience\" and process interuption.__"
   ]
  },
  {
   "cell_type": "code",
   "execution_count": 12,
   "metadata": {
    "collapsed": true
   },
   "outputs": [],
   "source": [
    "insurance_ia_sba_seq = Insurance_IA_SBA_Sequential(env)\n",
    "insurance_ia_sba_para = Insurance_IA_SBA_Parallel(env)\n",
    "insurance_firstthen_ia_sba_para = Insurance_FirstThen_IA_SBA_Parallel(env)\n",
    "insurance_sba_seq = Insurance_SBA_Sequential(env)\n",
    "insurance_sba_para = Insurance_SBA_Parallel(env)\n",
    "repair_stock = RepairVacantBuilding(env)"
   ]
  },
  {
   "cell_type": "markdown",
   "metadata": {
    "nbpresent": {
     "id": "ba511c7a-6df4-4ba1-a590-dbcb877c1c5d"
    }
   },
   "source": [
    "__Create empty Simpy FilterStores to use as housing stocks.__"
   ]
  },
  {
   "cell_type": "code",
   "execution_count": 13,
   "metadata": {
    "collapsed": true,
    "nbpresent": {
     "id": "f462c94a-6efe-4376-a69e-c58cebcab9f2"
    }
   },
   "outputs": [],
   "source": [
    "owner_occupied_stock = FilterStore(env)  # To put the residences associated with owners\n",
    "rental_stock = FilterStore(env) # To put the residences associated with renters\n",
    "temporary_stock = FilterStore(env) # To put the temporary shelters and housing "
   ]
  },
  {
   "cell_type": "code",
   "execution_count": 14,
   "metadata": {},
   "outputs": [
    {
     "data": {
      "text/html": [
       "<div>\n",
       "<style>\n",
       "    .dataframe thead tr:only-child th {\n",
       "        text-align: right;\n",
       "    }\n",
       "\n",
       "    .dataframe thead th {\n",
       "        text-align: left;\n",
       "    }\n",
       "\n",
       "    .dataframe tbody tr th {\n",
       "        vertical-align: top;\n",
       "    }\n",
       "</style>\n",
       "<table border=\"1\" class=\"dataframe\">\n",
       "  <thead>\n",
       "    <tr style=\"text-align: right;\">\n",
       "      <th></th>\n",
       "      <th>address</th>\n",
       "      <th>monthly_cost</th>\n",
       "      <th>move_in_cost</th>\n",
       "      <th>occupancy</th>\n",
       "      <th>tenure</th>\n",
       "      <th>bedrooms</th>\n",
       "      <th>bathrooms</th>\n",
       "      <th>area</th>\n",
       "      <th>year_built</th>\n",
       "      <th>value</th>\n",
       "      <th>damage_state</th>\n",
       "      <th>listed</th>\n",
       "      <th>longitude</th>\n",
       "      <th>latitude</th>\n",
       "      <th>owner</th>\n",
       "      <th>owner_income</th>\n",
       "      <th>owner_savings</th>\n",
       "      <th>owner_insurance</th>\n",
       "      <th>owner_credit</th>\n",
       "    </tr>\n",
       "  </thead>\n",
       "  <tbody>\n",
       "    <tr>\n",
       "      <th>0</th>\n",
       "      <td>100 New Ave</td>\n",
       "      <td>1449.418382</td>\n",
       "      <td>30000</td>\n",
       "      <td>Mobile Home</td>\n",
       "      <td>Owner Occupied</td>\n",
       "      <td>1</td>\n",
       "      <td>1</td>\n",
       "      <td>1100</td>\n",
       "      <td>1920</td>\n",
       "      <td>300000</td>\n",
       "      <td>None</td>\n",
       "      <td>True</td>\n",
       "      <td>-90.295054</td>\n",
       "      <td>43.224375</td>\n",
       "      <td>Jerome</td>\n",
       "      <td>100000000</td>\n",
       "      <td>100000000</td>\n",
       "      <td>1</td>\n",
       "      <td>850</td>\n",
       "    </tr>\n",
       "    <tr>\n",
       "      <th>1</th>\n",
       "      <td>101 New Ave</td>\n",
       "      <td>3865.115686</td>\n",
       "      <td>80000</td>\n",
       "      <td>Single Family Dwelling</td>\n",
       "      <td>Owner Occupied</td>\n",
       "      <td>4</td>\n",
       "      <td>3</td>\n",
       "      <td>3000</td>\n",
       "      <td>1920</td>\n",
       "      <td>800000</td>\n",
       "      <td>None</td>\n",
       "      <td>True</td>\n",
       "      <td>-90.294539</td>\n",
       "      <td>43.224391</td>\n",
       "      <td>Barbara</td>\n",
       "      <td>100000000</td>\n",
       "      <td>100000000</td>\n",
       "      <td>1</td>\n",
       "      <td>850</td>\n",
       "    </tr>\n",
       "    <tr>\n",
       "      <th>2</th>\n",
       "      <td>102 New Ave</td>\n",
       "      <td>1010.969322</td>\n",
       "      <td>20925</td>\n",
       "      <td>Single Family Dwelling</td>\n",
       "      <td>Owner Occupied</td>\n",
       "      <td>2</td>\n",
       "      <td>1</td>\n",
       "      <td>750</td>\n",
       "      <td>1960</td>\n",
       "      <td>209250</td>\n",
       "      <td>None</td>\n",
       "      <td>True</td>\n",
       "      <td>-90.295225</td>\n",
       "      <td>43.223953</td>\n",
       "      <td>Lucius</td>\n",
       "      <td>100000000</td>\n",
       "      <td>100000000</td>\n",
       "      <td>1</td>\n",
       "      <td>850</td>\n",
       "    </tr>\n",
       "    <tr>\n",
       "      <th>3</th>\n",
       "      <td>103 New Ave</td>\n",
       "      <td>2415.697304</td>\n",
       "      <td>50000</td>\n",
       "      <td>Single Family Dwelling</td>\n",
       "      <td>Owner Occupied</td>\n",
       "      <td>3</td>\n",
       "      <td>2</td>\n",
       "      <td>2000</td>\n",
       "      <td>2010</td>\n",
       "      <td>500000</td>\n",
       "      <td>None</td>\n",
       "      <td>True</td>\n",
       "      <td>-90.295225</td>\n",
       "      <td>43.223718</td>\n",
       "      <td>Dick</td>\n",
       "      <td>100000000</td>\n",
       "      <td>100000000</td>\n",
       "      <td>1</td>\n",
       "      <td>850</td>\n",
       "    </tr>\n",
       "  </tbody>\n",
       "</table>\n",
       "</div>"
      ],
      "text/plain": [
       "       address  monthly_cost  move_in_cost               occupancy  \\\n",
       "0  100 New Ave   1449.418382         30000             Mobile Home   \n",
       "1  101 New Ave   3865.115686         80000  Single Family Dwelling   \n",
       "2  102 New Ave   1010.969322         20925  Single Family Dwelling   \n",
       "3  103 New Ave   2415.697304         50000  Single Family Dwelling   \n",
       "\n",
       "           tenure  bedrooms  bathrooms  area  year_built   value damage_state  \\\n",
       "0  Owner Occupied         1          1  1100        1920  300000         None   \n",
       "1  Owner Occupied         4          3  3000        1920  800000         None   \n",
       "2  Owner Occupied         2          1   750        1960  209250         None   \n",
       "3  Owner Occupied         3          2  2000        2010  500000         None   \n",
       "\n",
       "   listed  longitude   latitude    owner  owner_income  owner_savings  \\\n",
       "0    True -90.295054  43.224375   Jerome     100000000      100000000   \n",
       "1    True -90.294539  43.224391  Barbara     100000000      100000000   \n",
       "2    True -90.295225  43.223953   Lucius     100000000      100000000   \n",
       "3    True -90.295225  43.223718     Dick     100000000      100000000   \n",
       "\n",
       "   owner_insurance  owner_credit  \n",
       "0                1           850  \n",
       "1                1           850  \n",
       "2                1           850  \n",
       "3                1           850  "
      ]
     },
     "execution_count": 14,
     "metadata": {},
     "output_type": "execute_result"
    }
   ],
   "source": [
    "vacant_owner_stock_df = pd.read_excel(scenario_file, sheetname='forsale_stock')\n",
    "importResidentialBuildingStock(env, vacant_owner_stock_df, owner_occupied_stock)\n",
    "vacant_owner_stock_df.head()"
   ]
  },
  {
   "cell_type": "code",
   "execution_count": 15,
   "metadata": {},
   "outputs": [
    {
     "data": {
      "text/html": [
       "<div>\n",
       "<style>\n",
       "    .dataframe thead tr:only-child th {\n",
       "        text-align: right;\n",
       "    }\n",
       "\n",
       "    .dataframe thead th {\n",
       "        text-align: left;\n",
       "    }\n",
       "\n",
       "    .dataframe tbody tr th {\n",
       "        vertical-align: top;\n",
       "    }\n",
       "</style>\n",
       "<table border=\"1\" class=\"dataframe\">\n",
       "  <thead>\n",
       "    <tr style=\"text-align: right;\">\n",
       "      <th></th>\n",
       "      <th>address</th>\n",
       "      <th>occupancy</th>\n",
       "      <th>tenure</th>\n",
       "      <th>monthly_cost</th>\n",
       "      <th>move_in_cost</th>\n",
       "      <th>bedrooms</th>\n",
       "      <th>bathrooms</th>\n",
       "      <th>area</th>\n",
       "      <th>year_built</th>\n",
       "      <th>value</th>\n",
       "      <th>damage_state</th>\n",
       "      <th>listed</th>\n",
       "      <th>longitude</th>\n",
       "      <th>latitude</th>\n",
       "      <th>owner</th>\n",
       "      <th>owner_savings</th>\n",
       "      <th>owner_insurance</th>\n",
       "      <th>owner_credit</th>\n",
       "    </tr>\n",
       "  </thead>\n",
       "  <tbody>\n",
       "    <tr>\n",
       "      <th>0</th>\n",
       "      <td>100 Old Ave</td>\n",
       "      <td>Mobile Home</td>\n",
       "      <td>Rental</td>\n",
       "      <td>2480</td>\n",
       "      <td>4960</td>\n",
       "      <td>1</td>\n",
       "      <td>1</td>\n",
       "      <td>1000</td>\n",
       "      <td>1920</td>\n",
       "      <td>279000</td>\n",
       "      <td>None</td>\n",
       "      <td>False</td>\n",
       "      <td>-90.293080</td>\n",
       "      <td>43.223671</td>\n",
       "      <td>Greg</td>\n",
       "      <td>100000000</td>\n",
       "      <td>1</td>\n",
       "      <td>850</td>\n",
       "    </tr>\n",
       "    <tr>\n",
       "      <th>1</th>\n",
       "      <td>101 Old Ave</td>\n",
       "      <td>Single Family Dwelling</td>\n",
       "      <td>Rental</td>\n",
       "      <td>3720</td>\n",
       "      <td>7440</td>\n",
       "      <td>3</td>\n",
       "      <td>2</td>\n",
       "      <td>1500</td>\n",
       "      <td>1920</td>\n",
       "      <td>418500</td>\n",
       "      <td>None</td>\n",
       "      <td>False</td>\n",
       "      <td>-90.292736</td>\n",
       "      <td>43.223546</td>\n",
       "      <td>Allison</td>\n",
       "      <td>100000000</td>\n",
       "      <td>1</td>\n",
       "      <td>850</td>\n",
       "    </tr>\n",
       "    <tr>\n",
       "      <th>2</th>\n",
       "      <td>102 Old Ave</td>\n",
       "      <td>Single Family Dwelling</td>\n",
       "      <td>Rental</td>\n",
       "      <td>1240</td>\n",
       "      <td>2480</td>\n",
       "      <td>0</td>\n",
       "      <td>1</td>\n",
       "      <td>500</td>\n",
       "      <td>1960</td>\n",
       "      <td>139500</td>\n",
       "      <td>None</td>\n",
       "      <td>False</td>\n",
       "      <td>-90.296191</td>\n",
       "      <td>43.223406</td>\n",
       "      <td>Rachel</td>\n",
       "      <td>100000000</td>\n",
       "      <td>1</td>\n",
       "      <td>850</td>\n",
       "    </tr>\n",
       "    <tr>\n",
       "      <th>3</th>\n",
       "      <td>103 Old Ave</td>\n",
       "      <td>Single Family Dwelling</td>\n",
       "      <td>Rental</td>\n",
       "      <td>4960</td>\n",
       "      <td>9920</td>\n",
       "      <td>2</td>\n",
       "      <td>2</td>\n",
       "      <td>2000</td>\n",
       "      <td>2010</td>\n",
       "      <td>558000</td>\n",
       "      <td>None</td>\n",
       "      <td>False</td>\n",
       "      <td>-90.295740</td>\n",
       "      <td>43.223359</td>\n",
       "      <td>Larry</td>\n",
       "      <td>100000000</td>\n",
       "      <td>1</td>\n",
       "      <td>850</td>\n",
       "    </tr>\n",
       "    <tr>\n",
       "      <th>4</th>\n",
       "      <td>341 Where St</td>\n",
       "      <td>Mobile Home</td>\n",
       "      <td>Rental</td>\n",
       "      <td>1</td>\n",
       "      <td>10</td>\n",
       "      <td>1</td>\n",
       "      <td>1</td>\n",
       "      <td>1100</td>\n",
       "      <td>1920</td>\n",
       "      <td>306900</td>\n",
       "      <td>None</td>\n",
       "      <td>False</td>\n",
       "      <td>-90.294238</td>\n",
       "      <td>43.224015</td>\n",
       "      <td>Gigi</td>\n",
       "      <td>100000000</td>\n",
       "      <td>1</td>\n",
       "      <td>850</td>\n",
       "    </tr>\n",
       "  </tbody>\n",
       "</table>\n",
       "</div>"
      ],
      "text/plain": [
       "        address               occupancy  tenure  monthly_cost  move_in_cost  \\\n",
       "0   100 Old Ave             Mobile Home  Rental          2480          4960   \n",
       "1   101 Old Ave  Single Family Dwelling  Rental          3720          7440   \n",
       "2   102 Old Ave  Single Family Dwelling  Rental          1240          2480   \n",
       "3   103 Old Ave  Single Family Dwelling  Rental          4960          9920   \n",
       "4  341 Where St             Mobile Home  Rental             1            10   \n",
       "\n",
       "   bedrooms  bathrooms  area  year_built   value damage_state  listed  \\\n",
       "0         1          1  1000        1920  279000         None   False   \n",
       "1         3          2  1500        1920  418500         None   False   \n",
       "2         0          1   500        1960  139500         None   False   \n",
       "3         2          2  2000        2010  558000         None   False   \n",
       "4         1          1  1100        1920  306900         None   False   \n",
       "\n",
       "   longitude   latitude    owner  owner_savings  owner_insurance  owner_credit  \n",
       "0 -90.293080  43.223671     Greg      100000000                1           850  \n",
       "1 -90.292736  43.223546  Allison      100000000                1           850  \n",
       "2 -90.296191  43.223406   Rachel      100000000                1           850  \n",
       "3 -90.295740  43.223359    Larry      100000000                1           850  \n",
       "4 -90.294238  43.224015     Gigi      100000000                1           850  "
      ]
     },
     "execution_count": 15,
     "metadata": {},
     "output_type": "execute_result"
    }
   ],
   "source": [
    "vacant_rental_stock_df = pd.read_excel(scenario_file, sheetname='forrent_stock')\n",
    "importResidentialBuildingStock(env, vacant_rental_stock_df, rental_stock)\n",
    "vacant_rental_stock_df.head()"
   ]
  },
  {
   "cell_type": "code",
   "execution_count": 16,
   "metadata": {},
   "outputs": [
    {
     "data": {
      "text/html": [
       "<div>\n",
       "<style>\n",
       "    .dataframe thead tr:only-child th {\n",
       "        text-align: right;\n",
       "    }\n",
       "\n",
       "    .dataframe thead th {\n",
       "        text-align: left;\n",
       "    }\n",
       "\n",
       "    .dataframe tbody tr th {\n",
       "        vertical-align: top;\n",
       "    }\n",
       "</style>\n",
       "<table border=\"1\" class=\"dataframe\">\n",
       "  <thead>\n",
       "    <tr style=\"text-align: right;\">\n",
       "      <th></th>\n",
       "      <th>address</th>\n",
       "      <th>occupancy</th>\n",
       "      <th>tenure</th>\n",
       "      <th>monthly_cost</th>\n",
       "      <th>move_in_cost</th>\n",
       "      <th>bedrooms</th>\n",
       "      <th>bathrooms</th>\n",
       "      <th>area</th>\n",
       "      <th>year_built</th>\n",
       "      <th>value</th>\n",
       "      <th>damage_state</th>\n",
       "      <th>listed</th>\n",
       "      <th>longitude</th>\n",
       "      <th>latitude</th>\n",
       "      <th>owner</th>\n",
       "      <th>owner_savings</th>\n",
       "      <th>owner_insurance</th>\n",
       "      <th>owner_credit</th>\n",
       "    </tr>\n",
       "  </thead>\n",
       "  <tbody>\n",
       "    <tr>\n",
       "      <th>0</th>\n",
       "      <td>100 Old Ave</td>\n",
       "      <td>Mobile Home</td>\n",
       "      <td>Rental</td>\n",
       "      <td>2480</td>\n",
       "      <td>4960</td>\n",
       "      <td>1</td>\n",
       "      <td>1</td>\n",
       "      <td>1000</td>\n",
       "      <td>1920</td>\n",
       "      <td>279000</td>\n",
       "      <td>None</td>\n",
       "      <td>True</td>\n",
       "      <td>-90.293080</td>\n",
       "      <td>43.223671</td>\n",
       "      <td>Greg</td>\n",
       "      <td>100000000</td>\n",
       "      <td>1</td>\n",
       "      <td>700</td>\n",
       "    </tr>\n",
       "    <tr>\n",
       "      <th>1</th>\n",
       "      <td>101 Old Ave</td>\n",
       "      <td>Single Family Dwelling</td>\n",
       "      <td>Rental</td>\n",
       "      <td>3720</td>\n",
       "      <td>7440</td>\n",
       "      <td>3</td>\n",
       "      <td>2</td>\n",
       "      <td>1500</td>\n",
       "      <td>1920</td>\n",
       "      <td>418500</td>\n",
       "      <td>None</td>\n",
       "      <td>True</td>\n",
       "      <td>-90.292736</td>\n",
       "      <td>43.223546</td>\n",
       "      <td>Allison</td>\n",
       "      <td>100000000</td>\n",
       "      <td>1</td>\n",
       "      <td>700</td>\n",
       "    </tr>\n",
       "    <tr>\n",
       "      <th>2</th>\n",
       "      <td>102 Old Ave</td>\n",
       "      <td>Single Family Dwelling</td>\n",
       "      <td>Rental</td>\n",
       "      <td>1240</td>\n",
       "      <td>2480</td>\n",
       "      <td>0</td>\n",
       "      <td>1</td>\n",
       "      <td>500</td>\n",
       "      <td>1960</td>\n",
       "      <td>139500</td>\n",
       "      <td>None</td>\n",
       "      <td>True</td>\n",
       "      <td>-90.296191</td>\n",
       "      <td>43.223406</td>\n",
       "      <td>Rachel</td>\n",
       "      <td>100000000</td>\n",
       "      <td>1</td>\n",
       "      <td>700</td>\n",
       "    </tr>\n",
       "    <tr>\n",
       "      <th>3</th>\n",
       "      <td>103 Old Ave</td>\n",
       "      <td>Single Family Dwelling</td>\n",
       "      <td>Rental</td>\n",
       "      <td>4960</td>\n",
       "      <td>9920</td>\n",
       "      <td>2</td>\n",
       "      <td>2</td>\n",
       "      <td>2000</td>\n",
       "      <td>2010</td>\n",
       "      <td>558000</td>\n",
       "      <td>None</td>\n",
       "      <td>True</td>\n",
       "      <td>-90.295740</td>\n",
       "      <td>43.223359</td>\n",
       "      <td>Larry</td>\n",
       "      <td>100000000</td>\n",
       "      <td>1</td>\n",
       "      <td>700</td>\n",
       "    </tr>\n",
       "    <tr>\n",
       "      <th>4</th>\n",
       "      <td>341 Where St</td>\n",
       "      <td>Mobile Home</td>\n",
       "      <td>Rental</td>\n",
       "      <td>1</td>\n",
       "      <td>10</td>\n",
       "      <td>1</td>\n",
       "      <td>1</td>\n",
       "      <td>1100</td>\n",
       "      <td>1920</td>\n",
       "      <td>306900</td>\n",
       "      <td>None</td>\n",
       "      <td>True</td>\n",
       "      <td>-90.294238</td>\n",
       "      <td>43.224015</td>\n",
       "      <td>Gigi</td>\n",
       "      <td>30000</td>\n",
       "      <td>0</td>\n",
       "      <td>700</td>\n",
       "    </tr>\n",
       "  </tbody>\n",
       "</table>\n",
       "</div>"
      ],
      "text/plain": [
       "        address               occupancy  tenure  monthly_cost  move_in_cost  \\\n",
       "0   100 Old Ave             Mobile Home  Rental          2480          4960   \n",
       "1   101 Old Ave  Single Family Dwelling  Rental          3720          7440   \n",
       "2   102 Old Ave  Single Family Dwelling  Rental          1240          2480   \n",
       "3   103 Old Ave  Single Family Dwelling  Rental          4960          9920   \n",
       "4  341 Where St             Mobile Home  Rental             1            10   \n",
       "\n",
       "   bedrooms  bathrooms  area  year_built   value damage_state  listed  \\\n",
       "0         1          1  1000        1920  279000         None    True   \n",
       "1         3          2  1500        1920  418500         None    True   \n",
       "2         0          1   500        1960  139500         None    True   \n",
       "3         2          2  2000        2010  558000         None    True   \n",
       "4         1          1  1100        1920  306900         None    True   \n",
       "\n",
       "   longitude   latitude    owner  owner_savings  owner_insurance  owner_credit  \n",
       "0 -90.293080  43.223671     Greg      100000000                1           700  \n",
       "1 -90.292736  43.223546  Allison      100000000                1           700  \n",
       "2 -90.296191  43.223406   Rachel      100000000                1           700  \n",
       "3 -90.295740  43.223359    Larry      100000000                1           700  \n",
       "4 -90.294238  43.224015     Gigi          30000                0           700  "
      ]
     },
     "execution_count": 16,
     "metadata": {},
     "output_type": "execute_result"
    }
   ],
   "source": [
    "temp_stock_df = pd.read_excel(scenario_file, sheetname='temp_stock')\n",
    "importResidentialBuildingStock(env, temp_stock_df, rental_stock)\n",
    "temp_stock_df.head()"
   ]
  },
  {
   "cell_type": "markdown",
   "metadata": {},
   "source": [
    "__Create a list of OwnerHousehold objects based on input data. Place each associated residence in the rented housing stock.__"
   ]
  },
  {
   "cell_type": "code",
   "execution_count": 17,
   "metadata": {
    "nbpresent": {
     "id": "0a1a343c-01a9-43a3-9309-fb83ddc13acc"
    }
   },
   "outputs": [],
   "source": [
    "owners = importEntities(env, owners_df, 'OwnerHousehold', owner_occupied_stock, write_story)"
   ]
  },
  {
   "cell_type": "markdown",
   "metadata": {},
   "source": [
    "__Create a list of RenterHousehold objects based on input data. Place each associated residence in the rented housing stock.__"
   ]
  },
  {
   "cell_type": "code",
   "execution_count": 18,
   "metadata": {
    "nbpresent": {
     "id": "422d741a-01e2-4fee-bf86-ac07ba86cb2e"
    }
   },
   "outputs": [],
   "source": [
    "renters = importEntities(env, renters_df, 'RenterHousehold', rental_stock, write_story)"
   ]
  },
  {
   "cell_type": "markdown",
   "metadata": {},
   "source": [
    "# Specify master processes for Landlords, OwnerHouseholds, and Renter Households\n",
    "Note: Master processes define custom, case-specific, scenario-based, or user-defined logic for modeled entities. They are not \"hard coded\" processes or policies in DESaster."
   ]
  },
  {
   "cell_type": "markdown",
   "metadata": {},
   "source": [
    "*A listing of arguments for each of the recovery programs and policies to help write master processes.*"
   ]
  },
  {
   "cell_type": "code",
   "execution_count": 19,
   "metadata": {},
   "outputs": [
    {
     "name": "stdout",
     "output_type": "stream",
     "text": [
      "HousingAssistanceFEMA.process ['self', 'entity', 'callbacks']\n",
      "RealPropertyLoanSBA.process ['self', 'entity', 'callbacks']\n",
      "RealPropertyLoanSBA.process ['self', 'entity', 'callbacks']\n",
      "OwnersInsurance.process ['self', 'entity', 'callbacks']\n",
      "InspectionProgram.process ['self', 'structure', 'entity', 'callbacks']\n",
      "EngineeringAssessment.process ['self', 'structure', 'entity', 'callbacks']\n",
      "PermitProgram.process ['self', 'structure', 'entity', 'callbacks']\n",
      "RepairProgram.process ['self', 'structure', 'entity', 'callbacks']\n",
      "DemolitionProgram.process ['self', 'structure', 'entity', 'callbacks']\n",
      "Insurance_IA_SBA_Sequential.policy ['self', 'insurance_program', 'fema_program', 'sba_program', 'entity', 'search_patience']\n",
      "Insurance_IA_SBA_Parallel.policy ['self', 'insurance_program', 'fema_program', 'sba_program', 'entity', 'search_patience']\n",
      "Insurance_FirstThen_IA_SBA_Parallel.policy ['self', 'insurance_program', 'fema_program', 'sba_program', 'entity', 'search_patience']\n",
      "Insurance_SBA_Sequential.policy ['self', 'insurance_program', 'sba_program', 'entity', 'search_patience']\n",
      "Insurance_SBA_Parallel.policy ['self', 'insurance_program', 'sba_program', 'entity', 'search_patience']\n",
      "RepairVacantBuilding.policy ['self', 'inspection_program', 'assessment_program', 'permit_program', 'repair_program', 'entity', 'building_stock', 'repair_probability', 'wait_time']\n"
     ]
    }
   ],
   "source": [
    "def list_args(programs_policies):\n",
    "    for p in programs_policies:\n",
    "        print(str(p.__func__)[10:-16], inspect.getfullargspec(p).args) # Useful to determine the arguments for the recovery programs\n",
    "\n",
    "programs_policies = [fema_ia.process, sba_home_loan.process, sba_biz_loan.process, insurance.process, \n",
    "                     inspection.process, assessment.process, permitting.process, repair.process, \n",
    "                     demolition.process, insurance_ia_sba_seq.policy, insurance_ia_sba_para.policy, \n",
    "                     insurance_firstthen_ia_sba_para.policy, insurance_sba_seq.policy, insurance_sba_para.policy, \n",
    "                     repair_stock.policy]\n",
    "\n",
    "list_args(programs_policies)"
   ]
  },
  {
   "cell_type": "markdown",
   "metadata": {},
   "source": [
    "__A really basic custom master process as an example of how to create one.__"
   ]
  },
  {
   "cell_type": "code",
   "execution_count": 20,
   "metadata": {
    "collapsed": true
   },
   "outputs": [],
   "source": [
    "def basic_process(inspection_program, assessment_program, permit_program, repair_program, entity):\n",
    "    yield env.process(inspection_program.process(entity.property, entity))\n",
    "    yield env.process(assessment_program.process(entity.property, entity))\n",
    "    yield env.process(permit_program.process(entity.property, entity))\n",
    "    yield env.process(repair_program.process(entity.property, entity))"
   ]
  },
  {
   "cell_type": "markdown",
   "metadata": {
    "nbpresent": {
     "id": "6872528b-8992-44ce-8de9-79a318a19eec"
    }
   },
   "source": [
    "__A custom master process for Landlords. Landlords are the owners of renters' residences and so are the ones to seek financial assistance for repairs.__"
   ]
  },
  {
   "cell_type": "code",
   "execution_count": 21,
   "metadata": {
    "collapsed": true
   },
   "outputs": [],
   "source": [
    "def landlord_process(env, insurance_program, loan_program, \n",
    "                 assessment_program, permit_program, demolish_program, repair_program, entity):\n",
    "    \n",
    "    money_patience = 100000  # days until give up the search for repair money\n",
    "    \n",
    "    # Simulate damaged properties\n",
    "    if entity.property.damage_state != 'None': \n",
    "         \n",
    "        # Landlord search for financial assistance using an Insurance_SBA policy. Note two alternate versions \n",
    "        # can be used: insurance_sba_para or insurance_sba_seq. Paste in the desired policy approach below.\n",
    "        yield env.process(insurance_sba_seq.policy(insurance_program, loan_program, entity, money_patience)) # Sequential\n",
    "\n",
    "        # If landlord gives up looking for recovery funds, evict their tenant\n",
    "        if entity.gave_up_funding_search != None:\n",
    "            entity.evict_tenant()\n",
    "            \n",
    "            if entity.write_story:\n",
    "                entity.story.append(\n",
    "                '{0} decided not to repair their {1}. '.format(\n",
    "                entity.name, entity.property.occupancy.lower()\n",
    "                                                                )\n",
    "                                    )\n",
    "            return\n",
    "        \n",
    "        # If has enough recovery funds, repair; if not, evict tenant.\n",
    "        if entity.recovery_funds.level >= entity.property.damage_value:\n",
    "            yield env.process(assessment_program.process(entity.property, entity))\n",
    "            yield env.process(permit_program.process(entity.property, entity))\n",
    "            \n",
    "            # Demolish property if > extensive damage\n",
    "            if entity.property.damage_state == 'Extensive' or entity.property.damage_state == 'Complete':\n",
    "                yield env.process(demolish_program.process(entity.property, entity))\n",
    "            yield env.process(repair_program.process(entity.property, entity))\n",
    "        else:\n",
    "            if entity.tenant.residence != None:\n",
    "                entity.evict_tenant()  "
   ]
  },
  {
   "cell_type": "markdown",
   "metadata": {},
   "source": [
    "__A custom master process for OwnerHouseholds (owner occupiers). Don't do anything if no damage suffered. If residence damage is \"Complete\", abandon home and look to buy a different one. Otherwise look for financial assistance for repairs. If money for repairs can't be found (patience runs out), look for a new home. If home search patience runs out, simply stop.__"
   ]
  },
  {
   "cell_type": "code",
   "execution_count": 22,
   "metadata": {
    "collapsed": true
   },
   "outputs": [],
   "source": [
    "def owner_process(env, inspection_program, insurance_program, fema_program, loan_program, \n",
    "                 assessment_program, permit_program, demolish_program, rebuild_program, forsale_stock, \n",
    "                  forrent_stock, entity):\n",
    "    \n",
    "    money_patience = 200000  # days until give up the search for rebuild money\n",
    "    home_patience = 15000  # days until give up the search for a new home\n",
    "    \n",
    "    # Do inspections after inspectors are mobilized\n",
    "    yield env.timeout(start_delay_dist.rvs())\n",
    "    yield env.process(inspection_program.process(entity.property, entity))\n",
    "    \n",
    "    # Process damaged properties\n",
    "    if entity.property.damage_state == 'None':\n",
    "        yield env.process(entity.occupy_permanent(duration = norm(loc = 0, scale = 0)))   \n",
    "    else:\n",
    "        find_money = env.process(insurance_firstthen_ia_sba_para.policy(insurance_program, fema_program,\n",
    "                                                   loan_program, entity, money_patience))\n",
    "        find_rental = env.process(entity.rent_home(forrent_stock, rent_home_dist,\n",
    "                                                   occupancy_list = ['single family dwelling', 'mobile home', 'temporary lodging'],\n",
    "                                               search_patience = home_patience, rooms_tol = -2,\n",
    "                                                   area_pct = 0.1, housing_ratio = 1.0, permanent = False))\n",
    "        if entity.property.damage_state == 'Extensive' or entity.property.damage_state == 'Complete':\n",
    "            yield find_rental | find_money\n",
    "               \n",
    "        # Homeowner search for financial assistance using an Insurance_SBA policy. Note two alternate versions \n",
    "        # can be used: insurance_ia_sba_para, insurance_ia_sba_seq, and insurance_firstthen_ia_sba_para. \n",
    "        # Paste in the desired policy approach below.\n",
    "        else:\n",
    "            yield find_money \n",
    "\n",
    "        # If not enough money to repair home or home completely damaged, search for a new home to purchase.\n",
    "        if (entity.recovery_funds.level < entity.property.damage_value or\n",
    "                entity.property.damage_state == 'Complete'):\n",
    "            yield env.process(entity.buy_home(forsale_stock, buy_home_dist, down_payment_pct = 0.10,\n",
    "                                                  search_patience = home_patience))\n",
    "            \n",
    "            if entity.gave_up_home_buy_search == None:\n",
    "                yield env.process(entity.occupy_permanent(duration = occupy_dist))\n",
    "            \n",
    "            return\n",
    "        # Otherwise repair home.       \n",
    "        elif entity.recovery_funds.level >= entity.property.damage_value:\n",
    "            \n",
    "            yield env.process(assessment_program.process(entity.property, entity))\n",
    "            yield env.process(permit_program.process(entity.property, entity))\n",
    "            if entity.property.damage_state == 'Extensive' or entity.property.damage_state == 'Complete':\n",
    "                yield env.process(demolish_program.process(entity.property, entity))\n",
    "            yield env.process(rebuild_program.process(entity.property, entity))    \n",
    "            yield env.process(entity.occupy_permanent(duration = occupy_dist))     "
   ]
  },
  {
   "cell_type": "markdown",
   "metadata": {},
   "source": [
    "__A custom master process for RenterHouseholds. For the most part it simply initiates a process for their landlords. If they are evicted by their landlords, the renter will look for a new home. If home search patience runs out, simply stop. Otherwise, occupy home after landlord repairs it.__"
   ]
  },
  {
   "cell_type": "code",
   "execution_count": 23,
   "metadata": {
    "collapsed": true
   },
   "outputs": [],
   "source": [
    "def renter_process(env, landlord_process, inspection_program, search_stock, entity):\n",
    "        \n",
    "    home_patience = 550  # days until give up the search for a new home\n",
    "    \n",
    "    # Do inspection after inspectors are mobilized\n",
    "    yield env.timeout(start_delay_dist.rvs())\n",
    "    yield env.process(inspection_program.process(entity.landlord.property, entity.landlord)) \n",
    "      \n",
    "    if entity.residence.damage_state == 'None':\n",
    "        yield env.process(entity.occupy_permanent(duration = norm(loc = 0, scale = 0)))\n",
    "    else:\n",
    "         # If is extensively/completely damaged, evict tenant.\n",
    "        if entity.residence.damage_state == 'Extensive' or entity.residence.damage_state == 'Complete':\n",
    "            yield env.process(entity.landlord.evict_tenant())\n",
    "\n",
    "            rent_home_start = env.process(entity.rent_home(search_stock, rent_home_dist,\n",
    "                                                           search_patience = home_patience))\n",
    "            \n",
    "            yield rent_home_start | env.process(landlord_process)\n",
    "\n",
    "            if rent_home_start.processed and entity.residence != None:\n",
    "                yield env.process(entity.occupy_permanent(duration = occupy_dist))\n",
    "\n",
    "        else:\n",
    "            yield env.process(landlord_process)\n",
    "            yield env.process(entity.occupy_permanent(duration = occupy_dist))\n",
    "    \n",
    "    entity.story.append(entity.landlord.story)\n"
   ]
  },
  {
   "cell_type": "markdown",
   "metadata": {},
   "source": [
    "__Initiate the master process for each owner to be modeled in the simulation.__"
   ]
  },
  {
   "cell_type": "code",
   "execution_count": 24,
   "metadata": {
    "collapsed": true
   },
   "outputs": [],
   "source": [
    "#inspect.getfullargspec(owner_process).args # Useful to determine what arguments are required for the process.\n",
    "\n",
    "for i in range(len(owners)):\n",
    "    env.process(owner_process(env, inspection, insurance, fema_ia, sba_home_loan, \n",
    "                                    assessment, permitting, demolition, repair,\n",
    "                                    owner_occupied_stock, rental_stock, owners[i]))"
   ]
  },
  {
   "cell_type": "markdown",
   "metadata": {},
   "source": [
    "__Initiate the master process for each renter to be modeled in the simulation.__"
   ]
  },
  {
   "cell_type": "code",
   "execution_count": 25,
   "metadata": {},
   "outputs": [],
   "source": [
    "# # #inspect.getfullargspec(renter_process).args # Useful to determine what arguments are required for the process.\n",
    "\n",
    "\n",
    "for i in range(len(renters)):\n",
    "    landlord_start = landlord_process(env, insurance, sba_biz_loan, assessment, permitting, \n",
    "                                    demolition, repair, renters[i].landlord)\n",
    "    \n",
    "    env.process(renter_process(env, landlord_start, inspection, rental_stock, renters[i]))"
   ]
  },
  {
   "cell_type": "markdown",
   "metadata": {},
   "source": [
    "## Run the simulation"
   ]
  },
  {
   "cell_type": "code",
   "execution_count": 26,
   "metadata": {
    "nbpresent": {
     "id": "aeabefd9-8ded-4a8c-a6e3-83f73b64144a"
    },
    "scrolled": false
   },
   "outputs": [],
   "source": [
    "env.run()"
   ]
  },
  {
   "cell_type": "code",
   "execution_count": 27,
   "metadata": {},
   "outputs": [
    {
     "name": "stdout",
     "output_type": "stream",
     "text": [
      "PROPERTIES:  Alfred : 62 That St --> 100 New Ave\n",
      "RESIDENCES:  Alfred : 62 That St --> 12303 Lodging Rd --> 100 New Ave\n"
     ]
    }
   ],
   "source": [
    "i = 0\n",
    "try:\n",
    "    print('PROPERTIES: ', owners[i].name, ':', owners[i].prior_properties[0].address,\n",
    "                      '-->', owners[i].property.address)\n",
    "except:\n",
    "    print('PROPERTIES: ', owners[i].name, ':', owners[i].property.address, '--> None')\n",
    "    \n",
    "\n",
    "try:\n",
    "    print('RESIDENCES: ', owners[i].name, ':', owners[i].prior_residences[0].address,\n",
    "          '-->', owners[i].prior_residences[1].address,\n",
    "         '-->', owners[i].residence.address)\n",
    "except:\n",
    "    try:\n",
    "        print('RESIDENCES: ', owners[i].name, ':', owners[i].prior_residences[0].address,\n",
    "              '-->', owners[i].residence.address)\n",
    "    except:\n",
    "        print('RESIDENCES: ', owners[i].name, ':', owners[i].residence.address,\n",
    "          '--> None')"
   ]
  },
  {
   "cell_type": "code",
   "execution_count": 28,
   "metadata": {},
   "outputs": [
    {
     "name": "stdout",
     "output_type": "stream",
     "text": [
      "Barbara , 101 New Ave , None , True\n",
      "Lucius , 102 New Ave , None , True\n",
      "Dick , 103 New Ave , None , True\n",
      "Bruce , 720 This Rd , None , False\n",
      "Selena , 1001 Other Ave , None , False\n",
      "Fish , 26000 Out There Lane , None , False\n",
      "Jerome , 100 New Ave , None , True\n",
      "Barbara , 101 New Ave , None , True\n",
      "Lucius , 102 New Ave , None , True\n",
      "Dick , 103 New Ave , None , True\n",
      "Alfred , 62 That St , Complete , True\n",
      "Alfred , 100 New Ave , None , False\n"
     ]
    }
   ],
   "source": [
    "for item in owner_occupied_stock.items:\n",
    "    print(item.owner.name, ',', item.address, ',', item.damage_state, ',', item.listed)"
   ]
  },
  {
   "cell_type": "code",
   "execution_count": 29,
   "metadata": {},
   "outputs": [
    {
     "name": "stdout",
     "output_type": "stream",
     "text": [
      "Owner: Greg ; Renter: None , 100 Old Ave None , False\n",
      "Owner: Allison ; Renter: None , 101 Old Ave None , False\n",
      "Owner: Rachel ; Renter: None , 102 Old Ave None , False\n",
      "Owner: Larry ; Renter: None , 103 Old Ave None , False\n",
      "Owner: Gigi ; Renter: None , 341 Where St None , False\n",
      "Owner: Blake ; Renter: None , 9900 Nowhere St None , False\n",
      "Owner: Best Western ; Renter: None , 12300 Lodging Rd None , False\n",
      "Owner: Best Western ; Renter: None , 12301 Lodging Rd None , False\n",
      "Owner: Best Western ; Renter: None , 12302 Lodging Rd None , False\n",
      "Owner: Greg ; Renter: None , 100 Old Ave None , True\n",
      "Owner: Allison ; Renter: None , 101 Old Ave None , True\n",
      "Owner: Rachel ; Renter: None , 102 Old Ave None , True\n",
      "Owner: Larry ; Renter: None , 103 Old Ave None , True\n",
      "Owner: Gigi ; Renter: None , 341 Where St None , True\n",
      "Owner: Blake ; Renter: None , 9900 Nowhere St None , True\n",
      "Owner: Best Western ; Renter: None , 12300 Lodging Rd None , True\n",
      "Owner: Best Western ; Renter: None , 12301 Lodging Rd None , True\n",
      "Owner: Best Western ; Renter: None , 12302 Lodging Rd None , True\n",
      "Owner: Best Western ; Renter: None , 12303 Lodging Rd None , True\n",
      "Owner: Julie ; Renter: Edward 4720 This Rd , None , False\n",
      "Owner: Gerry ; Renter: Oswald 2301 Other Ave , None , False\n",
      "Owner: Sally ; Renter: James 74000 Out There Lane , None , False\n",
      "Owner: Greg ; Renter: Butch 100 Old Ave , None , True\n",
      "Owner: Allison ; Renter: Harvey 101 Old Ave , None , True\n",
      "Owner: Rachel ; Renter: Lee 102 Old Ave , None , True\n",
      "Owner: Larry ; Renter: Carmine 103 Old Ave , None , True\n",
      "Owner: Best Western ; Renter: None , 12303 Lodging Rd None , True\n",
      "Owner: Alice ; Renter: Ivy 262 That St , None , False\n"
     ]
    }
   ],
   "source": [
    "for item in rental_stock.items:\n",
    "    try:\n",
    "        print('Owner:', item.owner.name, '; Renter:', item.owner.tenant.name, item.address, ',', item.damage_state, ',', item.listed)\n",
    "    except:\n",
    "        print('Owner:', item.owner.name, '; Renter: None', ',', item.address, item.damage_state, ',', item.listed)\n",
    "    "
   ]
  },
  {
   "cell_type": "markdown",
   "metadata": {
    "nbpresent": {
     "id": "7ba728c6-b364-4ad6-9073-20a83a0cbe5c"
    }
   },
   "source": [
    "# Summarize and visualize simulation outputs"
   ]
  },
  {
   "cell_type": "markdown",
   "metadata": {
    "nbpresent": {
     "id": "7d4aada5-0d56-481e-b318-6f7a13dcd8a2"
    }
   },
   "source": [
    "## OwnerHousehold summary statistics"
   ]
  },
  {
   "cell_type": "markdown",
   "metadata": {},
   "source": [
    "# ****** `output_summary()` NEEDS TO BE FIXED TO ACCOUNT FOR PRIOR RESIDENCES ******"
   ]
  },
  {
   "cell_type": "code",
   "execution_count": 30,
   "metadata": {
    "nbpresent": {
     "id": "b3eb9288-806e-4978-b30a-93cb80d880e0"
    },
    "scrolled": false
   },
   "outputs": [
    {
     "name": "stdout",
     "output_type": "stream",
     "text": [
      "1 out of 8 owners suffered damage to their homes.\n",
      " 0 out of 8 owners rebuilt or repaired their damaged home.\n",
      " 0 out of 8 owners gave up searching for money.\n",
      " 2 out of 8 owners searched to buy a new home.\n",
      " 2 out of 8 owners bought a new home.\n",
      " 0 out of 8 owners searched to temporarily rent a new home.\n",
      " 0 out of 8 owners rented a temporary home.\n",
      " 0 out of 8 owners gave up searching to buy a home. 0 out of 8 owners gave up searching to rent a temporary home. 0 out of 8 owners are homeless.\n",
      "\n"
     ]
    }
   ],
   "source": [
    "output_summary(owners, 'OwnerHousehold')"
   ]
  },
  {
   "cell_type": "markdown",
   "metadata": {
    "nbpresent": {
     "id": "099821e3-0cad-402e-9da5-fda4bed7663e"
    }
   },
   "source": [
    "## Print OwnerHousehold stories"
   ]
  },
  {
   "cell_type": "code",
   "execution_count": 31,
   "metadata": {
    "nbpresent": {
     "id": "950d3c2e-68b6-4ca2-a2f9-4094469ba2ae"
    },
    "scrolled": false
   },
   "outputs": [
    {
     "data": {
      "text/plain": [
       "['Alfred has $100000 of savings and a credit score of 700. ',\n",
       " 'Alfred resides at 62 That St. ',\n",
       " 'Alfred owns and occupies a 1 bedroom mobile home worth $306,900. ',\n",
       " \"Alfred's mobile home was inspected 10 days after the event. \",\n",
       " 'It was found to have a damage level of complete and was collapsed. ',\n",
       " 'The value of the damage was $306,900. ',\n",
       " 'Alfred started searching for a mobile home rental 10 days after the event. ',\n",
       " 'Alfred has no hazard insurance. ',\n",
       " 'Alfred vacated the owner occupied mobile home at 62 That St. ',\n",
       " 'On day 10, Alfred found a temporary lodging hotel owned by Best Western at 12303 Lodging Rd with a monthly rent of $3,000 and move in cost of $60. ',\n",
       " 'Alfred started searching to buy a mobile home 10 days after the event. ',\n",
       " 'Alfred vacated the hotel temporary lodging at 12303 Lodging Rd. ',\n",
       " 'On day 20, Alfred purchased a $300,000 mobile home at 100 New Ave with a down payment of $30,000. ',\n",
       " 'Alfred applied for a $200,000 SBA loan 30.0 days after the event.',\n",
       " 'Alfred requested $30,000 from FEMA 30 days after the event. ',\n",
       " 'Alfred occupied the owner occupied mobile home at 100 New Ave 30 days after the event. ',\n",
       " 'Alfred received $30,000 from FEMA 40 days after the event. ',\n",
       " \"SBA inspected Alfred's home on day 41.0 after the event. \",\n",
       " 'Alfred received an initial SBA loan disbursement of $25,000 41.0 days after the event. ',\n",
       " 'Alfred received a second SBA loan disbursement of $175,000 51.0 days after the event. ',\n",
       " 'It took Alfred 21 days to exhaust financial assistance options and now has $299,940 for repairs or replacement. ']"
      ]
     },
     "execution_count": 31,
     "metadata": {},
     "output_type": "execute_result"
    }
   ],
   "source": [
    "owners[0].story"
   ]
  },
  {
   "cell_type": "code",
   "execution_count": 32,
   "metadata": {
    "nbpresent": {
     "id": "11e73bf1-4ef5-484b-81cd-936043f5b800"
    }
   },
   "outputs": [
    {
     "data": {
      "text/plain": [
       "['Bruce has $100 of savings and a credit score of 700. ',\n",
       " 'Bruce resides at 720 This Rd. ',\n",
       " 'Bruce owns and occupies a 4 bedroom single family dwelling worth $837,000. ',\n",
       " \"Bruce's single family dwelling was inspected 10 days after the event. \",\n",
       " 'It was found to have a damage level of none and was functional. ',\n",
       " 'The value of the damage was $0. ',\n",
       " 'Bruce reoccupied the owner occupied single family dwelling at 720 This Rd 10 days after the event. ']"
      ]
     },
     "execution_count": 32,
     "metadata": {},
     "output_type": "execute_result"
    }
   ],
   "source": [
    "owners[1].story"
   ]
  },
  {
   "cell_type": "code",
   "execution_count": 33,
   "metadata": {
    "nbpresent": {
     "id": "a653615f-5f7c-4d96-9430-9cde218c3ffc"
    },
    "scrolled": false
   },
   "outputs": [
    {
     "data": {
      "text/plain": [
       "['Selena has $50000 of savings and a credit score of 700. ',\n",
       " 'Selena resides at 1001 Other Ave. ',\n",
       " 'Selena owns and occupies a 2 bedroom single family dwelling worth $209,250. ',\n",
       " \"Selena's single family dwelling was inspected 10 days after the event. \",\n",
       " 'It was found to have a damage level of none and was functional. ',\n",
       " 'The value of the damage was $0. ',\n",
       " 'Selena reoccupied the owner occupied single family dwelling at 1001 Other Ave 10 days after the event. ']"
      ]
     },
     "execution_count": 33,
     "metadata": {},
     "output_type": "execute_result"
    }
   ],
   "source": [
    "owners[2].story"
   ]
  },
  {
   "cell_type": "code",
   "execution_count": 34,
   "metadata": {
    "nbpresent": {
     "id": "e45edacc-0055-418a-a65b-d06361b78f36"
    },
    "scrolled": false
   },
   "outputs": [
    {
     "data": {
      "text/plain": [
       "['Fish has $100 of savings and a credit score of 700. ',\n",
       " 'Fish resides at 26000 Out There Lane. ',\n",
       " 'Fish owns and occupies a 3 bedroom single family dwelling worth $558,000. ',\n",
       " \"Fish's single family dwelling was inspected 10 days after the event. \",\n",
       " 'It was found to have a damage level of none and was functional. ',\n",
       " 'The value of the damage was $0. ',\n",
       " 'Fish reoccupied the owner occupied single family dwelling at 26000 Out There Lane 10 days after the event. ']"
      ]
     },
     "execution_count": 34,
     "metadata": {},
     "output_type": "execute_result"
    }
   ],
   "source": [
    "owners[3].story"
   ]
  },
  {
   "cell_type": "markdown",
   "metadata": {
    "nbpresent": {
     "id": "17baf8a7-1023-4c2d-b6f2-5687736b081c"
    }
   },
   "source": [
    "## RenterHousehold summary statistics"
   ]
  },
  {
   "cell_type": "code",
   "execution_count": 35,
   "metadata": {
    "nbpresent": {
     "id": "c98b8cee-da7d-435b-88a8-ecef564957cb"
    }
   },
   "outputs": [
    {
     "name": "stdout",
     "output_type": "stream",
     "text": [
      "1 out of 8 renters' homes suffered damage.\n",
      " 0 out of 8 renters are homeless.\n",
      " 0 out of 8 renters relocated.\n",
      " 1 out of 8 landlords' damaged property was rebuilt or repaired.\n",
      " 0 landlords gave up searching for repair money.\n"
     ]
    }
   ],
   "source": [
    "output_summary(renters, 'RenterHousehold')"
   ]
  },
  {
   "cell_type": "markdown",
   "metadata": {
    "nbpresent": {
     "id": "04f9c8c8-adbb-4a0f-8a72-a6ed5bfccf91"
    }
   },
   "source": [
    "## Print RenterHousehold stories"
   ]
  },
  {
   "cell_type": "code",
   "execution_count": null,
   "metadata": {
    "nbpresent": {
     "id": "89bd7c5b-ec66-46bd-88cc-afbd144319ab"
    },
    "scrolled": true
   },
   "outputs": [],
   "source": [
    "renters[0].story"
   ]
  },
  {
   "cell_type": "code",
   "execution_count": null,
   "metadata": {
    "nbpresent": {
     "id": "eb7be125-07cc-4997-bc00-ec9562fd57b3"
    }
   },
   "outputs": [],
   "source": [
    "renters[1].story"
   ]
  },
  {
   "cell_type": "code",
   "execution_count": null,
   "metadata": {
    "scrolled": true
   },
   "outputs": [],
   "source": [
    "renters[2].story"
   ]
  },
  {
   "cell_type": "code",
   "execution_count": null,
   "metadata": {},
   "outputs": [],
   "source": [
    "renters[2].story"
   ]
  },
  {
   "cell_type": "code",
   "execution_count": null,
   "metadata": {},
   "outputs": [],
   "source": [
    "df = households_to_df(owners)"
   ]
  },
  {
   "cell_type": "code",
   "execution_count": null,
   "metadata": {},
   "outputs": [],
   "source": [
    "df['name']"
   ]
  },
  {
   "cell_type": "code",
   "execution_count": null,
   "metadata": {
    "collapsed": true
   },
   "outputs": [],
   "source": [
    "# outfile = '../outputs/' + str(datetime.now().hour) + str(datetime.now().minute) + str(datetime.now().day) \\\n",
    "#                  + str(datetime.now().month) + str(datetime.now().year) + '.csv'\n",
    "    \n",
    "# df.to_csv(outfile)"
   ]
  },
  {
   "cell_type": "code",
   "execution_count": null,
   "metadata": {
    "collapsed": true
   },
   "outputs": [],
   "source": [
    "event_list=[]\n",
    "\n",
    "for i in df.columns:\n",
    "    if \"get\" in i or \"put\" in i or \"stop\" in i or \"start\" in i or \"name\" in i or \"gave\" in i:\n",
    "        event_list.append(i)\n",
    "\n",
    "event_df = df[event_list]\n",
    "event_df = event_df.set_index('name')"
   ]
  },
  {
   "cell_type": "code",
   "execution_count": null,
   "metadata": {
    "collapsed": true
   },
   "outputs": [],
   "source": [
    "event_df"
   ]
  },
  {
   "cell_type": "markdown",
   "metadata": {},
   "source": [
    "__Visualize events experienced by an individual HomeOwner entity.__"
   ]
  },
  {
   "cell_type": "code",
   "execution_count": null,
   "metadata": {},
   "outputs": [],
   "source": [
    "names = sorted([f for f in df['name']])\n",
    "\n",
    "name_chooser = Dropdown(\n",
    "    options=names\n",
    ")\n",
    "display(name_chooser)"
   ]
  },
  {
   "cell_type": "code",
   "execution_count": null,
   "metadata": {},
   "outputs": [],
   "source": [
    "name = name_chooser.value\n",
    "\n",
    "name_row = df[df['name']==name][['inspection_put',\n",
    " 'inspection_get',\n",
    " 'claim_put',\n",
    " 'claim_get',\n",
    " 'fema_put',\n",
    " 'fema_get',\n",
    " 'sba_put',\n",
    " 'sba_get',\n",
    "'occupy_put',\n",
    "'occupy_get']]\n",
    "\n",
    "%matplotlib inline\n",
    "plt.figure(figsize=(10,10))\n",
    "sns.set_style(style=\"whitegrid\")\n",
    "sns.set(font_scale=2)\n",
    "ax = sns.stripplot(name_row.iloc[0], name_row.columns, jitter=True, size = 15, linewidth=1)\n",
    "ax.set(xlabel=\"Days After Event\", ylabel=\"Housing Recovery Events for {0}\".format(name))\n",
    "ax.set_xbound(lower=0)"
   ]
  },
  {
   "cell_type": "markdown",
   "metadata": {},
   "source": [
    "Map of outputs"
   ]
  },
  {
   "cell_type": "code",
   "execution_count": null,
   "metadata": {
    "collapsed": true
   },
   "outputs": [],
   "source": [
    "# outfile = '../outputs/' + 'folium_map_' + str(datetime.now().hour) + str(datetime.now().minute) + str(datetime.now().day) \\\n",
    "#                  + str(datetime.now().month) + str(datetime.now().year) + '.html'\n",
    "    \n",
    "# folium_map(df, outfile = outfile)"
   ]
  },
  {
   "cell_type": "markdown",
   "metadata": {},
   "source": [
    "Dashboard of outputs"
   ]
  },
  {
   "cell_type": "code",
   "execution_count": null,
   "metadata": {
    "collapsed": true
   },
   "outputs": [],
   "source": [
    "# outfile = '../outputs/' + 'dashboard_' + str(datetime.now().hour) + str(datetime.now().minute) + str(datetime.now().day) \\\n",
    "#                  + str(datetime.now().month) + str(datetime.now().year) + '.html'\n",
    "\n",
    "# dashboard(df, outfile = outfile)"
   ]
  }
 ],
 "metadata": {
  "anaconda-cloud": {},
  "kernelspec": {
   "display_name": "Python [default]",
   "language": "python",
   "name": "python3"
  },
  "language_info": {
   "codemirror_mode": {
    "name": "ipython",
    "version": 3
   },
   "file_extension": ".py",
   "mimetype": "text/x-python",
   "name": "python",
   "nbconvert_exporter": "python",
   "pygments_lexer": "ipython3",
   "version": "3.5.3"
  },
  "nbpresent": {
   "slides": {
    "c70bf630-c1ab-4568-8b60-1be60a4c6f14": {
     "id": "c70bf630-c1ab-4568-8b60-1be60a4c6f14",
     "layout": "grid",
     "prev": null,
     "regions": {
      "4937cfd3-95ef-472b-8bcb-0fe395034eeb": {
       "attrs": {
        "height": 0.75,
        "pad": 0.01,
        "treemap:weight": 1,
        "width": 0.3333333333333333,
        "x": 0.6666666666666666,
        "y": 0
       },
       "id": "4937cfd3-95ef-472b-8bcb-0fe395034eeb"
      },
      "5fbef4a8-e9f1-4a08-86db-46056e211b66": {
       "attrs": {
        "height": 0.75,
        "pad": 0.01,
        "treemap:weight": 1,
        "width": 0.3333333333333333,
        "x": 0.3333333333333333,
        "y": 0
       },
       "id": "5fbef4a8-e9f1-4a08-86db-46056e211b66"
      },
      "7ee15621-2c2c-44b3-b170-4eb63bd818cc": {
       "attrs": {
        "height": 0.25,
        "pad": 0.01,
        "treemap:weight": 1,
        "width": 1,
        "x": 0,
        "y": 0.75
       },
       "id": "7ee15621-2c2c-44b3-b170-4eb63bd818cc"
      },
      "fc201ce3-4473-4f2f-b833-b627be3edf18": {
       "attrs": {
        "height": 0.75,
        "pad": 0.01,
        "treemap:weight": 1,
        "width": 0.3333333333333333,
        "x": 0,
        "y": 0
       },
       "content": {
        "cell": "daf47265-2d0b-406e-bda0-4d5c93d295ab",
        "part": "source"
       },
       "id": "fc201ce3-4473-4f2f-b833-b627be3edf18"
      }
     }
    }
   },
   "themes": {}
  }
 },
 "nbformat": 4,
 "nbformat_minor": 1
}
