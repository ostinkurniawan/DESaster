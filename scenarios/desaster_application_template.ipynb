{
 "cells": [
  {
   "cell_type": "markdown",
   "metadata": {
    "nbpresent": {
     "id": "5d6821e5-6824-4330-a555-39b1dc08357a"
    }
   },
   "source": [
    "# DESaster Application Template\n",
    "v. 10292017"
   ]
  },
  {
   "cell_type": "markdown",
   "metadata": {
    "nbpresent": {
     "id": "1d3465f4-2fbf-4582-92e9-7c48d9cf82e6"
    }
   },
   "source": [
    "## Required Modules"
   ]
  },
  {
   "cell_type": "code",
   "execution_count": 101,
   "metadata": {
    "nbpresent": {
     "id": "efe0367b-ecea-4f68-8747-3507afa0a7e4"
    }
   },
   "outputs": [],
   "source": [
    "# System modules\n",
    "import sys, random, inspect\n",
    "from datetime import datetime\n",
    "from IPython.display import display\n",
    "import sys, inspect\n",
    "\n",
    "# Data analysis modules\n",
    "import pandas as pd\n",
    "import numpy as np\n",
    "from scipy.stats import uniform, norm, beta, weibull_min, rv_discrete\n",
    "import random\n",
    "from ipywidgets import Dropdown\n",
    "\n",
    "\n",
    "# SimPy modules\n",
    "import simpy\n",
    "from simpy import Resource, Container, FilterStore\n",
    "from simpy.util import start_delayed\n",
    "\n",
    "# Viz modules\n",
    "import matplotlib.pyplot as plt\n",
    "import seaborn as sns\n",
    "import folium\n",
    "from folium import plugins\n",
    "import branca.colormap as cm\n",
    "from folium.plugins import MarkerCluster\n",
    "from folium import Map, FeatureGroup, Marker, LayerControl\n",
    "\n",
    "### DESaster Modules\n",
    "desaster_path = \"/Users/geomando/Dropbox/github/DESaster\"\n",
    "sys.path.append(desaster_path)\n",
    "import desaster\n",
    "from desaster.io import *\n",
    "from desaster.structures import *\n",
    "from desaster.financial import *\n",
    "from desaster.technical import *\n",
    "from desaster.entities import *\n",
    "from desaster.policies import *\n",
    "from desaster.visualize import dashboard, folium_map"
   ]
  },
  {
   "cell_type": "markdown",
   "metadata": {
    "nbpresent": {
     "id": "cccae357-be1e-4cdd-b6da-33bc39eb27c2"
    }
   },
   "source": [
    "## Import Households Attribute Data\n",
    "Input data must be MS Excel .xlsx file with format (column names and sheet names) of ../inputs/desaster_input_data_template.xlsx"
   ]
  },
  {
   "cell_type": "code",
   "execution_count": 102,
   "metadata": {
    "collapsed": true,
    "nbpresent": {
     "id": "f5ad9903-feef-4cc1-865e-2632556532d1"
    }
   },
   "outputs": [],
   "source": [
    "scenario_file = '../inputs/desaster_input_data_template.xlsx'"
   ]
  },
  {
   "cell_type": "markdown",
   "metadata": {},
   "source": [
    "__Create Pandas dataframe of attribute data for all OwnerHouseholds to be modeled in the simulation.__"
   ]
  },
  {
   "cell_type": "code",
   "execution_count": 103,
   "metadata": {
    "nbpresent": {
     "id": "77a6f2a4-6ea6-484d-9de2-eba265cd3ce1"
    }
   },
   "outputs": [
    {
     "data": {
      "text/html": [
       "<div>\n",
       "<style>\n",
       "    .dataframe thead tr:only-child th {\n",
       "        text-align: right;\n",
       "    }\n",
       "\n",
       "    .dataframe thead th {\n",
       "        text-align: left;\n",
       "    }\n",
       "\n",
       "    .dataframe tbody tr th {\n",
       "        vertical-align: top;\n",
       "    }\n",
       "</style>\n",
       "<table border=\"1\" class=\"dataframe\">\n",
       "  <thead>\n",
       "    <tr style=\"text-align: right;\">\n",
       "      <th></th>\n",
       "      <th>Name</th>\n",
       "      <th>Income</th>\n",
       "      <th>Owner Savings</th>\n",
       "      <th>Owner Insurance</th>\n",
       "      <th>Address</th>\n",
       "      <th>Monthly Cost</th>\n",
       "      <th>Occupancy</th>\n",
       "      <th>Tenure</th>\n",
       "      <th>Bedrooms</th>\n",
       "      <th>Bathrooms</th>\n",
       "      <th>Area</th>\n",
       "      <th>Year Built</th>\n",
       "      <th>Value</th>\n",
       "      <th>Damage State</th>\n",
       "      <th>Listed</th>\n",
       "      <th>Longitude</th>\n",
       "      <th>Latitude</th>\n",
       "      <th>Owner Credit</th>\n",
       "    </tr>\n",
       "  </thead>\n",
       "  <tbody>\n",
       "    <tr>\n",
       "      <th>0</th>\n",
       "      <td>Alfred</td>\n",
       "      <td>60000</td>\n",
       "      <td>100000</td>\n",
       "      <td>0</td>\n",
       "      <td>62 That St</td>\n",
       "      <td>1482.755005</td>\n",
       "      <td>Mobile Home</td>\n",
       "      <td>Owner Occupied</td>\n",
       "      <td>1</td>\n",
       "      <td>1</td>\n",
       "      <td>1100</td>\n",
       "      <td>1920</td>\n",
       "      <td>306900</td>\n",
       "      <td>Complete</td>\n",
       "      <td>False</td>\n",
       "      <td>-90.296127</td>\n",
       "      <td>43.224344</td>\n",
       "      <td>700</td>\n",
       "    </tr>\n",
       "    <tr>\n",
       "      <th>1</th>\n",
       "      <td>Bruce</td>\n",
       "      <td>1000000</td>\n",
       "      <td>100</td>\n",
       "      <td>1</td>\n",
       "      <td>720 This Rd</td>\n",
       "      <td>4043.877286</td>\n",
       "      <td>Single Family Dwelling</td>\n",
       "      <td>Owner Occupied</td>\n",
       "      <td>4</td>\n",
       "      <td>3</td>\n",
       "      <td>3000</td>\n",
       "      <td>1920</td>\n",
       "      <td>837000</td>\n",
       "      <td>None</td>\n",
       "      <td>False</td>\n",
       "      <td>-90.295697</td>\n",
       "      <td>43.224219</td>\n",
       "      <td>700</td>\n",
       "    </tr>\n",
       "    <tr>\n",
       "      <th>2</th>\n",
       "      <td>Selena</td>\n",
       "      <td>45000</td>\n",
       "      <td>50000</td>\n",
       "      <td>0</td>\n",
       "      <td>1001 Other Ave</td>\n",
       "      <td>1010.969322</td>\n",
       "      <td>Single Family Dwelling</td>\n",
       "      <td>Owner Occupied</td>\n",
       "      <td>2</td>\n",
       "      <td>1</td>\n",
       "      <td>750</td>\n",
       "      <td>1960</td>\n",
       "      <td>209250</td>\n",
       "      <td>Extensive</td>\n",
       "      <td>False</td>\n",
       "      <td>-90.296706</td>\n",
       "      <td>43.223984</td>\n",
       "      <td>700</td>\n",
       "    </tr>\n",
       "    <tr>\n",
       "      <th>3</th>\n",
       "      <td>Fish</td>\n",
       "      <td>125000</td>\n",
       "      <td>100</td>\n",
       "      <td>0</td>\n",
       "      <td>26000 Out There Lane</td>\n",
       "      <td>2695.918191</td>\n",
       "      <td>Single Family Dwelling</td>\n",
       "      <td>Owner Occupied</td>\n",
       "      <td>3</td>\n",
       "      <td>2</td>\n",
       "      <td>2000</td>\n",
       "      <td>2010</td>\n",
       "      <td>558000</td>\n",
       "      <td>None</td>\n",
       "      <td>False</td>\n",
       "      <td>-90.296642</td>\n",
       "      <td>43.223750</td>\n",
       "      <td>700</td>\n",
       "    </tr>\n",
       "    <tr>\n",
       "      <th>4</th>\n",
       "      <td>Jerome</td>\n",
       "      <td>100000000</td>\n",
       "      <td>100000000</td>\n",
       "      <td>1</td>\n",
       "      <td>100 New Ave</td>\n",
       "      <td>1449.418382</td>\n",
       "      <td>Mobile Home</td>\n",
       "      <td>Owner Occupied</td>\n",
       "      <td>1</td>\n",
       "      <td>1</td>\n",
       "      <td>1100</td>\n",
       "      <td>1920</td>\n",
       "      <td>300000</td>\n",
       "      <td>None</td>\n",
       "      <td>True</td>\n",
       "      <td>-90.295054</td>\n",
       "      <td>43.224375</td>\n",
       "      <td>700</td>\n",
       "    </tr>\n",
       "    <tr>\n",
       "      <th>5</th>\n",
       "      <td>Barbara</td>\n",
       "      <td>100000000</td>\n",
       "      <td>100000000</td>\n",
       "      <td>1</td>\n",
       "      <td>101 New Ave</td>\n",
       "      <td>3865.115686</td>\n",
       "      <td>Single Family Dwelling</td>\n",
       "      <td>Owner Occupied</td>\n",
       "      <td>4</td>\n",
       "      <td>3</td>\n",
       "      <td>3000</td>\n",
       "      <td>1920</td>\n",
       "      <td>800000</td>\n",
       "      <td>None</td>\n",
       "      <td>True</td>\n",
       "      <td>-90.294539</td>\n",
       "      <td>43.224391</td>\n",
       "      <td>700</td>\n",
       "    </tr>\n",
       "    <tr>\n",
       "      <th>6</th>\n",
       "      <td>Lucius</td>\n",
       "      <td>100000000</td>\n",
       "      <td>100000000</td>\n",
       "      <td>1</td>\n",
       "      <td>102 New Ave</td>\n",
       "      <td>1010.969322</td>\n",
       "      <td>Single Family Dwelling</td>\n",
       "      <td>Owner Occupied</td>\n",
       "      <td>2</td>\n",
       "      <td>1</td>\n",
       "      <td>750</td>\n",
       "      <td>1960</td>\n",
       "      <td>209250</td>\n",
       "      <td>None</td>\n",
       "      <td>True</td>\n",
       "      <td>-90.295225</td>\n",
       "      <td>43.223953</td>\n",
       "      <td>700</td>\n",
       "    </tr>\n",
       "    <tr>\n",
       "      <th>7</th>\n",
       "      <td>Dick</td>\n",
       "      <td>100000000</td>\n",
       "      <td>100000000</td>\n",
       "      <td>1</td>\n",
       "      <td>103 New Ave</td>\n",
       "      <td>2415.697304</td>\n",
       "      <td>Single Family Dwelling</td>\n",
       "      <td>Owner Occupied</td>\n",
       "      <td>3</td>\n",
       "      <td>2</td>\n",
       "      <td>2000</td>\n",
       "      <td>2010</td>\n",
       "      <td>500000</td>\n",
       "      <td>None</td>\n",
       "      <td>True</td>\n",
       "      <td>-90.295225</td>\n",
       "      <td>43.223718</td>\n",
       "      <td>700</td>\n",
       "    </tr>\n",
       "  </tbody>\n",
       "</table>\n",
       "</div>"
      ],
      "text/plain": [
       "      Name     Income  Owner Savings  Owner Insurance               Address  \\\n",
       "0   Alfred      60000         100000                0            62 That St   \n",
       "1    Bruce    1000000            100                1           720 This Rd   \n",
       "2   Selena      45000          50000                0        1001 Other Ave   \n",
       "3     Fish     125000            100                0  26000 Out There Lane   \n",
       "4   Jerome  100000000      100000000                1           100 New Ave   \n",
       "5  Barbara  100000000      100000000                1           101 New Ave   \n",
       "6   Lucius  100000000      100000000                1           102 New Ave   \n",
       "7     Dick  100000000      100000000                1           103 New Ave   \n",
       "\n",
       "   Monthly Cost               Occupancy          Tenure  Bedrooms  Bathrooms  \\\n",
       "0   1482.755005             Mobile Home  Owner Occupied         1          1   \n",
       "1   4043.877286  Single Family Dwelling  Owner Occupied         4          3   \n",
       "2   1010.969322  Single Family Dwelling  Owner Occupied         2          1   \n",
       "3   2695.918191  Single Family Dwelling  Owner Occupied         3          2   \n",
       "4   1449.418382             Mobile Home  Owner Occupied         1          1   \n",
       "5   3865.115686  Single Family Dwelling  Owner Occupied         4          3   \n",
       "6   1010.969322  Single Family Dwelling  Owner Occupied         2          1   \n",
       "7   2415.697304  Single Family Dwelling  Owner Occupied         3          2   \n",
       "\n",
       "   Area  Year Built   Value Damage State  Listed  Longitude   Latitude  \\\n",
       "0  1100        1920  306900     Complete   False -90.296127  43.224344   \n",
       "1  3000        1920  837000         None   False -90.295697  43.224219   \n",
       "2   750        1960  209250    Extensive   False -90.296706  43.223984   \n",
       "3  2000        2010  558000         None   False -90.296642  43.223750   \n",
       "4  1100        1920  300000         None    True -90.295054  43.224375   \n",
       "5  3000        1920  800000         None    True -90.294539  43.224391   \n",
       "6   750        1960  209250         None    True -90.295225  43.223953   \n",
       "7  2000        2010  500000         None    True -90.295225  43.223718   \n",
       "\n",
       "   Owner Credit  \n",
       "0           700  \n",
       "1           700  \n",
       "2           700  \n",
       "3           700  \n",
       "4           700  \n",
       "5           700  \n",
       "6           700  \n",
       "7           700  "
      ]
     },
     "execution_count": 103,
     "metadata": {},
     "output_type": "execute_result"
    }
   ],
   "source": [
    "owners_df = pd.read_excel(scenario_file, sheetname='owners')\n",
    "owners_df"
   ]
  },
  {
   "cell_type": "markdown",
   "metadata": {},
   "source": [
    "__Create Pandas dataframe of attribute data for all RenterHouseholds to be modeled in the simulation.__"
   ]
  },
  {
   "cell_type": "code",
   "execution_count": 104,
   "metadata": {
    "nbpresent": {
     "id": "2bedb18e-ce6d-41cb-98a4-7b91bd10f9bb"
    }
   },
   "outputs": [
    {
     "data": {
      "text/html": [
       "<div>\n",
       "<style>\n",
       "    .dataframe thead tr:only-child th {\n",
       "        text-align: right;\n",
       "    }\n",
       "\n",
       "    .dataframe thead th {\n",
       "        text-align: left;\n",
       "    }\n",
       "\n",
       "    .dataframe tbody tr th {\n",
       "        vertical-align: top;\n",
       "    }\n",
       "</style>\n",
       "<table border=\"1\" class=\"dataframe\">\n",
       "  <thead>\n",
       "    <tr style=\"text-align: right;\">\n",
       "      <th></th>\n",
       "      <th>Name</th>\n",
       "      <th>Address</th>\n",
       "      <th>Occupancy</th>\n",
       "      <th>Tenure</th>\n",
       "      <th>Income</th>\n",
       "      <th>Tenant Savings</th>\n",
       "      <th>Tenant Credit</th>\n",
       "      <th>Tenant Insurance</th>\n",
       "      <th>Monthly Cost</th>\n",
       "      <th>Bedrooms</th>\n",
       "      <th>...</th>\n",
       "      <th>Year Built</th>\n",
       "      <th>Value</th>\n",
       "      <th>Damage State</th>\n",
       "      <th>Landlord</th>\n",
       "      <th>Owner Savings</th>\n",
       "      <th>Owner Insurance</th>\n",
       "      <th>Listed</th>\n",
       "      <th>Longitude</th>\n",
       "      <th>Latitude</th>\n",
       "      <th>Owner Credit</th>\n",
       "    </tr>\n",
       "  </thead>\n",
       "  <tbody>\n",
       "    <tr>\n",
       "      <th>0</th>\n",
       "      <td>Ivy</td>\n",
       "      <td>262 That St</td>\n",
       "      <td>Mobile Home</td>\n",
       "      <td>Rental</td>\n",
       "      <td>119040</td>\n",
       "      <td>1000</td>\n",
       "      <td>700</td>\n",
       "      <td>0</td>\n",
       "      <td>2480</td>\n",
       "      <td>1</td>\n",
       "      <td>...</td>\n",
       "      <td>1920</td>\n",
       "      <td>279000</td>\n",
       "      <td>Moderate</td>\n",
       "      <td>Alice</td>\n",
       "      <td>30000</td>\n",
       "      <td>0</td>\n",
       "      <td>False</td>\n",
       "      <td>-90.294238</td>\n",
       "      <td>43.224015</td>\n",
       "      <td>700</td>\n",
       "    </tr>\n",
       "    <tr>\n",
       "      <th>1</th>\n",
       "      <td>Edward</td>\n",
       "      <td>4720 This Rd</td>\n",
       "      <td>Single Family Dwelling</td>\n",
       "      <td>Rental</td>\n",
       "      <td>178560</td>\n",
       "      <td>1000</td>\n",
       "      <td>700</td>\n",
       "      <td>0</td>\n",
       "      <td>3720</td>\n",
       "      <td>3</td>\n",
       "      <td>...</td>\n",
       "      <td>1920</td>\n",
       "      <td>418500</td>\n",
       "      <td>Slight</td>\n",
       "      <td>Julie</td>\n",
       "      <td>30000</td>\n",
       "      <td>0</td>\n",
       "      <td>False</td>\n",
       "      <td>-90.293766</td>\n",
       "      <td>43.224062</td>\n",
       "      <td>700</td>\n",
       "    </tr>\n",
       "    <tr>\n",
       "      <th>2</th>\n",
       "      <td>Oswald</td>\n",
       "      <td>2301 Other Ave</td>\n",
       "      <td>Single Family Dwelling</td>\n",
       "      <td>Rental</td>\n",
       "      <td>1000000</td>\n",
       "      <td>1000000</td>\n",
       "      <td>700</td>\n",
       "      <td>0</td>\n",
       "      <td>1240</td>\n",
       "      <td>0</td>\n",
       "      <td>...</td>\n",
       "      <td>1960</td>\n",
       "      <td>139500</td>\n",
       "      <td>Extensive</td>\n",
       "      <td>Gerry</td>\n",
       "      <td>30000</td>\n",
       "      <td>1</td>\n",
       "      <td>False</td>\n",
       "      <td>-90.293294</td>\n",
       "      <td>43.224125</td>\n",
       "      <td>700</td>\n",
       "    </tr>\n",
       "    <tr>\n",
       "      <th>3</th>\n",
       "      <td>James</td>\n",
       "      <td>74000 Out There Lane</td>\n",
       "      <td>Single Family Dwelling</td>\n",
       "      <td>Rental</td>\n",
       "      <td>238080</td>\n",
       "      <td>1000</td>\n",
       "      <td>700</td>\n",
       "      <td>0</td>\n",
       "      <td>4960</td>\n",
       "      <td>2</td>\n",
       "      <td>...</td>\n",
       "      <td>2010</td>\n",
       "      <td>558000</td>\n",
       "      <td>Complete</td>\n",
       "      <td>Sally</td>\n",
       "      <td>30000</td>\n",
       "      <td>1</td>\n",
       "      <td>False</td>\n",
       "      <td>-90.293058</td>\n",
       "      <td>43.223937</td>\n",
       "      <td>700</td>\n",
       "    </tr>\n",
       "    <tr>\n",
       "      <th>4</th>\n",
       "      <td>Butch</td>\n",
       "      <td>100 Old Ave</td>\n",
       "      <td>Mobile Home</td>\n",
       "      <td>Rental</td>\n",
       "      <td>100000000</td>\n",
       "      <td>1000</td>\n",
       "      <td>700</td>\n",
       "      <td>0</td>\n",
       "      <td>2480</td>\n",
       "      <td>1</td>\n",
       "      <td>...</td>\n",
       "      <td>1920</td>\n",
       "      <td>279000</td>\n",
       "      <td>None</td>\n",
       "      <td>Greg</td>\n",
       "      <td>100000000</td>\n",
       "      <td>1</td>\n",
       "      <td>True</td>\n",
       "      <td>-90.293080</td>\n",
       "      <td>43.223671</td>\n",
       "      <td>700</td>\n",
       "    </tr>\n",
       "    <tr>\n",
       "      <th>5</th>\n",
       "      <td>Harvey</td>\n",
       "      <td>101 Old Ave</td>\n",
       "      <td>Single Family Dwelling</td>\n",
       "      <td>Rental</td>\n",
       "      <td>100000000</td>\n",
       "      <td>1000</td>\n",
       "      <td>700</td>\n",
       "      <td>0</td>\n",
       "      <td>3720</td>\n",
       "      <td>3</td>\n",
       "      <td>...</td>\n",
       "      <td>1920</td>\n",
       "      <td>418500</td>\n",
       "      <td>None</td>\n",
       "      <td>Allison</td>\n",
       "      <td>100000000</td>\n",
       "      <td>1</td>\n",
       "      <td>True</td>\n",
       "      <td>-90.292736</td>\n",
       "      <td>43.223546</td>\n",
       "      <td>700</td>\n",
       "    </tr>\n",
       "    <tr>\n",
       "      <th>6</th>\n",
       "      <td>Lee</td>\n",
       "      <td>102 Old Ave</td>\n",
       "      <td>Single Family Dwelling</td>\n",
       "      <td>Rental</td>\n",
       "      <td>100000000</td>\n",
       "      <td>1000</td>\n",
       "      <td>700</td>\n",
       "      <td>0</td>\n",
       "      <td>1240</td>\n",
       "      <td>0</td>\n",
       "      <td>...</td>\n",
       "      <td>1960</td>\n",
       "      <td>139500</td>\n",
       "      <td>None</td>\n",
       "      <td>Rachel</td>\n",
       "      <td>100000000</td>\n",
       "      <td>1</td>\n",
       "      <td>True</td>\n",
       "      <td>-90.296191</td>\n",
       "      <td>43.223406</td>\n",
       "      <td>700</td>\n",
       "    </tr>\n",
       "    <tr>\n",
       "      <th>7</th>\n",
       "      <td>Carmine</td>\n",
       "      <td>103 Old Ave</td>\n",
       "      <td>Single Family Dwelling</td>\n",
       "      <td>Rental</td>\n",
       "      <td>100000000</td>\n",
       "      <td>1000</td>\n",
       "      <td>700</td>\n",
       "      <td>0</td>\n",
       "      <td>4960</td>\n",
       "      <td>2</td>\n",
       "      <td>...</td>\n",
       "      <td>2010</td>\n",
       "      <td>558000</td>\n",
       "      <td>None</td>\n",
       "      <td>Larry</td>\n",
       "      <td>100000000</td>\n",
       "      <td>1</td>\n",
       "      <td>True</td>\n",
       "      <td>-90.295740</td>\n",
       "      <td>43.223359</td>\n",
       "      <td>700</td>\n",
       "    </tr>\n",
       "    <tr>\n",
       "      <th>8</th>\n",
       "      <td>For Alfred</td>\n",
       "      <td>341 Where St</td>\n",
       "      <td>Mobile Home</td>\n",
       "      <td>Rental</td>\n",
       "      <td>60000</td>\n",
       "      <td>1000</td>\n",
       "      <td>700</td>\n",
       "      <td>0</td>\n",
       "      <td>1</td>\n",
       "      <td>1</td>\n",
       "      <td>...</td>\n",
       "      <td>1920</td>\n",
       "      <td>306900</td>\n",
       "      <td>None</td>\n",
       "      <td>Gal</td>\n",
       "      <td>30000</td>\n",
       "      <td>0</td>\n",
       "      <td>True</td>\n",
       "      <td>-90.294238</td>\n",
       "      <td>43.224015</td>\n",
       "      <td>700</td>\n",
       "    </tr>\n",
       "    <tr>\n",
       "      <th>9</th>\n",
       "      <td>For Selena</td>\n",
       "      <td>9900 Nowhere St</td>\n",
       "      <td>Single Family Dwelling</td>\n",
       "      <td>Rental</td>\n",
       "      <td>60000</td>\n",
       "      <td>1000</td>\n",
       "      <td>700</td>\n",
       "      <td>0</td>\n",
       "      <td>1</td>\n",
       "      <td>2</td>\n",
       "      <td>...</td>\n",
       "      <td>1960</td>\n",
       "      <td>209250</td>\n",
       "      <td>None</td>\n",
       "      <td>Blake</td>\n",
       "      <td>30000</td>\n",
       "      <td>0</td>\n",
       "      <td>True</td>\n",
       "      <td>-90.294238</td>\n",
       "      <td>43.224015</td>\n",
       "      <td>700</td>\n",
       "    </tr>\n",
       "  </tbody>\n",
       "</table>\n",
       "<p>10 rows × 22 columns</p>\n",
       "</div>"
      ],
      "text/plain": [
       "         Name               Address               Occupancy  Tenure  \\\n",
       "0         Ivy           262 That St             Mobile Home  Rental   \n",
       "1      Edward          4720 This Rd  Single Family Dwelling  Rental   \n",
       "2      Oswald        2301 Other Ave  Single Family Dwelling  Rental   \n",
       "3       James  74000 Out There Lane  Single Family Dwelling  Rental   \n",
       "4       Butch           100 Old Ave             Mobile Home  Rental   \n",
       "5      Harvey           101 Old Ave  Single Family Dwelling  Rental   \n",
       "6         Lee           102 Old Ave  Single Family Dwelling  Rental   \n",
       "7     Carmine           103 Old Ave  Single Family Dwelling  Rental   \n",
       "8  For Alfred          341 Where St             Mobile Home  Rental   \n",
       "9  For Selena       9900 Nowhere St  Single Family Dwelling  Rental   \n",
       "\n",
       "      Income  Tenant Savings  Tenant Credit  Tenant Insurance  Monthly Cost  \\\n",
       "0     119040            1000            700                 0          2480   \n",
       "1     178560            1000            700                 0          3720   \n",
       "2    1000000         1000000            700                 0          1240   \n",
       "3     238080            1000            700                 0          4960   \n",
       "4  100000000            1000            700                 0          2480   \n",
       "5  100000000            1000            700                 0          3720   \n",
       "6  100000000            1000            700                 0          1240   \n",
       "7  100000000            1000            700                 0          4960   \n",
       "8      60000            1000            700                 0             1   \n",
       "9      60000            1000            700                 0             1   \n",
       "\n",
       "   Bedrooms      ...       Year Built   Value  Damage State  Landlord  \\\n",
       "0         1      ...             1920  279000      Moderate     Alice   \n",
       "1         3      ...             1920  418500        Slight     Julie   \n",
       "2         0      ...             1960  139500     Extensive     Gerry   \n",
       "3         2      ...             2010  558000      Complete     Sally   \n",
       "4         1      ...             1920  279000          None      Greg   \n",
       "5         3      ...             1920  418500          None   Allison   \n",
       "6         0      ...             1960  139500          None    Rachel   \n",
       "7         2      ...             2010  558000          None     Larry   \n",
       "8         1      ...             1920  306900          None       Gal   \n",
       "9         2      ...             1960  209250          None     Blake   \n",
       "\n",
       "  Owner Savings Owner Insurance  Listed  Longitude   Latitude  Owner Credit  \n",
       "0         30000               0   False -90.294238  43.224015           700  \n",
       "1         30000               0   False -90.293766  43.224062           700  \n",
       "2         30000               1   False -90.293294  43.224125           700  \n",
       "3         30000               1   False -90.293058  43.223937           700  \n",
       "4     100000000               1    True -90.293080  43.223671           700  \n",
       "5     100000000               1    True -90.292736  43.223546           700  \n",
       "6     100000000               1    True -90.296191  43.223406           700  \n",
       "7     100000000               1    True -90.295740  43.223359           700  \n",
       "8         30000               0    True -90.294238  43.224015           700  \n",
       "9         30000               0    True -90.294238  43.224015           700  \n",
       "\n",
       "[10 rows x 22 columns]"
      ]
     },
     "execution_count": 104,
     "metadata": {},
     "output_type": "execute_result"
    }
   ],
   "source": [
    "renters_df = pd.read_excel(scenario_file, sheetname='renters')\n",
    "renters_df"
   ]
  },
  {
   "cell_type": "markdown",
   "metadata": {},
   "source": [
    "# Inspect DESaster library modules and classes"
   ]
  },
  {
   "cell_type": "markdown",
   "metadata": {},
   "source": [
    "Choose DESaster module to list classes (next cell)"
   ]
  },
  {
   "cell_type": "code",
   "execution_count": 105,
   "metadata": {},
   "outputs": [
    {
     "name": "stderr",
     "output_type": "stream",
     "text": [
      "Widget Javascript not detected.  It may not be installed or enabled properly.\n"
     ]
    },
    {
     "data": {
      "application/vnd.jupyter.widget-view+json": {
       "model_id": "0a4c7c81169a46978d9b573e4123c50b"
      }
     },
     "metadata": {},
     "output_type": "display_data"
    }
   ],
   "source": [
    "\n",
    "modules = sorted(str(name) for name, obj in inspect.getmembers(desaster) if inspect.ismodule(obj))\n",
    "module_chooser = Dropdown(\n",
    "    options=modules\n",
    ")\n",
    "display(module_chooser)"
   ]
  },
  {
   "cell_type": "markdown",
   "metadata": {},
   "source": [
    "List classes in module selected above"
   ]
  },
  {
   "cell_type": "code",
   "execution_count": 106,
   "metadata": {
    "scrolled": true
   },
   "outputs": [
    {
     "name": "stdout",
     "output_type": "stream",
     "text": [
      "DESaster Entities Classes\n",
      "--------------\n",
      "Building\n",
      "Container\n",
      "Household\n",
      "Landlord\n",
      "Owner\n",
      "OwnerHousehold\n",
      "RenterHousehold\n",
      "SingleFamilyResidential\n"
     ]
    }
   ],
   "source": [
    "print('DESaster ' + str(module_chooser.value).title() + ' Classes')\n",
    "print('--------------')\n",
    "classes = sorted(str(name) for name, obj in inspect.getmembers(eval('desaster.' + module_chooser.value)) if inspect.isclass(obj))\n",
    "for i in classes: print(i)"
   ]
  },
  {
   "cell_type": "code",
   "execution_count": 107,
   "metadata": {},
   "outputs": [
    {
     "name": "stdout",
     "output_type": "stream",
     "text": [
      "__init__\n",
      "buy_home\n",
      "occupy\n",
      "rent_home\n",
      "story_to_text\n",
      "writeAttributes\n",
      "writeGaveUpHomeBuySearch\n",
      "writeGaveUpHomeRentSearchMoney\n",
      "writeGaveUpHomeRentSearchStock\n",
      "writeHomeBuy\n",
      "writeHomeRent\n",
      "writeOccupy\n",
      "writeOwnsOccupies\n",
      "writeResides\n",
      "writeStartHomeBuySearch\n",
      "writeStartHomeRentSearch\n"
     ]
    }
   ],
   "source": [
    "methods = sorted(str(name) for name, obj in inspect.getmembers(desaster.entities.OwnerHousehold) if inspect.isfunction(obj))\n",
    "for i in methods: print(i)"
   ]
  },
  {
   "cell_type": "markdown",
   "metadata": {
    "nbpresent": {
     "id": "82ea73e7-3af1-4c0e-917f-a2c8c211f877"
    }
   },
   "source": [
    "## Setup the Simulation Environment, Define Parameter Distributions, and Populate with Households, Recovery Programs, and Recovery Policies"
   ]
  },
  {
   "cell_type": "markdown",
   "metadata": {
    "nbpresent": {
     "id": "674d14b6-8c36-4fdb-aa62-2082abb1ade9"
    }
   },
   "source": [
    "__Set Simpy simulation environment__"
   ]
  },
  {
   "cell_type": "code",
   "execution_count": 108,
   "metadata": {
    "collapsed": true,
    "nbpresent": {
     "id": "4b32e43c-2ad8-4103-ab07-110178d9f224"
    }
   },
   "outputs": [],
   "source": [
    "env = simpy.Environment()"
   ]
  },
  {
   "cell_type": "markdown",
   "metadata": {
    "nbpresent": {
     "id": "60da519d-86e8-4159-a232-897fe476c53c"
    }
   },
   "source": [
    "__Indicate whether the simulation will keep track of the stories of each entity in the simulation. This can also be set individually for each group of imported entities (e.g., each call to an entities.Entity class or subclass.__"
   ]
  },
  {
   "cell_type": "code",
   "execution_count": 109,
   "metadata": {
    "collapsed": true,
    "nbpresent": {
     "id": "219edad0-ba39-4977-8836-3bbf81b33cf5"
    }
   },
   "outputs": [],
   "source": [
    "write_story = True"
   ]
  },
  {
   "cell_type": "markdown",
   "metadata": {
    "nbpresent": {
     "id": "c3e629b0-ac2a-4222-a944-939a885c034a"
    }
   },
   "source": [
    "__Define the probability distributions that can be used in the simulation to define various recovery program process event durations.__"
   ]
  },
  {
   "cell_type": "code",
   "execution_count": 110,
   "metadata": {
    "collapsed": true
   },
   "outputs": [],
   "source": [
    "fema_ia_dist = norm(loc = 10, scale = 0)\n",
    "sba_home_sba_dist = norm(loc = 10, scale = 0)\n",
    "sba_biz_sba_dist = norm(loc = 10, scale = 0)\n",
    "insurance_dist = norm(loc = 10, scale = 0)\n",
    "start_delay_dist = norm(loc = 10, scale = 0)\n",
    "inspection_dist = norm(loc = 0.5, scale = 0)\n",
    "assessment_dist = norm(loc = 10, scale = 0)\n",
    "permitting_dist = norm(loc = 10, scale = 0)\n",
    "repair_dist = norm(loc = 10, scale = 0)\n",
    "demolition_dist = norm(loc = 10, scale = 0)\n",
    "occupy_dist = norm(loc = 10, scale = 0)\n",
    "rent_home_dist = norm(loc = 10, scale = 0)\n",
    "buy_home_dist = norm(loc = 10, scale = 0)\n",
    "\n",
    "declaration = norm.rvs(loc = 30, scale = 0) # Placeholder deterministic scalar that defines number of days before federal disaster declared\n",
    "sba_deadline = norm.rvs(loc = 60, scale = 0) # Typically duration in days after declaration that SBA applications must be submitted"
   ]
  },
  {
   "cell_type": "markdown",
   "metadata": {},
   "source": [
    "__Instantiate the recovery program objects that will be used in the simulation. Each recovery program requires\n",
    "specification of a duration probability distribution (set above). Unlike shown below, the distributions do not have to be the same for each program. Currently all are the same scalars to simplify interpretation and debugging.__"
   ]
  },
  {
   "cell_type": "code",
   "execution_count": 111,
   "metadata": {
    "collapsed": true
   },
   "outputs": [],
   "source": [
    "# Instantiate a FEMA Individual Assistance program\n",
    "fema_ia = HousingAssistanceFEMA(env, staff=100, budget=10000000, duration=fema_ia_dist, max_outlay=30000,\n",
    "                                  deadline=540, declaration=declaration)\n",
    "# Instantiate a SBA Loan program to use w/ OwnerHouseholds\n",
    "sba_home_loan = RealPropertyLoanSBA(env, officers=10, inspectors=10, duration=sba_home_sba_dist, max_loan = 200000, \n",
    "                            min_credit = 600, deadline=sba_deadline, declaration=declaration)\n",
    "# Instantiate a SBA Loan program to use w/ Landlords (higher maximum for businesses)\n",
    "sba_biz_loan = RealPropertyLoanSBA(env, officers=10, inspectors=10, duration=sba_biz_sba_dist, \n",
    "                           max_loan = 2000000, deadline=sba_deadline, declaration=declaration) # SBA max biz loan = $2mil\n",
    "# Instantiate a private insurance program\n",
    "insurance = OwnersInsurance(env, staff=100, deductible=0.0, duration=insurance_dist)\n",
    "# Instantiate a rapid inspeaction (tagging) program\n",
    "inspection = InspectionProgram(env, staff=1000, duration=inspection_dist)\n",
    "# Instantiate a detailed engineering assessment program\n",
    "assessment = EngineeringAssessment(env, staff=1000, duration=assessment_dist)\n",
    "# Instantiate a building permit processing program\n",
    "permitting = PermitProgram(env, staff=1000, duration=permitting_dist) \n",
    "# Instantiate a program to represent private repair contractors\n",
    "repair = RepairProgram(env, staff=1000, materials=1000000000, duration=repair_dist)\n",
    "# Instantiate a program to represent private demolition contractors\n",
    "demolition = DemolitionProgram(env, staff=1000, duration=demolition_dist)"
   ]
  },
  {
   "cell_type": "markdown",
   "metadata": {},
   "source": [
    "__Instantiate any recovery policies. Policies are custom classes that define different recovery program arrangements, sequences, logic, patience, etc. Currently only one is written. Policy classes also provides an example of how to model entity \"patience\" and process interuption.__"
   ]
  },
  {
   "cell_type": "code",
   "execution_count": 112,
   "metadata": {
    "collapsed": true
   },
   "outputs": [],
   "source": [
    "insurance_ia_sba_seq = Insurance_IA_SBA_Sequential(env)\n",
    "insurance_ia_sba_para = Insurance_IA_SBA_Parallel(env)\n",
    "insurance_firstthen_ia_sba_para = Insurance_FirstThen_IA_SBA_Parallel(env)\n",
    "insurance_sba_seq = Insurance_SBA_Sequential(env)\n",
    "insurance_sba_para = Insurance_SBA_Parallel(env)\n",
    "repair_stock = RepairVacantBuilding(env)"
   ]
  },
  {
   "cell_type": "markdown",
   "metadata": {
    "nbpresent": {
     "id": "ba511c7a-6df4-4ba1-a590-dbcb877c1c5d"
    }
   },
   "source": [
    "__Create empty Simpy FilterStores to use as housing stocks.__"
   ]
  },
  {
   "cell_type": "code",
   "execution_count": 113,
   "metadata": {
    "collapsed": true,
    "nbpresent": {
     "id": "f462c94a-6efe-4376-a69e-c58cebcab9f2"
    }
   },
   "outputs": [],
   "source": [
    "owned_stock = FilterStore(env)  # To put the residences associated with owners\n",
    "rented_stock = FilterStore(env) # To put the residences associated with renters\n",
    "# housing_stock = FilterStore(env) # To put the residences associated with renters\n",
    "# forsale_stock = FilterStore(env) # To put the homes associated with vacant home sellers\n",
    "# forrent_stock = FilterStore(env) # To put the homes associated with vacant home landlords"
   ]
  },
  {
   "cell_type": "markdown",
   "metadata": {},
   "source": [
    "__Create a list of OwnerHousehold objects based on input data. Place each associated residence in the rented housing stock.__"
   ]
  },
  {
   "cell_type": "code",
   "execution_count": 114,
   "metadata": {
    "nbpresent": {
     "id": "0a1a343c-01a9-43a3-9309-fb83ddc13acc"
    }
   },
   "outputs": [],
   "source": [
    "owners = importEntities(env, owners_df, 'OwnerHousehold', owned_stock, write_story)"
   ]
  },
  {
   "cell_type": "code",
   "execution_count": 115,
   "metadata": {},
   "outputs": [
    {
     "data": {
      "text/plain": [
       "['Fish has $100 of savings and a credit score of 700. ',\n",
       " 'Fish resides at 26000 Out There Lane. ',\n",
       " 'Fish owns and occupies a 3 bedroom single family dwelling worth $558,000. ']"
      ]
     },
     "execution_count": 115,
     "metadata": {},
     "output_type": "execute_result"
    }
   ],
   "source": [
    "owners[3].story"
   ]
  },
  {
   "cell_type": "markdown",
   "metadata": {},
   "source": [
    "__Create a list of RenterHousehold objects based on input data. Place each associated residence in the rented housing stock.__"
   ]
  },
  {
   "cell_type": "code",
   "execution_count": 116,
   "metadata": {
    "nbpresent": {
     "id": "422d741a-01e2-4fee-bf86-ac07ba86cb2e"
    }
   },
   "outputs": [],
   "source": [
    "renters = importEntities(env, renters_df, 'RenterHousehold', rented_stock, write_story)"
   ]
  },
  {
   "cell_type": "code",
   "execution_count": 117,
   "metadata": {},
   "outputs": [
    {
     "data": {
      "text/plain": [
       "['Alice is owner and landlord of a 1 bedroom mobile home worth $279,000. ']"
      ]
     },
     "execution_count": 117,
     "metadata": {},
     "output_type": "execute_result"
    }
   ],
   "source": [
    "renters[0].landlord.story"
   ]
  },
  {
   "cell_type": "markdown",
   "metadata": {},
   "source": [
    "# Specify master processes for Landlords, OwnerHouseholds, and Renter Households\n",
    "Note: Master processes define custom, case-specific, scenario-based, or user-defined logic for modeled entities. They are not \"hard coded\" processes or policies in DESaster."
   ]
  },
  {
   "cell_type": "markdown",
   "metadata": {},
   "source": [
    "*A listing of arguments for each of the recovery programs and policies to help write master processes.*"
   ]
  },
  {
   "cell_type": "code",
   "execution_count": 118,
   "metadata": {},
   "outputs": [
    {
     "name": "stdout",
     "output_type": "stream",
     "text": [
      "HousingAssistanceFEMA.process ['self', 'entity', 'callbacks']\n",
      "RealPropertyLoanSBA.process ['self', 'entity', 'callbacks']\n",
      "RealPropertyLoanSBA.process ['self', 'entity', 'callbacks']\n",
      "OwnersInsurance.process ['self', 'entity', 'callbacks']\n",
      "InspectionProgram.process ['self', 'structure', 'entity', 'callbacks']\n",
      "EngineeringAssessment.process ['self', 'structure', 'entity', 'callbacks']\n",
      "PermitProgram.process ['self', 'structure', 'entity', 'callbacks']\n",
      "RepairProgram.process ['self', 'structure', 'entity', 'callbacks']\n",
      "DemolitionProgram.process ['self', 'structure', 'entity', 'callbacks']\n",
      "Insurance_IA_SBA_Sequential.policy ['self', 'insurance_program', 'fema_program', 'sba_program', 'entity', 'search_patience']\n",
      "Insurance_IA_SBA_Parallel.policy ['self', 'insurance_program', 'fema_program', 'sba_program', 'entity', 'search_patience']\n",
      "Insurance_FirstThen_IA_SBA_Parallel.policy ['self', 'insurance_program', 'fema_program', 'sba_program', 'entity', 'search_patience']\n",
      "Insurance_SBA_Sequential.policy ['self', 'insurance_program', 'sba_program', 'entity', 'search_patience']\n",
      "Insurance_SBA_Parallel.policy ['self', 'insurance_program', 'sba_program', 'entity', 'search_patience']\n",
      "RepairVacantBuilding.policy ['self', 'inspection_program', 'assessment_program', 'permit_program', 'repair_program', 'entity', 'building_stock', 'repair_probability', 'wait_time']\n"
     ]
    }
   ],
   "source": [
    "def list_args(programs_policies):\n",
    "    for p in programs_policies:\n",
    "        print(str(p.__func__)[10:-16], inspect.getfullargspec(p).args) # Useful to determine the arguments for the recovery programs\n",
    "\n",
    "programs_policies = [fema_ia.process, sba_home_loan.process, sba_biz_loan.process, insurance.process, \n",
    "                     inspection.process, assessment.process, permitting.process, repair.process, \n",
    "                     demolition.process, insurance_ia_sba_seq.policy, insurance_ia_sba_para.policy, \n",
    "                     insurance_firstthen_ia_sba_para.policy, insurance_sba_seq.policy, insurance_sba_para.policy, \n",
    "                     repair_stock.policy]\n",
    "\n",
    "list_args(programs_policies)"
   ]
  },
  {
   "cell_type": "markdown",
   "metadata": {},
   "source": [
    "__A really basic custom master process as an example of how to create one.__"
   ]
  },
  {
   "cell_type": "code",
   "execution_count": 119,
   "metadata": {
    "collapsed": true
   },
   "outputs": [],
   "source": [
    "def basic_process(inspection_program, assessment_program, permit_program, repair_program, entity):\n",
    "        yield env.process(inspection_program.process(entity.property, entity))\n",
    "        yield env.process(assessment_program.process(entity.property, entity))\n",
    "        yield env.process(permit_program.process(entity.property, entity))\n",
    "        yield env.process(repair_program.process(entity.property, entity))"
   ]
  },
  {
   "cell_type": "markdown",
   "metadata": {
    "nbpresent": {
     "id": "6872528b-8992-44ce-8de9-79a318a19eec"
    }
   },
   "source": [
    "__A custom master process for Landlords. Landlords are the owners of renters' residences and so are the ones to seek financial assistance for repairs.__"
   ]
  },
  {
   "cell_type": "code",
   "execution_count": 120,
   "metadata": {
    "collapsed": true,
    "nbpresent": {
     "id": "7be4185f-0a7d-449c-b02d-cb35947db032"
    }
   },
   "outputs": [],
   "source": [
    "# def landlord_process(env, inspection_program, insurance_program, loan_program, \n",
    "#                  assessment_program, permit_program, demolish_program, repair_program, entity):\n",
    "    \n",
    "#     money_patience = 100000  # days until give up the search for repair money\n",
    "    \n",
    "#     # Do inspection after inspectors are mobilized\n",
    "#     yield env.timeout(start_delay_dist.rvs())\n",
    "#     yield env.process(inspection_program.process(entity.property, entity)) \n",
    "    \n",
    "#     # Simulate damaged properties\n",
    "#     if entity.property.damage_state != 'None': \n",
    "         \n",
    "#         # If is extensively/completely damaged, evict tenant. Eventually initiate temp/transition shelter etc.\n",
    "#         if entity.property.damage_state == 'Extensive' or entity.property.damage_state == 'Complete':\n",
    "#             print(entity.name + ' 3')\n",
    "#             entity.evict_tenant()\n",
    "\n",
    "#         # Landlord search for financial assistance using an Insurance_SBA policy. Note two alternate versions \n",
    "#         # can be used: insurance_sba_para or insurance_sba_seq. Paste in the desired policy approach below.\n",
    "#         yield env.process(insurance_sba_seq.policy(insurance_program, loan_program, entity, money_patience)) # Sequential\n",
    "\n",
    "#         # If landlord gives up looking for recovery funds, evict their tenant\n",
    "#         if entity.gave_up_funding_search != None:\n",
    "#             entity.evict_tenant()\n",
    "            \n",
    "#             if entity.write_story:\n",
    "#                 entity.story.append(\n",
    "#                 '{0} decided not to repair their {1}. '.format(\n",
    "#                 entity.name, entity.property.occupancy.lower()\n",
    "#                                                                 )\n",
    "#                                     )\n",
    "#             return\n",
    "        \n",
    "#         # If has enough recovery funds, repair; if not, evict tenant.\n",
    "#         if entity.recovery_funds.level >= entity.property.damage_value:\n",
    "#             yield env.process(assessment_program.process(entity.property, entity))\n",
    "#             yield env.process(permit_program.process(entity.property, entity))\n",
    "            \n",
    "#             # Demolish property if > extensive damage\n",
    "#             if entity.property.damage_state == 'Extensive' or entity.property.damage_state == 'Complete':\n",
    "#                 yield env.process(demolish_program.process(entity.property, entity))\n",
    "#             yield env.process(repair_program.process(entity.property, entity))\n",
    "#         else:\n",
    "#             if entity.tenant.residence != None:\n",
    "#                 entity.evict_tenant()  "
   ]
  },
  {
   "cell_type": "markdown",
   "metadata": {},
   "source": [
    "__A custom master process for OwnerHouseholds (owner occupiers). Don't do anything if no damage suffered. If residence damage is \"Complete\", abandon home and look to buy a different one. Otherwise look for financial assistance for repairs. If money for repairs can't be found (patience runs out), look for a new home. If home search patience runs out, simply stop.__"
   ]
  },
  {
   "cell_type": "code",
   "execution_count": 121,
   "metadata": {
    "collapsed": true
   },
   "outputs": [],
   "source": [
    "def owner_process(env, inspection_program, insurance_program, fema_program, loan_program, \n",
    "                 assessment_program, permit_program, demolish_program, rebuild_program, owned_stock, rented_stock, entity):\n",
    "    \n",
    "    money_patience = 200000  # days until give up the search for rebuild money\n",
    "    home_patience = 15000  # days until give up the search for a new home\n",
    "    \n",
    "    # Do inspections after inspectors are mobilized\n",
    "    yield env.timeout(start_delay_dist.rvs())\n",
    "    yield env.process(inspection_program.process(entity.property, entity))\n",
    "    \n",
    "    # Process damaged properties\n",
    "    if entity.property.damage_state == 'None':\n",
    "        yield env.process(entity.occupy(duration = occupy_dist))   \n",
    "    else:\n",
    "        \n",
    "        if entity.property.damage_state == 'Extensive' or entity.property.damage_state == 'Complete':\n",
    "            yield env.process(entity.rent_home(rented_stock, rent_home_dist, search_patience = home_patience,\n",
    "                                              permanent = False))\n",
    "\n",
    "        # Homeowner search for financial assistance using an Insurance_SBA policy. Note two alternate versions \n",
    "        # can be used: insurance_ia_sba_para, insurance_ia_sba_seq, and insurance_firstthen_ia_sba_para. \n",
    "        # Paste in the desired policy approach below.\n",
    "        yield env.process(insurance_firstthen_ia_sba_para.policy(insurance_program, fema_program,\n",
    "                                                   loan_program, entity, money_patience))\n",
    "\n",
    "        # If not enough money to repair home or home completely damaged, search for a new home to purchase.\n",
    "        if (entity.recovery_funds.level < entity.property.damage_value or\n",
    "                entity.property.damage_state == 'Complete'):\n",
    "            yield env.process(entity.buy_home(owned_stock, buy_home_dist, down_payment_pct = 0.10,\n",
    "                                                  search_patience = home_patience))\n",
    "            \n",
    "            if entity.gave_up_home_buy_search == None:\n",
    "                yield env.process(entity.occupy(duration = occupy_dist))\n",
    "            \n",
    "            return\n",
    "        # Otherwise repair home.       \n",
    "        elif entity.recovery_funds.level >= entity.property.damage_value:\n",
    "            \n",
    "            yield env.process(assessment_program.process(entity.property, entity))\n",
    "            yield env.process(permit_program.process(entity.property, entity))\n",
    "            if entity.property.damage_state == 'Extensive' or entity.property.damage_state == 'Complete':\n",
    "                yield env.process(demolish_program.process(entity.property, entity))\n",
    "            yield env.process(rebuild_program.process(entity.property, entity))    \n",
    "            yield env.process(entity.occupy(duration = occupy_dist))     "
   ]
  },
  {
   "cell_type": "markdown",
   "metadata": {},
   "source": [
    "__A custom master process for RenterHouseholds. For the most part it simply initiates a process for their landlords. If they are evicted by their landlords, the renter will look for a new home. If home search patience runs out, simply stop. Otherwise, occupy home after landlord repairs it.__"
   ]
  },
  {
   "cell_type": "code",
   "execution_count": 122,
   "metadata": {
    "collapsed": true,
    "nbpresent": {
     "id": "7872bd09-acde-43e0-a022-ab468070e863"
    }
   },
   "outputs": [],
   "source": [
    "# def renter_process(env, inspection_program, landlord_insurance, \n",
    "#                    landlord_loan, assessment_program, permit_program, demolish_program, rebuild_program, \n",
    "#                    search_stock, entity):\n",
    "        \n",
    "#     money_patience = 365  # days until give up the search for rebuild money\n",
    "#     home_patience = 550  # days until give up the search for a new home\n",
    "    \n",
    "#     # Process damaged homes\n",
    "#     if entity.residence.damage_state == 'None':\n",
    "#         yield env.process(entity.occupy(duration = occupy_dist))\n",
    "    \n",
    "#     else:\n",
    "#         # Process landlord property repairs\n",
    "#         yield env.process(landlord_process(env, inspection_program, landlord_insurance, \n",
    "#                                 landlord_loan, assessment_program, permit_program, demolish_program, \n",
    "#                                 rebuild_program, entity.landlord))\n",
    "   \n",
    "#         # Check to see if renter has a residence, occupy if so.\n",
    "#         if entity.residence != None:\n",
    "#             yield env.process(entity.occupy(duration = occupy_dist))\n",
    "#         # Otherwise look for a new residence\n",
    "#         else:\n",
    "#             yield env.process(entity.rent_home(search_stock, rent_home_dist, search_patience = home_patience))\n",
    "\n",
    "#             if not entity.gave_up_home_rent_search:\n",
    "#                     yield env.process(entity.occupy(duration = occupy_dist))\n",
    "        \n",
    "#         # For printing and viz convenience, add the landlord's story to renter's story\n",
    "#         entity.story += entity.landlord.story"
   ]
  },
  {
   "cell_type": "code",
   "execution_count": 123,
   "metadata": {
    "collapsed": true
   },
   "outputs": [],
   "source": [
    "def landlord_process(env, insurance_program, loan_program, \n",
    "                 assessment_program, permit_program, demolish_program, repair_program, entity):\n",
    "    \n",
    "    money_patience = 100000  # days until give up the search for repair money\n",
    "    \n",
    "    # Simulate damaged properties\n",
    "    if entity.property.damage_state != 'None': \n",
    "         \n",
    "        # Landlord search for financial assistance using an Insurance_SBA policy. Note two alternate versions \n",
    "        # can be used: insurance_sba_para or insurance_sba_seq. Paste in the desired policy approach below.\n",
    "        yield env.process(insurance_sba_seq.policy(insurance_program, loan_program, entity, money_patience)) # Sequential\n",
    "\n",
    "        # If landlord gives up looking for recovery funds, evict their tenant\n",
    "        if entity.gave_up_funding_search != None:\n",
    "            entity.evict_tenant()\n",
    "            \n",
    "            if entity.write_story:\n",
    "                entity.story.append(\n",
    "                '{0} decided not to repair their {1}. '.format(\n",
    "                entity.name, entity.property.occupancy.lower()\n",
    "                                                                )\n",
    "                                    )\n",
    "            return\n",
    "        \n",
    "        # If has enough recovery funds, repair; if not, evict tenant.\n",
    "        if entity.recovery_funds.level >= entity.property.damage_value:\n",
    "            yield env.process(assessment_program.process(entity.property, entity))\n",
    "            yield env.process(permit_program.process(entity.property, entity))\n",
    "            \n",
    "            # Demolish property if > extensive damage\n",
    "            if entity.property.damage_state == 'Extensive' or entity.property.damage_state == 'Complete':\n",
    "                yield env.process(demolish_program.process(entity.property, entity))\n",
    "            yield env.process(repair_program.process(entity.property, entity))\n",
    "        else:\n",
    "            if entity.tenant.residence != None:\n",
    "                entity.evict_tenant()  "
   ]
  },
  {
   "cell_type": "code",
   "execution_count": 124,
   "metadata": {},
   "outputs": [],
   "source": [
    "def renter_process(env, landlord_process, inspection_program, search_stock, entity):\n",
    "        \n",
    "    home_patience = 550  # days until give up the search for a new home\n",
    "    \n",
    "    # Do inspection after inspectors are mobilized\n",
    "    yield env.timeout(start_delay_dist.rvs())\n",
    "    yield env.process(inspection_program.process(entity.landlord.property, entity.landlord)) \n",
    "      \n",
    "    if entity.residence.damage_state == 'None':\n",
    "        yield env.process(entity.occupy(duration = occupy_dist))\n",
    "    else:\n",
    "         # If is extensively/completely damaged, evict tenant.\n",
    "        if entity.residence.damage_state == 'Extensive' or entity.residence.damage_state == 'Complete':\n",
    "            yield env.process(entity.landlord.evict_tenant())\n",
    "\n",
    "            rent_home_start = env.process(entity.rent_home(search_stock, rent_home_dist, search_patience = home_patience))\n",
    "            \n",
    "            yield rent_home_start | env.process(landlord_process)\n",
    "\n",
    "            if rent_home_start.processed and entity.residence != None:\n",
    "                yield env.process(entity.occupy(duration = occupy_dist))\n",
    "            \n",
    "            # For printing and viz convenience, add the previous landlord's story to renter's story\n",
    "            entity.story += entity.prior_residences[0].owner.story\n",
    "        else:\n",
    "            yield env.process(landlord_process)\n",
    "            yield env.process(entity.occupy(duration = occupy_dist))\n",
    "    \n",
    "            # For printing and viz convenience, add the landlord's story to renter's story\n",
    "            entity.story += entity.landlord.story"
   ]
  },
  {
   "cell_type": "markdown",
   "metadata": {},
   "source": [
    "__Initiate the master process for each owner to be modeled in the simulation.__"
   ]
  },
  {
   "cell_type": "code",
   "execution_count": 125,
   "metadata": {
    "collapsed": true
   },
   "outputs": [],
   "source": [
    "# #inspect.getfullargspec(owner_process).args # Useful to determine what arguments are required for the process.\n",
    "\n",
    "# for i in range(len(owners)):\n",
    "#     env.process(owner_process(env, inspection, insurance, fema_ia, sba_home_loan, \n",
    "#                                     assessment, permitting, demolition, repair,\n",
    "#                                     owned_stock, rented_stock, owners[i]))"
   ]
  },
  {
   "cell_type": "markdown",
   "metadata": {},
   "source": [
    "__Initiate the master process for each renter to be modeled in the simulation.__"
   ]
  },
  {
   "cell_type": "code",
   "execution_count": 126,
   "metadata": {
    "collapsed": true,
    "nbpresent": {
     "id": "ec9beb28-1118-43d1-9993-11d28a0196ef"
    }
   },
   "outputs": [],
   "source": [
    "# # # #inspect.getfullargspec(renter_process).args # Useful to determine what arguments are required for the process.\n",
    "\n",
    "# for i in range(len(renters)):\n",
    "#     env.process(renter_process(env, inspection, insurance, sba_biz_loan, assessment, permitting, \n",
    "#                                     demolition, repair, rented_stock, renters[i]))"
   ]
  },
  {
   "cell_type": "code",
   "execution_count": 127,
   "metadata": {},
   "outputs": [],
   "source": [
    "# # #inspect.getfullargspec(renter_process).args # Useful to determine what arguments are required for the process.\n",
    "\n",
    "\n",
    "for i in range(len(renters)):\n",
    "    landlord_start = landlord_process(env, insurance, sba_biz_loan, assessment, permitting, \n",
    "                                    demolition, repair, renters[i].landlord)\n",
    "    \n",
    "    env.process(renter_process(env, landlord_start, inspection, rented_stock, renters[i]))"
   ]
  },
  {
   "cell_type": "code",
   "execution_count": 128,
   "metadata": {},
   "outputs": [],
   "source": [
    "# # # #inspect.getfullargspec(landlord_process).args # Useful to determine what arguments are required for the process.\n",
    "# #     \n",
    "# for i in range(len(renters)):\n",
    "#     env.process(landlord_process(env, inspection, insurance, sba_biz_loan, assessment, permitting, \n",
    "#                                     demolition, repair, renters[i].landlord))"
   ]
  },
  {
   "cell_type": "markdown",
   "metadata": {},
   "source": [
    "## Run the simulation"
   ]
  },
  {
   "cell_type": "code",
   "execution_count": 129,
   "metadata": {
    "nbpresent": {
     "id": "aeabefd9-8ded-4a8c-a6e3-83f73b64144a"
    },
    "scrolled": true
   },
   "outputs": [
    {
     "name": "stdout",
     "output_type": "stream",
     "text": [
      "1!\n",
      "2!\n",
      "1!\n",
      "2!\n",
      "Oswald searching!\n",
      "James searching!\n",
      "3!\n",
      "3!\n",
      "1!\n",
      "2!\n",
      "1!\n",
      "2!\n",
      "4!\n",
      "4!\n",
      "3!\n",
      "3!\n",
      "4!\n",
      "4!\n"
     ]
    }
   ],
   "source": [
    "env.run()"
   ]
  },
  {
   "cell_type": "code",
   "execution_count": 130,
   "metadata": {},
   "outputs": [
    {
     "data": {
      "text/plain": [
       "['Gerry is owner and landlord of a 0 bedroom single family dwelling worth $139,500. ',\n",
       " \"Gerry's single family dwelling was inspected 10 days after the event. \",\n",
       " 'It was found to have a damage level of extensive and was unsafe. ',\n",
       " 'The value of the damage was $62,356. ',\n",
       " 'Gerry submitted an insurance claim 10 days after the event. ',\n",
       " 'Gerry received a $62,356 insurance payout 20 days after the event. ',\n",
       " 'It took Gerry 10 days to exhaust financial assistance options and now has $92,356 for repairs or replacement. ',\n",
       " 'Gerry received an engineering assessment 30 days after the event. ',\n",
       " 'Gerry received permit approval 40 days after the event. ',\n",
       " \"Gerry's single family dwelling was demolished 50 days after the event. \",\n",
       " \"Gerry's single family dwelling was repaired 60 days after the event. \"]"
      ]
     },
     "execution_count": 130,
     "metadata": {},
     "output_type": "execute_result"
    }
   ],
   "source": [
    "renters[2].landlord.story"
   ]
  },
  {
   "cell_type": "code",
   "execution_count": 131,
   "metadata": {
    "scrolled": true
   },
   "outputs": [
    {
     "data": {
      "text/plain": [
<<<<<<< HEAD
       "['Oswald has $1000000 of savings and a credit score of 700. ',\n",
       " 'Oswald resides at 2301 Other Ave. ',\n",
       " 'Oswald rents a 0 room single family dwelling owned by Gerry. ',\n",
       " 'Oswald was evicted because the single family dwelling had extensive damage. ',\n",
       " 'Oswald started searching to rent a single family dwelling 10 days after the event. ',\n",
       " 'On day 20, Oswald rented a single family dwelling at 101 Old Ave with a rent of $3,720. ',\n",
       " 'Oswald occupied the single family dwelling 30 days after the event. ',\n",
       " 'Gerry is owner and landlord of a 0 bedroom single family dwelling worth $139,500. ',\n",
       " \"Gerry's single family dwelling was inspected 10 days after the event. \",\n",
       " 'It was found to have a damage level of extensive and was unsafe. ',\n",
       " 'The value of the damage was $62,356. ',\n",
       " 'Gerry submitted an insurance claim 10 days after the event. ',\n",
       " 'Gerry received a $62,356 insurance payout 20 days after the event. ',\n",
       " 'It took Gerry 10 days to exhaust financial assistance options and now has $92,356 for repairs or replacement. ']"
=======
       "['Bruce resides at 720 This Rd. ',\n",
       " 'Bruce owns and lives in a 4 room single family dwelling at 720 This Rd worth $837,000. ',\n",
       " \"Bruce's single family dwelling was inspected 10 days after the event. \",\n",
       " 'It was found to have a damage level of moderate and was disfunctional. ',\n",
       " 'The value of the damage was $83,700. ',\n",
       " 'Bruce submitted an insurance claim 10 days after the event. ',\n",
       " 'Bruce submitted an insurance claim 10 days after the event. ',\n",
       " 'Bruce received a $83,700 insurance payout 20 days after the event. ',\n",
       " 'Bruce received a $83,700 insurance payout 20 days after the event. ',\n",
       " 'Bruce requested $30,000 from FEMA 30 days after the event. ',\n",
       " 'Bruce withdrew their application to FEMA 40.0 days after the event because enough recovery funds were found from other sources. ',\n",
       " 'It took Bruce 30 days to exhaust financial assistance options and now has $167,500 for repairs. ',\n",
       " 'Bruce received an engineering assessment 50 days after the event. ',\n",
       " 'Bruce received permit approval 60 days after the event. ',\n",
       " \"Bruce's single family dwelling was repaired 70 days after the event. \",\n",
       " 'Bruce occupied the single family dwelling 80 days after the event. ']"
>>>>>>> master
      ]
     },
     "execution_count": 131,
     "metadata": {},
     "output_type": "execute_result"
    }
   ],
   "source": [
    "renters[2].story"
   ]
  },
  {
   "cell_type": "code",
   "execution_count": 132,
   "metadata": {},
   "outputs": [
    {
     "name": "stdout",
     "output_type": "stream",
     "text": [
      "Greg 100 Old Ave : None\n",
      "Rachel 102 Old Ave : None\n",
      "Gal 341 Where St : None\n",
      "Blake 9900 Nowhere St : None\n",
      "Allison 101 Old Ave : None\n",
      "Alice 262 That St : None\n",
      "Julie 4720 This Rd : None\n",
      "Gerry 2301 Other Ave : None\n",
      "Sally 74000 Out There Lane : None\n",
      "Larry 103 Old Ave : None\n"
     ]
    }
   ],
   "source": [
    "for item in rented_stock.items:\n",
    "    print(item.owner.name, item.address, ':', item.damage_state)\n"
   ]
  },
  {
   "cell_type": "code",
   "execution_count": 133,
   "metadata": {},
   "outputs": [
    {
<<<<<<< HEAD
     "ename": "SyntaxError",
     "evalue": "invalid syntax (<ipython-input-133-275401fdacea>, line 1)",
     "output_type": "error",
     "traceback": [
      "\u001b[0;36m  File \u001b[0;32m\"<ipython-input-133-275401fdacea>\"\u001b[0;36m, line \u001b[0;32m1\u001b[0m\n\u001b[0;31m    d =\u001b[0m\n\u001b[0m       ^\u001b[0m\n\u001b[0;31mSyntaxError\u001b[0m\u001b[0;31m:\u001b[0m invalid syntax\n"
     ]
=======
     "data": {
      "text/plain": [
       "['Fish resides at 26000 Out There Lane. ',\n",
       " 'Fish owns and lives in a 3 room single family dwelling at 26000 Out There Lane worth $558,000. ',\n",
       " \"Fish's single family dwelling was inspected 10 days after the event. \",\n",
       " 'It was found to have a damage level of slight and was functional. ',\n",
       " 'The value of the damage was $11,160. ',\n",
       " 'Fish has no hazard insurance. ',\n",
       " 'Fish requested $11,160 from FEMA 30 days after the event. ',\n",
       " 'Fish received $11,160 from FEMA 40 days after the event. ',\n",
       " 'It took Fish 10 days to exhaust financial assistance options and now has $11,260 for repairs. ',\n",
       " 'Fish received an engineering assessment 50 days after the event. ',\n",
       " 'Fish received permit approval 60 days after the event. ',\n",
       " \"Fish's single family dwelling was repaired 70 days after the event. \",\n",
       " 'Fish occupied the single family dwelling 80 days after the event. ']"
      ]
     },
     "execution_count": 28,
     "metadata": {},
     "output_type": "execute_result"
>>>>>>> master
    }
   ],
   "source": [
    "d ="
   ]
  },
  {
   "cell_type": "markdown",
   "metadata": {
    "nbpresent": {
     "id": "7ba728c6-b364-4ad6-9073-20a83a0cbe5c"
    }
   },
   "source": [
    "# Summarize and visualize simulation outputs"
   ]
  },
  {
   "cell_type": "markdown",
   "metadata": {
    "nbpresent": {
     "id": "7d4aada5-0d56-481e-b318-6f7a13dcd8a2"
    }
   },
   "source": [
    "## OwnerHousehold summary statistics"
   ]
  },
  {
   "cell_type": "code",
   "execution_count": null,
   "metadata": {
    "nbpresent": {
     "id": "b3eb9288-806e-4978-b30a-93cb80d880e0"
    },
    "scrolled": false
   },
   "outputs": [],
   "source": [
    "output_summary(owners, 'OwnerHousehold')"
   ]
  },
  {
   "cell_type": "code",
   "execution_count": null,
   "metadata": {},
   "outputs": [],
   "source": [
    "owners[0].property"
   ]
  },
  {
   "cell_type": "code",
   "execution_count": null,
   "metadata": {},
   "outputs": [],
   "source": [
    "entities = owners\n",
    "\n",
    "num_damaged = 0\n",
    "num_rebuilt = 0\n",
    "num_gave_up_funding_search = 0\n",
    "num_home_buy_get = 0\n",
    "num_home_buy_put = 0\n",
    "num_home_rent_get = 0\n",
    "num_home_rent_put = 0\n",
    "num_gave_up_home_buy_search = 0\n",
    "num_gave_up_home_rent_search = 0\n",
    "num_vacant_fixed = 0\n",
    "        \n",
    "for household in entities:\n",
    "    if household.residence.damage_state_start != None: num_damaged += 1\n",
    "    if household.repair_get != None: num_rebuilt += 1\n",
    "    if household.gave_up_funding_search: num_gave_up_funding_search += 1\n",
    "    if household.home_buy_put != None: num_home_buy_put += 1\n",
    "    if household.home_buy_get != None: num_home_buy_get += 1\n",
    "    if household.home_rent_put != None: num_home_buy_put += 1\n",
    "    if household.home_rent_get != None: num_home_buy_get += 1\n",
    "    if household.gave_up_home_buy_search: num_gave_up_home_buy_search += 1\n",
    "    if household.gave_up_home_rent_search: num_gave_up_home_rent_search += 1\n",
    "\n",
    "print('{0} out of {1} owners suffered damage to their homes.\\n'.format(num_damaged, len(entities)),\n",
    "  '{0} out of {1} owners rebuilt or repaired their damaged home.\\n'.format(num_rebuilt, len(entities)),\n",
    "    '{0} out of {1} owners gave up searching for money.\\n'.format(num_gave_up_funding_search, len(entities)),\n",
    "  '{0} out of {1} owners searched to buy a new home.\\n'.format(num_home_buy_put, len(entities)),\n",
    "    '{0} out of {1} owners bought a new home.\\n'.format(num_home_buy_get, len(entities)),\n",
    "    '{0} out of {1} owners searched to temporarily rent a new home.\\n'.format(num_home_rent_put, len(entities)),\n",
    "      '{0} out of {1} owners rented a temporary home.\\n'.format(num_home_rent_get, len(entities)),\n",
    "    '{0} out of {1} owners gave up searching to buy a home.'.format(num_gave_up_home_buy_search, len(entities)),\n",
    "    '{0} out of {1} owners gave up searching to rent a temporary home.'.format(num_gave_up_home_rent_search, len(entities))\n",
    "    )"
   ]
  },
  {
   "cell_type": "markdown",
   "metadata": {
    "nbpresent": {
     "id": "099821e3-0cad-402e-9da5-fda4bed7663e"
    }
   },
   "source": [
    "## Print OwnerHousehold stories"
   ]
  },
  {
   "cell_type": "code",
   "execution_count": null,
   "metadata": {
    "nbpresent": {
     "id": "950d3c2e-68b6-4ca2-a2f9-4094469ba2ae"
    },
    "scrolled": false
   },
   "outputs": [],
   "source": [
    "owners[0].story"
   ]
  },
  {
   "cell_type": "code",
   "execution_count": null,
   "metadata": {
    "nbpresent": {
     "id": "11e73bf1-4ef5-484b-81cd-936043f5b800"
    }
   },
   "outputs": [],
   "source": [
    "owners[1].story"
   ]
  },
  {
   "cell_type": "code",
   "execution_count": null,
   "metadata": {
    "nbpresent": {
     "id": "a653615f-5f7c-4d96-9430-9cde218c3ffc"
    },
    "scrolled": false
   },
   "outputs": [],
   "source": [
    "owners[2].story"
   ]
  },
  {
   "cell_type": "code",
   "execution_count": null,
   "metadata": {
    "nbpresent": {
     "id": "e45edacc-0055-418a-a65b-d06361b78f36"
    },
    "scrolled": false
   },
   "outputs": [],
   "source": [
    "owners[3].story"
   ]
  },
  {
   "cell_type": "markdown",
   "metadata": {
    "nbpresent": {
     "id": "17baf8a7-1023-4c2d-b6f2-5687736b081c"
    }
   },
   "source": [
    "## RenterHousehold summary statistics"
   ]
  },
  {
   "cell_type": "code",
   "execution_count": null,
   "metadata": {
    "collapsed": true,
    "nbpresent": {
     "id": "c98b8cee-da7d-435b-88a8-ecef564957cb"
    }
   },
   "outputs": [],
   "source": [
    "# output_summary(renters, 'RenterHousehold')"
   ]
  },
  {
   "cell_type": "markdown",
   "metadata": {
    "nbpresent": {
     "id": "04f9c8c8-adbb-4a0f-8a72-a6ed5bfccf91"
    }
   },
   "source": [
    "## Print RenterHousehold stories"
   ]
  },
  {
   "cell_type": "code",
   "execution_count": null,
   "metadata": {
    "nbpresent": {
     "id": "89bd7c5b-ec66-46bd-88cc-afbd144319ab"
    },
    "scrolled": true
   },
   "outputs": [],
   "source": [
    "renters[0].story"
   ]
  },
  {
   "cell_type": "code",
   "execution_count": null,
   "metadata": {
    "nbpresent": {
     "id": "eb7be125-07cc-4997-bc00-ec9562fd57b3"
    }
   },
<<<<<<< HEAD
   "outputs": [],
=======
   "outputs": [
    {
     "data": {
      "text/plain": [
       "['Edward resides at 4720 This Rd. ',\n",
       " 'Edward rents and lives in a 3 room single family dwelling at 4720 This Rd. ',\n",
       " 'Edward occupied the single family dwelling 50 days after the event. ',\n",
       " 'Julie rents out a 3 bedroom single family dwelling at 4720 This Rd worth $418,500. ',\n",
       " \"Julie's single family dwelling was inspected 10 days after the event. \",\n",
       " 'It was found to have a damage level of slight and was disfunctional. ',\n",
       " 'The value of the damage was $8,370. ',\n",
       " 'Julie already had enough money to repair ($30,000) and did not seek assistance. ',\n",
       " 'Julie received an engineering assessment 20 days after the event. ',\n",
       " 'Julie received permit approval 30 days after the event. ',\n",
       " \"Julie's single family dwelling was repaired 40 days after the event. \"]"
      ]
     },
     "execution_count": 31,
     "metadata": {},
     "output_type": "execute_result"
    }
   ],
>>>>>>> master
   "source": [
    "renters[1].story"
   ]
  },
  {
   "cell_type": "code",
   "execution_count": null,
   "metadata": {
    "scrolled": true
   },
   "outputs": [],
   "source": [
    "renters[2].story"
   ]
  },
  {
   "cell_type": "markdown",
   "metadata": {},
<<<<<<< HEAD
   "source": [
    "### vvvvvv WHY DOESN'T EVICTED RENTER FIND ITS OWN APARTMENT AGAIN?!?!?! vvvvvv"
   ]
  },
  {
   "cell_type": "code",
   "execution_count": null,
   "metadata": {},
   "outputs": [],
=======
   "outputs": [
    {
     "data": {
      "text/plain": [
       "['Oswald resides at 2301 Other Ave. ',\n",
       " 'Oswald rents and lives in a 0 room single family dwelling at 2301 Other Ave. ',\n",
       " 'Oswald was evicted because the single family dwelling had extensive damage. ',\n",
       " 'Oswald started searching for a new single family dwelling 60 days after the event. ',\n",
       " 'On day 610, after a 550 day search, Oswald gave up looking for a new home in the local area. ',\n",
       " 'Gerry rents out a 0 bedroom single family dwelling at 2301 Other Ave worth $139,500. ',\n",
       " \"Gerry's single family dwelling was inspected 10 days after the event. \",\n",
       " 'It was found to have a damage level of extensive and was unsafe. ',\n",
       " 'The value of the damage was $62,356. ',\n",
       " 'Gerry submitted an insurance claim 10 days after the event. ',\n",
       " 'Gerry received a $62,356 insurance payout 20 days after the event. ',\n",
       " 'It took Gerry 10 days to exhaust financial assistance options and now has $92,356 for repairs. ',\n",
       " 'Gerry received an engineering assessment 30 days after the event. ',\n",
       " 'Gerry received permit approval 40 days after the event. ',\n",
       " \"Gerry's single family dwelling was demolished 50 days after the event. \",\n",
       " \"Gerry's single family dwelling was repaired 60 days after the event. \"]"
      ]
     },
     "execution_count": 32,
     "metadata": {},
     "output_type": "execute_result"
    }
   ],
>>>>>>> master
   "source": [
    "renters[2].story"
   ]
  },
  {
   "cell_type": "code",
   "execution_count": null,
   "metadata": {},
<<<<<<< HEAD
   "outputs": [],
=======
   "outputs": [
    {
     "data": {
      "text/plain": [
       "['James resides at 74000 Out There Lane. ',\n",
       " 'James rents and lives in a 2 room single family dwelling at 74000 Out There Lane. ',\n",
       " 'James was evicted because the single family dwelling had complete damage. ',\n",
       " 'James started searching for a new single family dwelling 60 days after the event. ',\n",
       " 'On day 610, after a 550 day search, James gave up looking for a new home in the local area. ',\n",
       " 'Sally rents out a 2 bedroom single family dwelling at 74000 Out There Lane worth $558,000. ',\n",
       " \"Sally's single family dwelling was inspected 10 days after the event. \",\n",
       " 'It was found to have a damage level of complete and was collapse. ',\n",
       " 'The value of the damage was $558,000. ',\n",
       " 'Sally submitted an insurance claim 10 days after the event. ',\n",
       " 'Sally received a $558,000 insurance payout 20 days after the event. ',\n",
       " 'It took Sally 10 days to exhaust financial assistance options and now has $588,000 for repairs. ',\n",
       " 'Sally received an engineering assessment 30 days after the event. ',\n",
       " 'Sally received permit approval 40 days after the event. ',\n",
       " \"Sally's single family dwelling was demolished 50 days after the event. \",\n",
       " \"Sally's single family dwelling was repaired 60 days after the event. \"]"
      ]
     },
     "execution_count": 33,
     "metadata": {},
     "output_type": "execute_result"
    }
   ],
>>>>>>> master
   "source": [
    "renters[2].residence.address"
   ]
  },
  {
   "cell_type": "code",
   "execution_count": null,
   "metadata": {},
   "outputs": [],
   "source": [
    "renters[2].landlord.property.listed"
   ]
  },
  {
   "cell_type": "code",
   "execution_count": null,
   "metadata": {},
   "outputs": [],
   "source": [
    "d = "
   ]
  },
  {
   "cell_type": "code",
   "execution_count": null,
   "metadata": {
    "collapsed": true
   },
   "outputs": [],
   "source": [
    "df = households_to_df(owners)"
   ]
  },
  {
   "cell_type": "code",
   "execution_count": null,
   "metadata": {
    "collapsed": true
   },
   "outputs": [],
   "source": [
    "# outfile = '../outputs/' + str(datetime.now().hour) + str(datetime.now().minute) + str(datetime.now().day) \\\n",
    "#                  + str(datetime.now().month) + str(datetime.now().year) + '.csv'\n",
    "    \n",
    "# df.to_csv(outfile)"
   ]
  },
  {
   "cell_type": "code",
   "execution_count": null,
   "metadata": {
    "collapsed": true
   },
   "outputs": [],
   "source": [
    "event_list=[]\n",
    "\n",
    "for i in df.columns:\n",
    "    if \"get\" in i or \"put\" in i or \"stop\" in i or \"start\" in i or \"name\" in i or \"gave\" in i:\n",
    "        event_list.append(i)\n",
    "\n",
    "event_df = df[event_list]\n",
    "event_df = event_df.set_index('name')"
   ]
  },
  {
   "cell_type": "code",
<<<<<<< HEAD
   "execution_count": null,
   "metadata": {
    "collapsed": true
   },
   "outputs": [],
=======
   "execution_count": 39,
   "metadata": {},
   "outputs": [
    {
     "data": {
      "text/html": [
       "<div>\n",
       "<style>\n",
       "    .dataframe thead tr:only-child th {\n",
       "        text-align: right;\n",
       "    }\n",
       "\n",
       "    .dataframe thead th {\n",
       "        text-align: left;\n",
       "    }\n",
       "\n",
       "    .dataframe tbody tr th {\n",
       "        vertical-align: top;\n",
       "    }\n",
       "</style>\n",
       "<table border=\"1\" class=\"dataframe\">\n",
       "  <thead>\n",
       "    <tr style=\"text-align: right;\">\n",
       "      <th></th>\n",
       "      <th>assessment_get</th>\n",
       "      <th>assessment_put</th>\n",
       "      <th>claim_get</th>\n",
       "      <th>claim_put</th>\n",
       "      <th>damage_state_start</th>\n",
       "      <th>damage_value_start</th>\n",
       "      <th>demolition_get</th>\n",
       "      <th>demolition_put</th>\n",
       "      <th>fema_get</th>\n",
       "      <th>fema_put</th>\n",
       "      <th>...</th>\n",
       "      <th>inspection_put</th>\n",
       "      <th>occupy_get</th>\n",
       "      <th>occupy_put</th>\n",
       "      <th>permit_get</th>\n",
       "      <th>permit_put</th>\n",
       "      <th>recovery_limit_state_start</th>\n",
       "      <th>repair_get</th>\n",
       "      <th>repair_put</th>\n",
       "      <th>sba_get</th>\n",
       "      <th>sba_put</th>\n",
       "    </tr>\n",
       "    <tr>\n",
       "      <th>name</th>\n",
       "      <th></th>\n",
       "      <th></th>\n",
       "      <th></th>\n",
       "      <th></th>\n",
       "      <th></th>\n",
       "      <th></th>\n",
       "      <th></th>\n",
       "      <th></th>\n",
       "      <th></th>\n",
       "      <th></th>\n",
       "      <th></th>\n",
       "      <th></th>\n",
       "      <th></th>\n",
       "      <th></th>\n",
       "      <th></th>\n",
       "      <th></th>\n",
       "      <th></th>\n",
       "      <th></th>\n",
       "      <th></th>\n",
       "      <th></th>\n",
       "      <th></th>\n",
       "    </tr>\n",
       "  </thead>\n",
       "  <tbody>\n",
       "    <tr>\n",
       "      <th>Alfred</th>\n",
       "      <td>None</td>\n",
       "      <td>None</td>\n",
       "      <td>None</td>\n",
       "      <td>None</td>\n",
       "      <td>Complete</td>\n",
       "      <td>306900.00</td>\n",
       "      <td>None</td>\n",
       "      <td>None</td>\n",
       "      <td>40</td>\n",
       "      <td>30</td>\n",
       "      <td>...</td>\n",
       "      <td>10.0</td>\n",
       "      <td>71.0</td>\n",
       "      <td>61.0</td>\n",
       "      <td>None</td>\n",
       "      <td>None</td>\n",
       "      <td>Collapse</td>\n",
       "      <td>None</td>\n",
       "      <td>None</td>\n",
       "      <td>51</td>\n",
       "      <td>30</td>\n",
       "    </tr>\n",
       "    <tr>\n",
       "      <th>Bruce</th>\n",
       "      <td>50</td>\n",
       "      <td>40</td>\n",
       "      <td>20.5</td>\n",
       "      <td>10.5</td>\n",
       "      <td>Moderate</td>\n",
       "      <td>83700.00</td>\n",
       "      <td>None</td>\n",
       "      <td>None</td>\n",
       "      <td>None</td>\n",
       "      <td>30</td>\n",
       "      <td>...</td>\n",
       "      <td>10.0</td>\n",
       "      <td>80.0</td>\n",
       "      <td>70.0</td>\n",
       "      <td>60</td>\n",
       "      <td>50</td>\n",
       "      <td>Disfunctional</td>\n",
       "      <td>70</td>\n",
       "      <td>60</td>\n",
       "      <td>None</td>\n",
       "      <td>30</td>\n",
       "    </tr>\n",
       "    <tr>\n",
       "      <th>Selena</th>\n",
       "      <td>61</td>\n",
       "      <td>51</td>\n",
       "      <td>None</td>\n",
       "      <td>None</td>\n",
       "      <td>Extensive</td>\n",
       "      <td>93534.75</td>\n",
       "      <td>81</td>\n",
       "      <td>71</td>\n",
       "      <td>40</td>\n",
       "      <td>30</td>\n",
       "      <td>...</td>\n",
       "      <td>10.0</td>\n",
       "      <td>101.0</td>\n",
       "      <td>91.0</td>\n",
       "      <td>71</td>\n",
       "      <td>61</td>\n",
       "      <td>Disfunctional</td>\n",
       "      <td>91</td>\n",
       "      <td>81</td>\n",
       "      <td>51</td>\n",
       "      <td>30</td>\n",
       "    </tr>\n",
       "    <tr>\n",
       "      <th>Fish</th>\n",
       "      <td>50</td>\n",
       "      <td>40</td>\n",
       "      <td>None</td>\n",
       "      <td>None</td>\n",
       "      <td>Slight</td>\n",
       "      <td>11160.00</td>\n",
       "      <td>None</td>\n",
       "      <td>None</td>\n",
       "      <td>40</td>\n",
       "      <td>30</td>\n",
       "      <td>...</td>\n",
       "      <td>10.0</td>\n",
       "      <td>80.0</td>\n",
       "      <td>70.0</td>\n",
       "      <td>60</td>\n",
       "      <td>50</td>\n",
       "      <td>Functional</td>\n",
       "      <td>70</td>\n",
       "      <td>60</td>\n",
       "      <td>None</td>\n",
       "      <td>30</td>\n",
       "    </tr>\n",
       "    <tr>\n",
       "      <th>Jerome</th>\n",
       "      <td>None</td>\n",
       "      <td>None</td>\n",
       "      <td>None</td>\n",
       "      <td>None</td>\n",
       "      <td>None</td>\n",
       "      <td>0.00</td>\n",
       "      <td>None</td>\n",
       "      <td>None</td>\n",
       "      <td>None</td>\n",
       "      <td>None</td>\n",
       "      <td>...</td>\n",
       "      <td>10.0</td>\n",
       "      <td>20.5</td>\n",
       "      <td>10.5</td>\n",
       "      <td>None</td>\n",
       "      <td>None</td>\n",
       "      <td>Functional</td>\n",
       "      <td>None</td>\n",
       "      <td>None</td>\n",
       "      <td>None</td>\n",
       "      <td>None</td>\n",
       "    </tr>\n",
       "    <tr>\n",
       "      <th>Barbara</th>\n",
       "      <td>None</td>\n",
       "      <td>None</td>\n",
       "      <td>None</td>\n",
       "      <td>None</td>\n",
       "      <td>None</td>\n",
       "      <td>0.00</td>\n",
       "      <td>None</td>\n",
       "      <td>None</td>\n",
       "      <td>None</td>\n",
       "      <td>None</td>\n",
       "      <td>...</td>\n",
       "      <td>10.0</td>\n",
       "      <td>20.5</td>\n",
       "      <td>10.5</td>\n",
       "      <td>None</td>\n",
       "      <td>None</td>\n",
       "      <td>Functional</td>\n",
       "      <td>None</td>\n",
       "      <td>None</td>\n",
       "      <td>None</td>\n",
       "      <td>None</td>\n",
       "    </tr>\n",
       "    <tr>\n",
       "      <th>Lucius</th>\n",
       "      <td>None</td>\n",
       "      <td>None</td>\n",
       "      <td>None</td>\n",
       "      <td>None</td>\n",
       "      <td>None</td>\n",
       "      <td>0.00</td>\n",
       "      <td>None</td>\n",
       "      <td>None</td>\n",
       "      <td>None</td>\n",
       "      <td>None</td>\n",
       "      <td>...</td>\n",
       "      <td>10.0</td>\n",
       "      <td>20.5</td>\n",
       "      <td>10.5</td>\n",
       "      <td>None</td>\n",
       "      <td>None</td>\n",
       "      <td>Functional</td>\n",
       "      <td>None</td>\n",
       "      <td>None</td>\n",
       "      <td>None</td>\n",
       "      <td>None</td>\n",
       "    </tr>\n",
       "    <tr>\n",
       "      <th>Dick</th>\n",
       "      <td>None</td>\n",
       "      <td>None</td>\n",
       "      <td>None</td>\n",
       "      <td>None</td>\n",
       "      <td>None</td>\n",
       "      <td>0.00</td>\n",
       "      <td>None</td>\n",
       "      <td>None</td>\n",
       "      <td>None</td>\n",
       "      <td>None</td>\n",
       "      <td>...</td>\n",
       "      <td>10.0</td>\n",
       "      <td>20.5</td>\n",
       "      <td>10.5</td>\n",
       "      <td>None</td>\n",
       "      <td>None</td>\n",
       "      <td>Functional</td>\n",
       "      <td>None</td>\n",
       "      <td>None</td>\n",
       "      <td>None</td>\n",
       "      <td>None</td>\n",
       "    </tr>\n",
       "  </tbody>\n",
       "</table>\n",
       "<p>8 rows × 25 columns</p>\n",
       "</div>"
      ],
      "text/plain": [
       "        assessment_get assessment_put claim_get claim_put damage_state_start  \\\n",
       "name                                                                           \n",
       "Alfred            None           None      None      None           Complete   \n",
       "Bruce               50             40      20.5      10.5           Moderate   \n",
       "Selena              61             51      None      None          Extensive   \n",
       "Fish                50             40      None      None             Slight   \n",
       "Jerome            None           None      None      None               None   \n",
       "Barbara           None           None      None      None               None   \n",
       "Lucius            None           None      None      None               None   \n",
       "Dick              None           None      None      None               None   \n",
       "\n",
       "         damage_value_start demolition_get demolition_put fema_get fema_put  \\\n",
       "name                                                                          \n",
       "Alfred            306900.00           None           None       40       30   \n",
       "Bruce              83700.00           None           None     None       30   \n",
       "Selena             93534.75             81             71       40       30   \n",
       "Fish               11160.00           None           None       40       30   \n",
       "Jerome                 0.00           None           None     None     None   \n",
       "Barbara                0.00           None           None     None     None   \n",
       "Lucius                 0.00           None           None     None     None   \n",
       "Dick                   0.00           None           None     None     None   \n",
       "\n",
       "          ...   inspection_put occupy_get occupy_put permit_get  permit_put  \\\n",
       "name      ...                                                                 \n",
       "Alfred    ...             10.0       71.0       61.0       None        None   \n",
       "Bruce     ...             10.0       80.0       70.0         60          50   \n",
       "Selena    ...             10.0      101.0       91.0         71          61   \n",
       "Fish      ...             10.0       80.0       70.0         60          50   \n",
       "Jerome    ...             10.0       20.5       10.5       None        None   \n",
       "Barbara   ...             10.0       20.5       10.5       None        None   \n",
       "Lucius    ...             10.0       20.5       10.5       None        None   \n",
       "Dick      ...             10.0       20.5       10.5       None        None   \n",
       "\n",
       "         recovery_limit_state_start  repair_get  repair_put sba_get sba_put  \n",
       "name                                                                         \n",
       "Alfred                     Collapse        None        None      51      30  \n",
       "Bruce                 Disfunctional          70          60    None      30  \n",
       "Selena                Disfunctional          91          81      51      30  \n",
       "Fish                     Functional          70          60    None      30  \n",
       "Jerome                   Functional        None        None    None    None  \n",
       "Barbara                  Functional        None        None    None    None  \n",
       "Lucius                   Functional        None        None    None    None  \n",
       "Dick                     Functional        None        None    None    None  \n",
       "\n",
       "[8 rows x 25 columns]"
      ]
     },
     "execution_count": 39,
     "metadata": {},
     "output_type": "execute_result"
    }
   ],
>>>>>>> master
   "source": [
    "event_df"
   ]
  },
  {
   "cell_type": "markdown",
   "metadata": {},
   "source": [
    "__Visualize events experienced by an individual HomeOwner entity.__"
   ]
  },
  {
   "cell_type": "code",
<<<<<<< HEAD
   "execution_count": null,
   "metadata": {
    "collapsed": true
   },
   "outputs": [],
=======
   "execution_count": 40,
   "metadata": {},
   "outputs": [
    {
     "name": "stderr",
     "output_type": "stream",
     "text": [
      "Widget Javascript not detected.  It may not be installed or enabled properly.\n"
     ]
    },
    {
     "data": {
      "application/vnd.jupyter.widget-view+json": {
       "model_id": "3c808952906c4d42bcfb3986132a3a79"
      }
     },
     "metadata": {},
     "output_type": "display_data"
    }
   ],
>>>>>>> master
   "source": [
    "names = sorted([f for f in df['name']])\n",
    "\n",
    "name_chooser = Dropdown(\n",
    "    options=names\n",
    ")\n",
    "display(name_chooser)"
   ]
  },
  {
   "cell_type": "code",
<<<<<<< HEAD
   "execution_count": null,
   "metadata": {
    "collapsed": true
   },
   "outputs": [],
=======
   "execution_count": 41,
   "metadata": {},
   "outputs": [
    {
     "data": {
      "text/plain": [
       "[<matplotlib.text.Text at 0x11593f0b8>, <matplotlib.text.Text at 0x115928128>]"
      ]
     },
     "execution_count": 41,
     "metadata": {},
     "output_type": "execute_result"
    },
    {
     "data": {
      "image/png": "iVBORw0KGgoAAAANSUhEUgAAAu0AAAJgCAYAAAA+kF1hAAAABHNCSVQICAgIfAhkiAAAAAlwSFlz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\nYII=\n",
      "text/plain": [
       "<matplotlib.figure.Figure at 0x11563fcf8>"
      ]
     },
     "metadata": {},
     "output_type": "display_data"
    }
   ],
>>>>>>> master
   "source": [
    "name = name_chooser.value\n",
    "\n",
    "name_row = df[df['name']==name][['inspection_put',\n",
    " 'inspection_get',\n",
    " 'claim_put',\n",
    " 'claim_get',\n",
    " 'fema_put',\n",
    " 'fema_get',\n",
    " 'sba_put',\n",
    " 'sba_get',\n",
    "'occupy_put',\n",
    "'occupy_get']]\n",
    "\n",
    "%matplotlib inline\n",
    "plt.figure(figsize=(10,10))\n",
    "sns.set_style(style=\"whitegrid\")\n",
    "sns.set(font_scale=2)\n",
    "ax = sns.stripplot(name_row.iloc[0], name_row.columns, jitter=True, size = 15, linewidth=1)\n",
    "ax.set(xlabel=\"Days After Event\", ylabel=\"Housing Recovery Events for {0}\".format(name))\n",
    "ax.set_xbound(lower=0)"
   ]
  },
  {
   "cell_type": "markdown",
   "metadata": {},
   "source": [
    "Map of outputs"
   ]
  },
  {
   "cell_type": "code",
   "execution_count": null,
   "metadata": {
    "collapsed": true
   },
   "outputs": [],
   "source": [
    "# outfile = '../outputs/' + 'folium_map_' + str(datetime.now().hour) + str(datetime.now().minute) + str(datetime.now().day) \\\n",
    "#                  + str(datetime.now().month) + str(datetime.now().year) + '.html'\n",
    "    \n",
    "# folium_map(df, outfile = outfile)"
   ]
  },
  {
   "cell_type": "markdown",
   "metadata": {},
   "source": [
    "Dashboard of outputs"
   ]
  },
  {
   "cell_type": "code",
<<<<<<< HEAD
   "execution_count": null,
=======
   "execution_count": 43,
>>>>>>> master
   "metadata": {
    "collapsed": true
   },
   "outputs": [],
   "source": [
    "# outfile = '../outputs/' + 'dashboard_' + str(datetime.now().hour) + str(datetime.now().minute) + str(datetime.now().day) \\\n",
    "#                  + str(datetime.now().month) + str(datetime.now().year) + '.html'\n",
    "\n",
    "# dashboard(df, outfile = outfile)"
   ]
  }
 ],
 "metadata": {
  "anaconda-cloud": {},
  "kernelspec": {
   "display_name": "Python [default]",
   "language": "python",
   "name": "python3"
  },
  "language_info": {
   "codemirror_mode": {
    "name": "ipython",
    "version": 3
   },
   "file_extension": ".py",
   "mimetype": "text/x-python",
   "name": "python",
   "nbconvert_exporter": "python",
   "pygments_lexer": "ipython3",
   "version": "3.5.3"
  },
  "nbpresent": {
   "slides": {
    "c70bf630-c1ab-4568-8b60-1be60a4c6f14": {
     "id": "c70bf630-c1ab-4568-8b60-1be60a4c6f14",
     "layout": "grid",
     "prev": null,
     "regions": {
      "4937cfd3-95ef-472b-8bcb-0fe395034eeb": {
       "attrs": {
        "height": 0.75,
        "pad": 0.01,
        "treemap:weight": 1,
        "width": 0.3333333333333333,
        "x": 0.6666666666666666,
        "y": 0
       },
       "id": "4937cfd3-95ef-472b-8bcb-0fe395034eeb"
      },
      "5fbef4a8-e9f1-4a08-86db-46056e211b66": {
       "attrs": {
        "height": 0.75,
        "pad": 0.01,
        "treemap:weight": 1,
        "width": 0.3333333333333333,
        "x": 0.3333333333333333,
        "y": 0
       },
       "id": "5fbef4a8-e9f1-4a08-86db-46056e211b66"
      },
      "7ee15621-2c2c-44b3-b170-4eb63bd818cc": {
       "attrs": {
        "height": 0.25,
        "pad": 0.01,
        "treemap:weight": 1,
        "width": 1,
        "x": 0,
        "y": 0.75
       },
       "id": "7ee15621-2c2c-44b3-b170-4eb63bd818cc"
      },
      "fc201ce3-4473-4f2f-b833-b627be3edf18": {
       "attrs": {
        "height": 0.75,
        "pad": 0.01,
        "treemap:weight": 1,
        "width": 0.3333333333333333,
        "x": 0,
        "y": 0
       },
       "content": {
        "cell": "daf47265-2d0b-406e-bda0-4d5c93d295ab",
        "part": "source"
       },
       "id": "fc201ce3-4473-4f2f-b833-b627be3edf18"
      }
     }
    }
   },
   "themes": {}
  }
 },
 "nbformat": 4,
 "nbformat_minor": 1
}
