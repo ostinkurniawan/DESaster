{
 "cells": [
  {
   "cell_type": "markdown",
   "metadata": {
    "nbpresent": {
     "id": "5d6821e5-6824-4330-a555-39b1dc08357a"
    }
   },
   "source": [
    "# DESaster Application Template\n",
    "Last updated March 2018"
   ]
  },
  {
   "cell_type": "markdown",
   "metadata": {
    "nbpresent": {
     "id": "1d3465f4-2fbf-4582-92e9-7c48d9cf82e6"
    }
   },
   "source": [
    "## Import Required Modules"
   ]
  },
  {
   "cell_type": "code",
   "execution_count": 45,
   "metadata": {
    "collapsed": true,
    "nbpresent": {
     "id": "efe0367b-ecea-4f68-8747-3507afa0a7e4"
    }
   },
   "outputs": [],
   "source": [
    "# System modules\n",
    "import sys\n",
    "from datetime import datetime\n",
    "from IPython.display import display\n",
    "from ipywidgets import Dropdown\n",
    "\n",
    "\n",
    "# Data analysis modules\n",
    "import pandas as pd\n",
    "import numpy as np\n",
    "from scipy.stats import uniform, norm, beta, weibull_min, rv_discrete\n",
    "import random\n",
    "\n",
    "# SimPy modules\n",
    "import simpy\n",
    "from simpy import Resource, Container, FilterStore\n",
    "from simpy.util import start_delayed\n",
    "\n",
    "# Viz modules\n",
    "import matplotlib.pyplot as plt\n",
    "import seaborn as sns\n",
    "import folium\n",
    "from folium import plugins\n",
    "import branca.colormap as cm\n",
    "from folium.plugins import MarkerCluster\n",
    "from folium import Map, FeatureGroup, Marker, LayerControl\n",
    "\n",
    "# DESaster Modules\n",
    "desaster_path = \"/Users/geomando/Dropbox/github/DESaster\" # <-- Change this for your path\n",
    "sys.path.append(desaster_path)\n",
    "import desaster\n",
    "from desaster.io import *\n",
    "from desaster.structures import *\n",
    "from desaster.financial import *\n",
    "from desaster.technical import *\n",
    "from desaster.entities import *\n",
    "from desaster.policies import *\n",
    "from desaster.visualize import dashboard, folium_map"
   ]
  },
  {
   "cell_type": "markdown",
   "metadata": {
    "nbpresent": {
     "id": "cccae357-be1e-4cdd-b6da-33bc39eb27c2"
    }
   },
   "source": [
    "## Import Households Attribute Data\n",
    "Input data must be MS Excel .xlsx file with format (column names and sheet names) of ../inputs/desaster_input_data_template.xlsx"
   ]
  },
  {
   "cell_type": "code",
   "execution_count": 3,
   "metadata": {
    "collapsed": true,
    "nbpresent": {
     "id": "f5ad9903-feef-4cc1-865e-2632556532d1"
    }
   },
   "outputs": [],
   "source": [
    "scenario_file = '../inputs/desaster_input_data_template.xlsx'"
   ]
  },
  {
   "cell_type": "markdown",
   "metadata": {},
   "source": [
    "__Create Pandas dataframe of attribute data for all OwnerHouseholds to be modeled in the simulation.__"
   ]
  },
  {
   "cell_type": "code",
   "execution_count": 4,
   "metadata": {
    "collapsed": true,
    "nbpresent": {
     "id": "77a6f2a4-6ea6-484d-9de2-eba265cd3ce1"
    }
   },
   "outputs": [],
   "source": [
    "owners_df = pd.read_excel(scenario_file, sheetname='owners')"
   ]
  },
  {
   "cell_type": "markdown",
   "metadata": {},
   "source": [
    "__Create Pandas dataframe of attribute data for all RenterHouseholds to be modeled in the simulation.__"
   ]
  },
  {
   "cell_type": "code",
   "execution_count": 6,
   "metadata": {
    "collapsed": true,
    "nbpresent": {
     "id": "2bedb18e-ce6d-41cb-98a4-7b91bd10f9bb"
    }
   },
   "outputs": [],
   "source": [
    "renters_df = pd.read_excel(scenario_file, sheetname='renters')"
   ]
  },
  {
   "cell_type": "markdown",
   "metadata": {
    "nbpresent": {
     "id": "82ea73e7-3af1-4c0e-917f-a2c8c211f877"
    }
   },
   "source": [
    "## Setup the Simulation Environment, Define Parameter Distributions, and Populate with Households, Recovery Programs, and Recovery Policies"
   ]
  },
  {
   "cell_type": "markdown",
   "metadata": {
    "nbpresent": {
     "id": "674d14b6-8c36-4fdb-aa62-2082abb1ade9"
    }
   },
   "source": [
    "__Set Simpy simulation environment__"
   ]
  },
  {
   "cell_type": "code",
   "execution_count": 7,
   "metadata": {
    "collapsed": true,
    "nbpresent": {
     "id": "4b32e43c-2ad8-4103-ab07-110178d9f224"
    }
   },
   "outputs": [],
   "source": [
    "env = simpy.Environment()"
   ]
  },
  {
   "cell_type": "markdown",
   "metadata": {
    "nbpresent": {
     "id": "60da519d-86e8-4159-a232-897fe476c53c"
    }
   },
   "source": [
    "__Indicate whether the simulation will keep track of the stories of each entity in the simulation. This can also be set individually for each group of imported entities (e.g., each call to an entities.Entity class or subclass.__"
   ]
  },
  {
   "cell_type": "code",
   "execution_count": 8,
   "metadata": {
    "collapsed": true,
    "nbpresent": {
     "id": "219edad0-ba39-4977-8836-3bbf81b33cf5"
    }
   },
   "outputs": [],
   "source": [
    "write_story = True"
   ]
  },
  {
   "cell_type": "markdown",
   "metadata": {
    "nbpresent": {
     "id": "c3e629b0-ac2a-4222-a944-939a885c034a"
    }
   },
   "source": [
    "__Define the probability distributions that can be used in the simulation to define various recovery program process event durations.__"
   ]
  },
  {
   "cell_type": "code",
   "execution_count": 9,
   "metadata": {
    "collapsed": true
   },
   "outputs": [],
   "source": [
    "fema_ia_dist = norm(loc = 10, scale = 0)\n",
    "sba_home_sba_dist = norm(loc = 10, scale = 0)\n",
    "sba_biz_sba_dist = norm(loc = 10, scale = 0)\n",
    "insurance_dist = norm(loc = 10, scale = 0)\n",
    "start_delay_dist = norm(loc = 10, scale = 0)\n",
    "inspection_dist = norm(loc = 0.5, scale = 0)\n",
    "assessment_dist = norm(loc = 10, scale = 0)\n",
    "permitting_dist = norm(loc = 10, scale = 0)\n",
    "repair_dist = norm(loc = 10, scale = 0)\n",
    "demolition_dist = norm(loc = 10, scale = 0)\n",
    "occupy_dist = norm(loc = 10, scale = 0)\n",
    "find_home_dist = norm(loc = 10, scale = 0)\n",
    "\n",
    "declaration = norm.rvs(loc = 30, scale = 0) # Placeholder deterministic scalar that defines number of days before federal disaster declared\n",
    "sba_deadline = norm.rvs(loc = 60, scale = 0) # Typically duration in days after declaration that SBA applications must be submitted"
   ]
  },
  {
   "cell_type": "markdown",
   "metadata": {},
   "source": [
    "__Instantiate the recovery program objects that will be used in the simulation. Each recovery program requires\n",
    "specification of a duration probability distribution (set above). Unlike shown below, the distributions do not have to be the same for each program. Currently all are the same scalars to simplify interpretation and debugging.__"
   ]
  },
  {
   "cell_type": "code",
   "execution_count": 10,
   "metadata": {
    "collapsed": true
   },
   "outputs": [],
   "source": [
    "# Instantiate a FEMA Individual Assistance program\n",
    "fema_ia = HousingAssistanceFEMA(env, staff=100, budget=10000000, duration=fema_ia_dist, max_outlay=30000,\n",
    "                                  deadline=540, declaration=declaration)\n",
    "\n",
    "# Instantiate a SBA Loan program to use w/ OwnerHouseholds\n",
    "sba_home_loan = RealPropertyLoanSBA(env, officers=10, inspectors=10, duration=sba_home_sba_dist, max_loan = 200000, \n",
    "                            min_credit = 600, deadline=sba_deadline, declaration=declaration)\n",
    "\n",
    "# Instantiate a SBA Loan program to use w/ Landlords (higher maximum for businesses)\n",
    "sba_biz_loan = RealPropertyLoanSBA(env, officers=10, inspectors=10, duration=sba_biz_sba_dist, \n",
    "                           max_loan = 2000000, deadline=sba_deadline, declaration=declaration) # SBA max biz loan = $2mil\n",
    "\n",
    "# Instantiate a private insurance program\n",
    "insurance = OwnersInsurance(env, staff=100, deductible=0.0, duration=insurance_dist)\n",
    "\n",
    "# Instantiate a rapid inspeaction (tagging) program\n",
    "inspection = InspectionProgram(env, staff=1000, duration=inspection_dist)\n",
    "\n",
    "# Instantiate a detailed engineering assessment program\n",
    "assessment = EngineeringAssessment(env, staff=1000, duration=assessment_dist)\n",
    "\n",
    "# Instantiate a building permit processing program\n",
    "permitting = PermitProgram(env, staff=1000, duration=permitting_dist) \n",
    "\n",
    "# Instantiate a program to represent private repair contractors\n",
    "repair = RepairProgram(env, staff=1000, materials=1000000000, duration=repair_dist)\n",
    "\n",
    "# Instantiate a program to represent private demolition contractors\n",
    "demolition = DemolitionProgram(env, staff=1000, duration=demolition_dist)"
   ]
  },
  {
   "cell_type": "markdown",
   "metadata": {},
   "source": [
    "__Instantiate any recovery policies. Policies are custom classes that define different recovery program arrangements, sequences, logic, patience, etc. Currently only one is written. Policy classes also provides an example of how to model entity \"patience\" and process interuption.__"
   ]
  },
  {
   "cell_type": "code",
   "execution_count": 11,
   "metadata": {
    "collapsed": true
   },
   "outputs": [],
   "source": [
    "# Apply for insurance, FEMA IA, and SBA in that seqence\n",
    "insurance_ia_sba_seq = Insurance_IA_SBA_Sequential(env)\n",
    "\n",
    "# Apply for insurance, FEMA IA, and SBA in at the same time\n",
    "insurance_ia_sba_para = Insurance_IA_SBA_Parallel(env)\n",
    "\n",
    "# Apply for insurance first, then apply to FEMA IA and SBA at the same time\n",
    "insurance_firstthen_ia_sba_para = Insurance_FirstThen_IA_SBA_Parallel(env)\n",
    "\n",
    "# Apply for insurance and SBA in that seqence\n",
    "insurance_sba_seq = Insurance_SBA_Sequential(env)\n",
    "\n",
    "# Apply for insurance and SBA at the same time\n",
    "insurance_sba_para = Insurance_SBA_Parallel(env)\n",
    "\n",
    "# A policy to simulate government buyout to repair homes \n",
    "repair_stock = RepairVacantBuilding(env)"
   ]
  },
  {
   "cell_type": "markdown",
   "metadata": {
    "nbpresent": {
     "id": "ba511c7a-6df4-4ba1-a590-dbcb877c1c5d"
    }
   },
   "source": [
    "__Create empty Simpy FilterStores to use as different types of housing stocks.__"
   ]
  },
  {
   "cell_type": "code",
   "execution_count": 45,
   "metadata": {
    "collapsed": true,
    "nbpresent": {
     "id": "f462c94a-6efe-4376-a69e-c58cebcab9f2"
    }
   },
   "outputs": [],
   "source": [
    "owned_stock = FilterStore(env)  # To put the residences associated with owners\n",
    "rented_stock = FilterStore(env) # To put the residences associated with renters\n",
    "\n",
    "forsale_stock = FilterStore(env) # To put the homes associated with vacant home sellers\n",
    "forrent_stock = FilterStore(env) # To put the homes associated with vacant home landlords"
   ]
  },
  {
   "cell_type": "markdown",
   "metadata": {},
   "source": [
    "__Create a list of OwnerHousehold objects based on input data. Place each associated residence in the rented housing stock.__"
   ]
  },
  {
   "cell_type": "code",
   "execution_count": 13,
   "metadata": {
    "collapsed": true,
    "nbpresent": {
     "id": "0a1a343c-01a9-43a3-9309-fb83ddc13acc"
    }
   },
   "outputs": [],
   "source": [
    "owners = importEntities(env, owners_df, 'OwnerHousehold', owned_stock, write_story)"
   ]
  },
  {
   "cell_type": "markdown",
   "metadata": {},
   "source": [
    "__Create a list of RenterHousehold objects based on input data. Place each associated residence in the rented housing stock.__"
   ]
  },
  {
   "cell_type": "code",
   "execution_count": 14,
   "metadata": {
    "collapsed": true,
    "nbpresent": {
     "id": "422d741a-01e2-4fee-bf86-ac07ba86cb2e"
    }
   },
   "outputs": [],
   "source": [
    "renters = importEntities(env, renters_df, 'RenterHousehold', rented_stock, write_story)"
   ]
  },
  {
   "cell_type": "markdown",
   "metadata": {},
   "source": [
    "# Specify master processes for Landlords, OwnerHouseholds, and Renter Households\n",
    "Note: Master processes define custom, case-specific, scenario-based, or user-defined logic for modeled entities. They are not \"hard coded\" processes or policies in DESaster."
   ]
  },
  {
   "cell_type": "markdown",
   "metadata": {},
   "source": [
    "*A listing of arguments for each of the recovery programs and policies to help write master processes.*"
   ]
  },
  {
   "cell_type": "code",
   "execution_count": 15,
   "metadata": {},
   "outputs": [
    {
     "name": "stdout",
     "output_type": "stream",
     "text": [
      "HousingAssistanceFEMA.process ['self', 'entity', 'callbacks']\n",
      "RealPropertyLoanSBA.process ['self', 'entity', 'callbacks']\n",
      "RealPropertyLoanSBA.process ['self', 'entity', 'callbacks']\n",
      "OwnersInsurance.process ['self', 'entity', 'callbacks']\n",
      "InspectionProgram.process ['self', 'structure', 'entity', 'callbacks']\n",
      "EngineeringAssessment.process ['self', 'structure', 'entity', 'callbacks']\n",
      "PermitProgram.process ['self', 'structure', 'entity', 'callbacks']\n",
      "RepairProgram.process ['self', 'structure', 'entity', 'callbacks']\n",
      "DemolitionProgram.process ['self', 'structure', 'entity', 'callbacks']\n",
      "Insurance_IA_SBA_Sequential.policy ['self', 'insurance_program', 'fema_program', 'sba_program', 'entity', 'search_patience']\n",
      "Insurance_IA_SBA_Parallel.policy ['self', 'insurance_program', 'fema_program', 'sba_program', 'entity', 'search_patience']\n",
      "Insurance_FirstThen_IA_SBA_Parallel.policy ['self', 'insurance_program', 'fema_program', 'sba_program', 'entity', 'search_patience']\n",
      "Insurance_SBA_Sequential.policy ['self', 'insurance_program', 'sba_program', 'entity', 'search_patience']\n",
      "Insurance_SBA_Parallel.policy ['self', 'insurance_program', 'sba_program', 'entity', 'search_patience']\n",
      "RepairVacantBuilding.policy ['self', 'inspection_program', 'assessment_program', 'permit_program', 'repair_program', 'entity', 'building_stock', 'repair_probability', 'wait_time']\n"
     ]
    }
   ],
   "source": [
    "def list_args(programs_policies):\n",
    "    for p in programs_policies:\n",
    "        print(str(p.__func__)[10:-16], inspect.getfullargspec(p).args) # Useful to determine the arguments for the recovery programs\n",
    "\n",
    "programs_policies = [fema_ia.process, sba_home_loan.process, sba_biz_loan.process, insurance.process, \n",
    "                     inspection.process, assessment.process, permitting.process, repair.process, \n",
    "                     demolition.process, insurance_ia_sba_seq.policy, insurance_ia_sba_para.policy, \n",
    "                     insurance_firstthen_ia_sba_para.policy, insurance_sba_seq.policy, insurance_sba_para.policy, \n",
    "                     repair_stock.policy]\n",
    "\n",
    "list_args(programs_policies)"
   ]
  },
  {
   "cell_type": "markdown",
   "metadata": {},
   "source": [
    "__A really basic custom master process as an example of how to create one.__"
   ]
  },
  {
   "cell_type": "code",
   "execution_count": 16,
   "metadata": {
    "collapsed": true
   },
   "outputs": [],
   "source": [
    "def basic_process(inspection_program, assessment_program, permit_program, repair_program, entity):\n",
    "        yield env.process(inspection_program.process(entity.property, entity))\n",
    "        yield env.process(assessment_program.process(entity.property, entity))\n",
    "        yield env.process(permit_program.process(entity.property, entity))\n",
    "        yield env.process(repair_program.process(entity.property, entity))"
   ]
  },
  {
   "cell_type": "markdown",
   "metadata": {
    "nbpresent": {
     "id": "6872528b-8992-44ce-8de9-79a318a19eec"
    }
   },
   "source": [
    "__A custom master process for Landlords. Landlords are the owners of renters' residences and so are the ones to seek financial assistance for repairs.__"
   ]
  },
  {
   "cell_type": "code",
   "execution_count": 17,
   "metadata": {
    "collapsed": true,
    "nbpresent": {
     "id": "7be4185f-0a7d-449c-b02d-cb35947db032"
    }
   },
   "outputs": [],
   "source": [
    "def landlord_process(env, inspection_program, insurance_program, loan_program, \n",
    "                 assessment_program, permit_program, demolish_program, repair_program, entity):\n",
    "    \n",
    "    money_patience = 100000  # days until give up the search for repair money\n",
    "    \n",
    "    # Do inspection after inspectors are mobilized\n",
    "    yield env.timeout(start_delay_dist.rvs())\n",
    "    yield env.process(inspection_program.process(entity.property, entity)) \n",
    "    \n",
    "    # Simulate damaged properties\n",
    "    if entity.property.damage_state != 'None': \n",
    "         \n",
    "        # If is extensively/completely damaged, evict tenant. Eventually initiate temp/transition shelter etc.\n",
    "        if entity.property.damage_state == 'Extensive' or entity.property.damage_state == 'Complete':\n",
    "            entity.evict_tenant()\n",
    "\n",
    "        # Landlord search for financial assistance using an Insurance_SBA policy. Note two alternate versions \n",
    "        # can be used: insurance_sba_para or insurance_sba_seq. Paste in the desired policy approach below.\n",
    "        yield env.process(insurance_sba_seq.policy(insurance_program, loan_program, entity, money_patience)) # Sequential\n",
    "\n",
    "        # If landlord gives up looking for recovery funds, evict their tenant\n",
    "        if entity.gave_up_funding_search != None:\n",
    "            entity.evict_tenant()\n",
    "            \n",
    "            if entity.write_story:\n",
    "                entity.story.append(\n",
    "                '{0} decided not to repair their {1}. '.format(\n",
    "                entity.name, entity.property.occupancy.lower()\n",
    "                                                                )\n",
    "                                    )\n",
    "            return\n",
    "        \n",
    "        # If has enough recovery funds, repair; if not, evict tenant.\n",
    "        if entity.recovery_funds.level >= entity.property.damage_value:\n",
    "            yield env.process(assessment_program.process(entity.property, entity))\n",
    "            yield env.process(permit_program.process(entity.property, entity))\n",
    "            \n",
    "            # Demolish property if > extensive damage\n",
    "            if entity.property.damage_state == 'Extensive' or entity.property.damage_state == 'Complete':\n",
    "                yield env.process(demolish_program.process(entity.property, entity))\n",
    "            yield env.process(repair_program.process(entity.property, entity))\n",
    "        else:\n",
    "            if entity.tenant.residence != None:\n",
    "                entity.evict_tenant()  "
   ]
  },
  {
   "cell_type": "markdown",
   "metadata": {},
   "source": [
    "__A custom master process for OwnerHouseholds (owner occupiers). Don't do anything if no damage suffered. If residence damage is \"Complete\", abandon home and look to buy a different one. Otherwise look for financial assistance for repairs. If money for repairs can't be found (patience runs out), look for a new home. If home search patience runs out, simply stop.__"
   ]
  },
  {
   "cell_type": "code",
   "execution_count": 18,
   "metadata": {
    "collapsed": true
   },
   "outputs": [],
   "source": [
    "def owner_process(env, inspection_program, insurance_program, fema_program, loan_program, \n",
    "                 assessment_program, permit_program, demolish_program, rebuild_program, search_stock, entity):\n",
    "    \n",
    "    money_patience = 200000  # days until give up the search for rebuild money\n",
    "    home_patience = 15000  # days until give up the search for a new home\n",
    "    \n",
    "    # Do inspections after inspectors are mobilized\n",
    "    yield env.timeout(start_delay_dist.rvs())\n",
    "    yield env.process(inspection_program.process(entity.property, entity))\n",
    "    \n",
    "    # Process damaged properties\n",
    "    if entity.property.damage_state == 'None':\n",
    "        yield env.process(entity.occupy(duration = occupy_dist))   \n",
    "    else:\n",
    "        \n",
    "        # Homeowner search for financial assistance using an Insurance_SBA policy. Note two alternate versions \n",
    "        # can be used: insurance_ia_sba_para, insurance_ia_sba_seq, and insurance_firstthen_ia_sba_para. \n",
    "        # Paste in the desired policy approach below.\n",
    "        yield env.process(insurance_firstthen_ia_sba_para.policy(insurance_program, fema_program,\n",
    "                                                   loan_program, entity, money_patience))\n",
    "\n",
    "        # If not enough money to repair home or home completely damaged, search for a new home to purchase.\n",
    "        if (entity.recovery_funds.level < entity.property.damage_value or\n",
    "                entity.property.damage_state == 'Complete'):\n",
    "\n",
    "            yield env.process(entity.find_home(search_stock, find_home_dist, down_payment_pct = 0.10,\n",
    "                                                  search_patience = home_patience))\n",
    "            \n",
    "            if entity.gave_up_home_search == None:\n",
    "                yield env.process(entity.occupy(duration = occupy_dist))\n",
    "            \n",
    "            return\n",
    "        # Otherwise repair home.       \n",
    "        elif entity.recovery_funds.level >= entity.property.damage_value:\n",
    "            \n",
    "            yield env.process(assessment_program.process(entity.property, entity))\n",
    "            yield env.process(permit_program.process(entity.property, entity))\n",
    "            if entity.property.damage_state == 'Extensive' or entity.property.damage_state == 'Complete':\n",
    "                yield env.process(demolish_program.process(entity.property, entity))\n",
    "            yield env.process(rebuild_program.process(entity.property, entity))    \n",
    "            yield env.process(entity.occupy(duration = occupy_dist))     "
   ]
  },
  {
   "cell_type": "markdown",
   "metadata": {},
   "source": [
    "__A custom master process for RenterHouseholds. For the most part it simply initiates a process for their landlords. If they are evicted by their landlords, the renter will look for a new home. If home search patience runs out, simply stop. Otherwise, occupy home after landlord repairs it.__"
   ]
  },
  {
   "cell_type": "code",
   "execution_count": 19,
   "metadata": {
    "collapsed": true,
    "nbpresent": {
     "id": "7872bd09-acde-43e0-a022-ab468070e863"
    }
   },
   "outputs": [],
   "source": [
    "def renter_process(env, inspection_program, landlord_insurance, \n",
    "                   landlord_loan, assessment_program, permit_program, demolish_program, rebuild_program, \n",
    "                   search_stock, entity):\n",
    "        \n",
    "    money_patience = 365  # days until give up the search for rebuild money\n",
    "    home_patience = 550  # days until give up the search for a new home\n",
    "    \n",
    "    # Process damaged homes\n",
    "    if entity.residence.damage_state == 'None':\n",
    "        yield env.process(entity.occupy(duration = occupy_dist))\n",
    "    \n",
    "    else:\n",
    "        # Process landlord property repairs\n",
    "        yield env.process(landlord_process(env, inspection_program, landlord_insurance, \n",
    "                                landlord_loan, assessment_program, permit_program, demolish_program, \n",
    "                                rebuild_program, entity.landlord))\n",
    "   \n",
    "        # Check to see if renter has a residence, occupy if so.\n",
    "        if entity.residence != None:\n",
    "            yield env.process(entity.occupy(duration = occupy_dist))\n",
    "        # Otherwise look for a new residence\n",
    "        else:\n",
    "\n",
    "            yield env.process(entity.find_home(search_stock, find_home_dist, search_patience = home_patience))\n",
    "\n",
    "            if not entity.gave_up_home_search:\n",
    "                    yield env.process(entity.occupy(duration = occupy_dist))\n",
    "        \n",
    "        # For printing and viz convenience, add the landlord's story to renter's story\n",
    "        entity.story += entity.landlord.story"
   ]
  },
  {
   "cell_type": "markdown",
   "metadata": {},
   "source": [
    "__Initiate the master process for each owner to be modeled in the simulation.__"
   ]
  },
  {
   "cell_type": "code",
   "execution_count": 20,
   "metadata": {
    "collapsed": true
   },
   "outputs": [],
   "source": [
    "#inspect.getfullargspec(owner_process).args # Useful to determine what arguments are required for the process.\n",
    "\n",
    "for i in range(len(owners)):\n",
    "    env.process(owner_process(env, inspection, insurance, fema_ia, sba_home_loan, \n",
    "                                    assessment, permitting, demolition, repair,\n",
    "                                    owned_stock, owners[i]))"
   ]
  },
  {
   "cell_type": "markdown",
   "metadata": {},
   "source": [
    "__Initiate the master process for each renter to be modeled in the simulation.__"
   ]
  },
  {
   "cell_type": "code",
   "execution_count": 21,
   "metadata": {
    "collapsed": true,
    "nbpresent": {
     "id": "ec9beb28-1118-43d1-9993-11d28a0196ef"
    }
   },
   "outputs": [],
   "source": [
    "# # #inspect.getfullargspec(renter_process).args # Useful to determine what arguments are required for the process.\n",
    "\n",
    "for i in range(len(renters)):\n",
    "    env.process(renter_process(env, inspection, insurance, sba_biz_loan, assessment, permitting, \n",
    "                                    demolition, repair, rented_stock, renters[i]))"
   ]
  },
  {
   "cell_type": "markdown",
   "metadata": {},
   "source": [
    "## Run the simulation"
   ]
  },
  {
   "cell_type": "code",
   "execution_count": 22,
   "metadata": {
    "collapsed": true,
    "nbpresent": {
     "id": "aeabefd9-8ded-4a8c-a6e3-83f73b64144a"
    },
    "scrolled": true
   },
   "outputs": [],
   "source": [
    "env.run()"
   ]
  },
  {
   "cell_type": "markdown",
   "metadata": {
    "nbpresent": {
     "id": "7ba728c6-b364-4ad6-9073-20a83a0cbe5c"
    }
   },
   "source": [
    "# Summarize and visualize simulation outputs"
   ]
  },
  {
   "cell_type": "markdown",
   "metadata": {
    "nbpresent": {
     "id": "7d4aada5-0d56-481e-b318-6f7a13dcd8a2"
    }
   },
   "source": [
    "## OwnerHousehold summary statistics"
   ]
  },
  {
   "cell_type": "code",
   "execution_count": 23,
   "metadata": {
    "nbpresent": {
     "id": "b3eb9288-806e-4978-b30a-93cb80d880e0"
    }
   },
   "outputs": [
    {
     "name": "stdout",
     "output_type": "stream",
     "text": [
      "8 out of 8 owners suffered damage to their homes.\n",
      " 3 out of 8 owners rebuilt or repaired their damaged home.\n",
      " 0 out of 8 owners gave up searching for money.\n",
      " 1 out of 8 owners searchesd for a new home.\n",
      " 1 out of 8 owners bought a new home.\n",
      " 0 out of 8 owners gave up searching for a home.\n"
     ]
    }
   ],
   "source": [
    "output_summary(owners, 'OwnerHousehold')"
   ]
  },
  {
   "cell_type": "markdown",
   "metadata": {
    "nbpresent": {
     "id": "099821e3-0cad-402e-9da5-fda4bed7663e"
    }
   },
   "source": [
    "## Print OwnerHousehold stories"
   ]
  },
  {
   "cell_type": "code",
   "execution_count": 25,
   "metadata": {
    "nbpresent": {
     "id": "950d3c2e-68b6-4ca2-a2f9-4094469ba2ae"
    },
    "scrolled": false
   },
   "outputs": [
    {
     "data": {
      "text/plain": [
       "['Alfred resides at 62 That St. ',\n",
       " 'Alfred owns and lives in a 1 room mobile home at 62 That St worth $306,900. ',\n",
       " \"Alfred's mobile home was inspected 10 days after the event. \",\n",
       " 'It was found to have a damage level of complete and was collapse. ',\n",
       " 'The value of the damage was $306,900. ',\n",
       " 'Alfred has no hazard insurance. ',\n",
       " 'Alfred applied for a $200,000 SBA loan 30.0 days after the event.',\n",
       " 'Alfred requested $30,000 from FEMA 30 days after the event. ',\n",
       " 'Alfred received $30,000 from FEMA 40 days after the event. ',\n",
       " \"SBA inspected Alfred's home on day 41.0 after the event. \",\n",
       " 'Alfred received an initial SBA loan disbursement of $25,000 41.0 days after the event. ',\n",
       " 'Alfred received a second SBA loan disbursement of $175,000 51.0 days after the event. ',\n",
       " 'It took Alfred 21 days to exhaust financial assistance options but still does not have enough money to cover repairs ($230,100). ',\n",
       " 'Alfred started searching for a new mobile home 51 days after the event. ',\n",
       " 'On day 61, Alfred purchased a mobile home at 100 New Ave with a value of $300,000. ',\n",
       " 'Alfred occupied the mobile home 71 days after the event. ']"
      ]
     },
     "execution_count": 25,
     "metadata": {},
     "output_type": "execute_result"
    }
   ],
   "source": [
    "owners[0].story"
   ]
  },
  {
   "cell_type": "code",
   "execution_count": 26,
   "metadata": {
    "nbpresent": {
     "id": "11e73bf1-4ef5-484b-81cd-936043f5b800"
    }
   },
   "outputs": [
    {
     "data": {
      "text/plain": [
       "['Bruce resides at 720 This Rd. ',\n",
       " 'Bruce owns and lives in a 4 room single family dwelling at 720 This Rd worth $837,000. ',\n",
       " \"Bruce's single family dwelling was inspected 10 days after the event. \",\n",
       " 'It was found to have a damage level of moderate and was disfunctional. ',\n",
       " 'The value of the damage was $83,700. ',\n",
       " 'Bruce submitted an insurance claim 10 days after the event. ',\n",
       " 'Bruce submitted an insurance claim 10 days after the event. ',\n",
       " 'Bruce received a $83,700 insurance payout 20 days after the event. ',\n",
       " 'Bruce received a $83,700 insurance payout 20 days after the event. ',\n",
       " 'Bruce requested $30,000 from FEMA 30 days after the event. ',\n",
       " 'Bruce withdrew their application to FEMA 40.0 days after the event because enough recovery funds were found from other sources. ',\n",
       " 'It took Bruce 30 days to exhaust financial assistance options and now has $167,500 for repairs. ',\n",
       " 'Bruce received an engineering assessment 50 days after the event. ',\n",
       " 'Bruce received permit approval 60 days after the event. ',\n",
       " \"Bruce's single family dwelling was repaired 70 days after the event. \",\n",
       " 'Bruce occupied the single family dwelling 80 days after the event. ']"
      ]
     },
     "execution_count": 26,
     "metadata": {},
     "output_type": "execute_result"
    }
   ],
   "source": [
    "owners[1].story"
   ]
  },
  {
   "cell_type": "code",
   "execution_count": 27,
   "metadata": {
    "nbpresent": {
     "id": "a653615f-5f7c-4d96-9430-9cde218c3ffc"
    },
    "scrolled": true
   },
   "outputs": [
    {
     "data": {
      "text/plain": [
       "['Selena resides at 1001 Other Ave. ',\n",
       " 'Selena owns and lives in a 2 room single family dwelling at 1001 Other Ave worth $209,250. ',\n",
       " \"Selena's single family dwelling was inspected 10 days after the event. \",\n",
       " 'It was found to have a damage level of extensive and was collapse. ',\n",
       " 'The value of the damage was $93,535. ',\n",
       " 'Selena has no hazard insurance. ',\n",
       " 'Selena applied for a $63,535 SBA loan 30.0 days after the event.',\n",
       " 'Selena requested $30,000 from FEMA 30 days after the event. ',\n",
       " 'Selena received $30,000 from FEMA 40 days after the event. ',\n",
       " \"SBA inspected Selena's home on day 41.0 after the event. \",\n",
       " 'Selena received an initial SBA loan disbursement of $25,000 41.0 days after the event. ',\n",
       " 'Selena received a second SBA loan disbursement of $38,535 51.0 days after the event. ',\n",
       " 'It took Selena 21 days to exhaust financial assistance options and now has $93,635 for repairs. ',\n",
       " 'Selena received an engineering assessment 61 days after the event. ',\n",
       " 'Selena received permit approval 71 days after the event. ',\n",
       " \"Selena's single family dwelling was demolished 81 days after the event. \",\n",
       " \"Selena's single family dwelling was repaired 91 days after the event. \",\n",
       " 'Selena occupied the single family dwelling 101 days after the event. ']"
      ]
     },
     "execution_count": 27,
     "metadata": {},
     "output_type": "execute_result"
    }
   ],
   "source": [
    "owners[2].story"
   ]
  },
  {
   "cell_type": "code",
   "execution_count": 28,
   "metadata": {
    "nbpresent": {
     "id": "e45edacc-0055-418a-a65b-d06361b78f36"
    },
    "scrolled": false
   },
   "outputs": [
    {
     "data": {
      "text/plain": [
       "['Fish resides at 26000 Out There Lane. ',\n",
       " 'Fish owns and lives in a 3 room single family dwelling at 26000 Out There Lane worth $558,000. ',\n",
       " \"Fish's single family dwelling was inspected 10 days after the event. \",\n",
       " 'It was found to have a damage level of slight and was disfunctional. ',\n",
       " 'The value of the damage was $11,160. ',\n",
       " 'Fish has no hazard insurance. ',\n",
       " 'Fish requested $11,160 from FEMA 30 days after the event. ',\n",
       " 'Fish received $11,160 from FEMA 40 days after the event. ',\n",
       " 'It took Fish 10 days to exhaust financial assistance options and now has $11,260 for repairs. ',\n",
       " 'Fish received an engineering assessment 50 days after the event. ',\n",
       " 'Fish received permit approval 60 days after the event. ',\n",
       " \"Fish's single family dwelling was repaired 70 days after the event. \",\n",
       " 'Fish occupied the single family dwelling 80 days after the event. ']"
      ]
     },
     "execution_count": 28,
     "metadata": {},
     "output_type": "execute_result"
    }
   ],
   "source": [
    "owners[3].story"
   ]
  },
  {
   "cell_type": "markdown",
   "metadata": {
    "nbpresent": {
     "id": "17baf8a7-1023-4c2d-b6f2-5687736b081c"
    }
   },
   "source": [
    "## RenterHousehold summary statistics"
   ]
  },
  {
   "cell_type": "code",
   "execution_count": 29,
   "metadata": {
    "nbpresent": {
     "id": "c98b8cee-da7d-435b-88a8-ecef564957cb"
    }
   },
   "outputs": [
    {
     "name": "stdout",
     "output_type": "stream",
     "text": [
      "8 out of 8 renters' homes suffered damage.\n",
      " 4 out of 8 renters' damaged home was rebuilt or repaired.\n",
      " 4 out of 8 renters' were displaced.\n",
      " 0 landlords gave up searching for repair money.\n"
     ]
    }
   ],
   "source": [
    "output_summary(renters, 'RenterHousehold')"
   ]
  },
  {
   "cell_type": "markdown",
   "metadata": {
    "nbpresent": {
     "id": "04f9c8c8-adbb-4a0f-8a72-a6ed5bfccf91"
    }
   },
   "source": [
    "## Print RenterHousehold stories"
   ]
  },
  {
   "cell_type": "code",
   "execution_count": 30,
   "metadata": {
    "nbpresent": {
     "id": "89bd7c5b-ec66-46bd-88cc-afbd144319ab"
    },
    "scrolled": true
   },
   "outputs": [
    {
     "data": {
      "text/plain": [
       "['Ivy resides at 262 That St. ',\n",
       " 'Ivy rents and lives in a 1 room mobile home at 262 That St. ',\n",
       " 'Ivy occupied the mobile home 50 days after the event. ',\n",
       " 'Alice rents out a 1 bedroom mobile home at 262 That St worth $279,000. ',\n",
       " \"Alice's mobile home was inspected 10 days after the event. \",\n",
       " 'It was found to have a damage level of moderate and was disfunctional. ',\n",
       " 'The value of the damage was $27,900. ',\n",
       " 'Alice already had enough money to repair ($30,000) and did not seek assistance. ',\n",
       " 'Alice received an engineering assessment 20 days after the event. ',\n",
       " 'Alice received permit approval 30 days after the event. ',\n",
       " \"Alice's mobile home was repaired 40 days after the event. \"]"
      ]
     },
     "execution_count": 30,
     "metadata": {},
     "output_type": "execute_result"
    }
   ],
   "source": [
    "renters[0].story"
   ]
  },
  {
   "cell_type": "code",
   "execution_count": 31,
   "metadata": {
    "nbpresent": {
     "id": "eb7be125-07cc-4997-bc00-ec9562fd57b3"
    }
   },
   "outputs": [
    {
     "data": {
      "text/plain": [
       "['Edward resides at 4720 This Rd. ',\n",
       " 'Edward rents and lives in a 3 room single family dwelling at 4720 This Rd. ',\n",
       " 'Edward occupied the single family dwelling 50 days after the event. ',\n",
       " 'Julie rents out a 3 bedroom single family dwelling at 4720 This Rd worth $418,500. ',\n",
       " \"Julie's single family dwelling was inspected 10 days after the event. \",\n",
       " 'It was found to have a damage level of slight and was disfunctional. ',\n",
       " 'The value of the damage was $8,370. ',\n",
       " 'Julie already had enough money to repair ($30,000) and did not seek assistance. ',\n",
       " 'Julie received an engineering assessment 20 days after the event. ',\n",
       " 'Julie received permit approval 30 days after the event. ',\n",
       " \"Julie's single family dwelling was repaired 40 days after the event. \"]"
      ]
     },
     "execution_count": 31,
     "metadata": {},
     "output_type": "execute_result"
    }
   ],
   "source": [
    "renters[1].story"
   ]
  },
  {
   "cell_type": "code",
   "execution_count": 32,
   "metadata": {},
   "outputs": [
    {
     "data": {
      "text/plain": [
       "['Oswald resides at 2301 Other Ave. ',\n",
       " 'Oswald rents and lives in a 0 room single family dwelling at 2301 Other Ave. ',\n",
       " 'Oswald was evicted because the single family dwelling had extensive damage. ',\n",
       " 'Oswald started searching for a new single family dwelling 60 days after the event. ',\n",
       " 'On day 610, after a 550 day search, Oswald gave up looking for a new home in the local area. ',\n",
       " 'Gerry rents out a 0 bedroom single family dwelling at 2301 Other Ave worth $139,500. ',\n",
       " \"Gerry's single family dwelling was inspected 10 days after the event. \",\n",
       " 'It was found to have a damage level of extensive and was disfunctional. ',\n",
       " 'The value of the damage was $62,356. ',\n",
       " 'Gerry submitted an insurance claim 10 days after the event. ',\n",
       " 'Gerry received a $62,356 insurance payout 20 days after the event. ',\n",
       " 'It took Gerry 10 days to exhaust financial assistance options and now has $92,356 for repairs. ',\n",
       " 'Gerry received an engineering assessment 30 days after the event. ',\n",
       " 'Gerry received permit approval 40 days after the event. ',\n",
       " \"Gerry's single family dwelling was demolished 50 days after the event. \",\n",
       " \"Gerry's single family dwelling was repaired 60 days after the event. \"]"
      ]
     },
     "execution_count": 32,
     "metadata": {},
     "output_type": "execute_result"
    }
   ],
   "source": [
    "renters[2].story"
   ]
  },
  {
   "cell_type": "code",
   "execution_count": 33,
   "metadata": {},
   "outputs": [
    {
     "data": {
      "text/plain": [
       "['James resides at 74000 Out There Lane. ',\n",
       " 'James rents and lives in a 2 room single family dwelling at 74000 Out There Lane. ',\n",
       " 'James was evicted because the single family dwelling had complete damage. ',\n",
       " 'James started searching for a new single family dwelling 60 days after the event. ',\n",
       " 'On day 610, after a 550 day search, James gave up looking for a new home in the local area. ',\n",
       " 'Sally rents out a 2 bedroom single family dwelling at 74000 Out There Lane worth $558,000. ',\n",
       " \"Sally's single family dwelling was inspected 10 days after the event. \",\n",
       " 'It was found to have a damage level of complete and was collapse. ',\n",
       " 'The value of the damage was $558,000. ',\n",
       " 'Sally submitted an insurance claim 10 days after the event. ',\n",
       " 'Sally received a $558,000 insurance payout 20 days after the event. ',\n",
       " 'It took Sally 10 days to exhaust financial assistance options and now has $588,000 for repairs. ',\n",
       " 'Sally received an engineering assessment 30 days after the event. ',\n",
       " 'Sally received permit approval 40 days after the event. ',\n",
       " \"Sally's single family dwelling was demolished 50 days after the event. \",\n",
       " \"Sally's single family dwelling was repaired 60 days after the event. \"]"
      ]
     },
     "execution_count": 33,
     "metadata": {},
     "output_type": "execute_result"
    }
   ],
   "source": [
    "renters[3].story"
   ]
  },
  {
   "cell_type": "code",
   "execution_count": 34,
   "metadata": {},
   "outputs": [
    {
     "name": "stdout",
     "output_type": "stream",
     "text": [
      "Household Alfred had an attribrute error, 'OwnerHousehold' object has no attribute 'tenure'\n",
      "Household Bruce had an attribrute error, 'OwnerHousehold' object has no attribute 'tenure'\n",
      "Household Selena had an attribrute error, 'OwnerHousehold' object has no attribute 'tenure'\n",
      "Household Fish had an attribrute error, 'OwnerHousehold' object has no attribute 'tenure'\n",
      "Household Jerome had an attribrute error, 'OwnerHousehold' object has no attribute 'tenure'\n",
      "Household Barbara had an attribrute error, 'OwnerHousehold' object has no attribute 'tenure'\n",
      "Household Lucius had an attribrute error, 'OwnerHousehold' object has no attribute 'tenure'\n",
      "Household Dick had an attribrute error, 'OwnerHousehold' object has no attribute 'tenure'\n"
     ]
    }
   ],
   "source": [
    "df = households_to_df(owners)"
   ]
  },
  {
   "cell_type": "code",
   "execution_count": 35,
   "metadata": {},
   "outputs": [
    {
     "data": {
      "text/plain": [
       "Index(['address', 'area', 'assessment', 'assessment_get', 'assessment_put',\n",
       "       'assistance_payout', 'bathrooms', 'bedrooms', 'claim_amount',\n",
       "       'claim_get', 'claim_put', 'credit', 'damage_state',\n",
       "       'damage_state_start', 'damage_value', 'damage_value_start',\n",
       "       'demolition_get', 'demolition_put', 'env', 'fema_amount', 'fema_get',\n",
       "       'fema_put', 'gave_up_funding_search', 'gave_up_home_search', 'home_get',\n",
       "       'home_put', 'income', 'inspected', 'inspection_get', 'inspection_put',\n",
       "       'insurance', 'latitude', 'listed', 'longitude', 'monthly_cost', 'name',\n",
       "       'occupancy', 'occupy_get', 'occupy_put', 'owner', 'permit',\n",
       "       'permit_get', 'permit_put', 'prior_properties', 'prior_residences',\n",
       "       'property', 'recovery_funds', 'recovery_limit_state',\n",
       "       'recovery_limit_state_start', 'repair_get', 'repair_put', 'residence',\n",
       "       'savings', 'sba_amount', 'sba_get', 'sba_put', 'stock', 'story',\n",
       "       'tenure', 'value', 'write_story'],\n",
       "      dtype='object')"
      ]
     },
     "execution_count": 35,
     "metadata": {},
     "output_type": "execute_result"
    }
   ],
   "source": [
    "df.columns"
   ]
  },
  {
   "cell_type": "code",
   "execution_count": 36,
   "metadata": {
    "collapsed": true
   },
   "outputs": [],
   "source": [
    "outfile = '../outputs/' + str(datetime.now().hour) + str(datetime.now().minute) + str(datetime.now().day) \\\n",
    "                 + str(datetime.now().month) + str(datetime.now().year) + '.csv'\n",
    "    \n",
    "df.to_csv(outfile)"
   ]
  },
  {
   "cell_type": "code",
   "execution_count": 37,
   "metadata": {},
   "outputs": [
    {
     "data": {
      "text/plain": [
       "Index(['address', 'area', 'assessment', 'assessment_get', 'assessment_put',\n",
       "       'assistance_payout', 'bathrooms', 'bedrooms', 'claim_amount',\n",
       "       'claim_get', 'claim_put', 'credit', 'damage_state',\n",
       "       'damage_state_start', 'damage_value', 'damage_value_start',\n",
       "       'demolition_get', 'demolition_put', 'env', 'fema_amount', 'fema_get',\n",
       "       'fema_put', 'gave_up_funding_search', 'gave_up_home_search', 'home_get',\n",
       "       'home_put', 'income', 'inspected', 'inspection_get', 'inspection_put',\n",
       "       'insurance', 'latitude', 'listed', 'longitude', 'monthly_cost', 'name',\n",
       "       'occupancy', 'occupy_get', 'occupy_put', 'owner', 'permit',\n",
       "       'permit_get', 'permit_put', 'prior_properties', 'prior_residences',\n",
       "       'property', 'recovery_funds', 'recovery_limit_state',\n",
       "       'recovery_limit_state_start', 'repair_get', 'repair_put', 'residence',\n",
       "       'savings', 'sba_amount', 'sba_get', 'sba_put', 'stock', 'story',\n",
       "       'tenure', 'value', 'write_story'],\n",
       "      dtype='object')"
      ]
     },
     "execution_count": 37,
     "metadata": {},
     "output_type": "execute_result"
    }
   ],
   "source": [
    "df.columns"
   ]
  },
  {
   "cell_type": "code",
   "execution_count": 38,
   "metadata": {
    "collapsed": true
   },
   "outputs": [],
   "source": [
    "event_list=[]\n",
    "\n",
    "for i in df.columns:\n",
    "    if \"get\" in i or \"put\" in i or \"stop\" in i or \"start\" in i or \"name\" in i or \"gave\" in i:\n",
    "        event_list.append(i)\n",
    "\n",
    "event_df = df[event_list]\n",
    "event_df = event_df.set_index('name')"
   ]
  },
  {
   "cell_type": "code",
   "execution_count": 39,
   "metadata": {},
   "outputs": [
    {
     "data": {
      "text/html": [
       "<div>\n",
       "<style>\n",
       "    .dataframe thead tr:only-child th {\n",
       "        text-align: right;\n",
       "    }\n",
       "\n",
       "    .dataframe thead th {\n",
       "        text-align: left;\n",
       "    }\n",
       "\n",
       "    .dataframe tbody tr th {\n",
       "        vertical-align: top;\n",
       "    }\n",
       "</style>\n",
       "<table border=\"1\" class=\"dataframe\">\n",
       "  <thead>\n",
       "    <tr style=\"text-align: right;\">\n",
       "      <th></th>\n",
       "      <th>assessment_get</th>\n",
       "      <th>assessment_put</th>\n",
       "      <th>claim_get</th>\n",
       "      <th>claim_put</th>\n",
       "      <th>damage_state_start</th>\n",
       "      <th>damage_value_start</th>\n",
       "      <th>demolition_get</th>\n",
       "      <th>demolition_put</th>\n",
       "      <th>fema_get</th>\n",
       "      <th>fema_put</th>\n",
       "      <th>...</th>\n",
       "      <th>inspection_put</th>\n",
       "      <th>occupy_get</th>\n",
       "      <th>occupy_put</th>\n",
       "      <th>permit_get</th>\n",
       "      <th>permit_put</th>\n",
       "      <th>recovery_limit_state_start</th>\n",
       "      <th>repair_get</th>\n",
       "      <th>repair_put</th>\n",
       "      <th>sba_get</th>\n",
       "      <th>sba_put</th>\n",
       "    </tr>\n",
       "    <tr>\n",
       "      <th>name</th>\n",
       "      <th></th>\n",
       "      <th></th>\n",
       "      <th></th>\n",
       "      <th></th>\n",
       "      <th></th>\n",
       "      <th></th>\n",
       "      <th></th>\n",
       "      <th></th>\n",
       "      <th></th>\n",
       "      <th></th>\n",
       "      <th></th>\n",
       "      <th></th>\n",
       "      <th></th>\n",
       "      <th></th>\n",
       "      <th></th>\n",
       "      <th></th>\n",
       "      <th></th>\n",
       "      <th></th>\n",
       "      <th></th>\n",
       "      <th></th>\n",
       "      <th></th>\n",
       "    </tr>\n",
       "  </thead>\n",
       "  <tbody>\n",
       "    <tr>\n",
       "      <th>Alfred</th>\n",
       "      <td>None</td>\n",
       "      <td>None</td>\n",
       "      <td>None</td>\n",
       "      <td>None</td>\n",
       "      <td>Complete</td>\n",
       "      <td>306900.00</td>\n",
       "      <td>None</td>\n",
       "      <td>None</td>\n",
       "      <td>40</td>\n",
       "      <td>30</td>\n",
       "      <td>...</td>\n",
       "      <td>10.0</td>\n",
       "      <td>71.0</td>\n",
       "      <td>61.0</td>\n",
       "      <td>None</td>\n",
       "      <td>None</td>\n",
       "      <td>Collapse</td>\n",
       "      <td>None</td>\n",
       "      <td>None</td>\n",
       "      <td>51</td>\n",
       "      <td>30</td>\n",
       "    </tr>\n",
       "    <tr>\n",
       "      <th>Bruce</th>\n",
       "      <td>50</td>\n",
       "      <td>40</td>\n",
       "      <td>20.5</td>\n",
       "      <td>10.5</td>\n",
       "      <td>Moderate</td>\n",
       "      <td>83700.00</td>\n",
       "      <td>None</td>\n",
       "      <td>None</td>\n",
       "      <td>None</td>\n",
       "      <td>30</td>\n",
       "      <td>...</td>\n",
       "      <td>10.0</td>\n",
       "      <td>80.0</td>\n",
       "      <td>70.0</td>\n",
       "      <td>60</td>\n",
       "      <td>50</td>\n",
       "      <td>Disfunctional</td>\n",
       "      <td>70</td>\n",
       "      <td>60</td>\n",
       "      <td>None</td>\n",
       "      <td>30</td>\n",
       "    </tr>\n",
       "    <tr>\n",
       "      <th>Selena</th>\n",
       "      <td>61</td>\n",
       "      <td>51</td>\n",
       "      <td>None</td>\n",
       "      <td>None</td>\n",
       "      <td>Extensive</td>\n",
       "      <td>93534.75</td>\n",
       "      <td>81</td>\n",
       "      <td>71</td>\n",
       "      <td>40</td>\n",
       "      <td>30</td>\n",
       "      <td>...</td>\n",
       "      <td>10.0</td>\n",
       "      <td>101.0</td>\n",
       "      <td>91.0</td>\n",
       "      <td>71</td>\n",
       "      <td>61</td>\n",
       "      <td>Collapse</td>\n",
       "      <td>91</td>\n",
       "      <td>81</td>\n",
       "      <td>51</td>\n",
       "      <td>30</td>\n",
       "    </tr>\n",
       "    <tr>\n",
       "      <th>Fish</th>\n",
       "      <td>50</td>\n",
       "      <td>40</td>\n",
       "      <td>None</td>\n",
       "      <td>None</td>\n",
       "      <td>Slight</td>\n",
       "      <td>11160.00</td>\n",
       "      <td>None</td>\n",
       "      <td>None</td>\n",
       "      <td>40</td>\n",
       "      <td>30</td>\n",
       "      <td>...</td>\n",
       "      <td>10.0</td>\n",
       "      <td>80.0</td>\n",
       "      <td>70.0</td>\n",
       "      <td>60</td>\n",
       "      <td>50</td>\n",
       "      <td>Disfunctional</td>\n",
       "      <td>70</td>\n",
       "      <td>60</td>\n",
       "      <td>None</td>\n",
       "      <td>30</td>\n",
       "    </tr>\n",
       "    <tr>\n",
       "      <th>Jerome</th>\n",
       "      <td>None</td>\n",
       "      <td>None</td>\n",
       "      <td>None</td>\n",
       "      <td>None</td>\n",
       "      <td>None</td>\n",
       "      <td>0.00</td>\n",
       "      <td>None</td>\n",
       "      <td>None</td>\n",
       "      <td>None</td>\n",
       "      <td>None</td>\n",
       "      <td>...</td>\n",
       "      <td>10.0</td>\n",
       "      <td>20.5</td>\n",
       "      <td>10.5</td>\n",
       "      <td>None</td>\n",
       "      <td>None</td>\n",
       "      <td>Functional</td>\n",
       "      <td>None</td>\n",
       "      <td>None</td>\n",
       "      <td>None</td>\n",
       "      <td>None</td>\n",
       "    </tr>\n",
       "    <tr>\n",
       "      <th>Barbara</th>\n",
       "      <td>None</td>\n",
       "      <td>None</td>\n",
       "      <td>None</td>\n",
       "      <td>None</td>\n",
       "      <td>None</td>\n",
       "      <td>0.00</td>\n",
       "      <td>None</td>\n",
       "      <td>None</td>\n",
       "      <td>None</td>\n",
       "      <td>None</td>\n",
       "      <td>...</td>\n",
       "      <td>10.0</td>\n",
       "      <td>20.5</td>\n",
       "      <td>10.5</td>\n",
       "      <td>None</td>\n",
       "      <td>None</td>\n",
       "      <td>Functional</td>\n",
       "      <td>None</td>\n",
       "      <td>None</td>\n",
       "      <td>None</td>\n",
       "      <td>None</td>\n",
       "    </tr>\n",
       "    <tr>\n",
       "      <th>Lucius</th>\n",
       "      <td>None</td>\n",
       "      <td>None</td>\n",
       "      <td>None</td>\n",
       "      <td>None</td>\n",
       "      <td>None</td>\n",
       "      <td>0.00</td>\n",
       "      <td>None</td>\n",
       "      <td>None</td>\n",
       "      <td>None</td>\n",
       "      <td>None</td>\n",
       "      <td>...</td>\n",
       "      <td>10.0</td>\n",
       "      <td>20.5</td>\n",
       "      <td>10.5</td>\n",
       "      <td>None</td>\n",
       "      <td>None</td>\n",
       "      <td>Functional</td>\n",
       "      <td>None</td>\n",
       "      <td>None</td>\n",
       "      <td>None</td>\n",
       "      <td>None</td>\n",
       "    </tr>\n",
       "    <tr>\n",
       "      <th>Dick</th>\n",
       "      <td>None</td>\n",
       "      <td>None</td>\n",
       "      <td>None</td>\n",
       "      <td>None</td>\n",
       "      <td>None</td>\n",
       "      <td>0.00</td>\n",
       "      <td>None</td>\n",
       "      <td>None</td>\n",
       "      <td>None</td>\n",
       "      <td>None</td>\n",
       "      <td>...</td>\n",
       "      <td>10.0</td>\n",
       "      <td>20.5</td>\n",
       "      <td>10.5</td>\n",
       "      <td>None</td>\n",
       "      <td>None</td>\n",
       "      <td>Functional</td>\n",
       "      <td>None</td>\n",
       "      <td>None</td>\n",
       "      <td>None</td>\n",
       "      <td>None</td>\n",
       "    </tr>\n",
       "  </tbody>\n",
       "</table>\n",
       "<p>8 rows × 25 columns</p>\n",
       "</div>"
      ],
      "text/plain": [
       "        assessment_get assessment_put claim_get claim_put damage_state_start  \\\n",
       "name                                                                           \n",
       "Alfred            None           None      None      None           Complete   \n",
       "Bruce               50             40      20.5      10.5           Moderate   \n",
       "Selena              61             51      None      None          Extensive   \n",
       "Fish                50             40      None      None             Slight   \n",
       "Jerome            None           None      None      None               None   \n",
       "Barbara           None           None      None      None               None   \n",
       "Lucius            None           None      None      None               None   \n",
       "Dick              None           None      None      None               None   \n",
       "\n",
       "         damage_value_start demolition_get demolition_put fema_get fema_put  \\\n",
       "name                                                                          \n",
       "Alfred            306900.00           None           None       40       30   \n",
       "Bruce              83700.00           None           None     None       30   \n",
       "Selena             93534.75             81             71       40       30   \n",
       "Fish               11160.00           None           None       40       30   \n",
       "Jerome                 0.00           None           None     None     None   \n",
       "Barbara                0.00           None           None     None     None   \n",
       "Lucius                 0.00           None           None     None     None   \n",
       "Dick                   0.00           None           None     None     None   \n",
       "\n",
       "          ...   inspection_put occupy_get occupy_put permit_get  permit_put  \\\n",
       "name      ...                                                                 \n",
       "Alfred    ...             10.0       71.0       61.0       None        None   \n",
       "Bruce     ...             10.0       80.0       70.0         60          50   \n",
       "Selena    ...             10.0      101.0       91.0         71          61   \n",
       "Fish      ...             10.0       80.0       70.0         60          50   \n",
       "Jerome    ...             10.0       20.5       10.5       None        None   \n",
       "Barbara   ...             10.0       20.5       10.5       None        None   \n",
       "Lucius    ...             10.0       20.5       10.5       None        None   \n",
       "Dick      ...             10.0       20.5       10.5       None        None   \n",
       "\n",
       "         recovery_limit_state_start  repair_get  repair_put sba_get sba_put  \n",
       "name                                                                         \n",
       "Alfred                     Collapse        None        None      51      30  \n",
       "Bruce                 Disfunctional          70          60    None      30  \n",
       "Selena                     Collapse          91          81      51      30  \n",
       "Fish                  Disfunctional          70          60    None      30  \n",
       "Jerome                   Functional        None        None    None    None  \n",
       "Barbara                  Functional        None        None    None    None  \n",
       "Lucius                   Functional        None        None    None    None  \n",
       "Dick                     Functional        None        None    None    None  \n",
       "\n",
       "[8 rows x 25 columns]"
      ]
     },
     "execution_count": 39,
     "metadata": {},
     "output_type": "execute_result"
    }
   ],
   "source": [
    "event_df"
   ]
  },
  {
   "cell_type": "markdown",
   "metadata": {},
   "source": [
    "__Visualize events experienced by an individual entity.__"
   ]
  },
  {
   "cell_type": "code",
   "execution_count": 40,
   "metadata": {},
   "outputs": [
    {
     "data": {
      "application/vnd.jupyter.widget-view+json": {
       "model_id": "ed455d563318420a8f0c2425eeb9cd6e"
      }
     },
     "metadata": {},
     "output_type": "display_data"
    }
   ],
   "source": [
    "names = sorted([f for f in df['name']])\n",
    "\n",
    "name_chooser = Dropdown(\n",
    "    options=names\n",
    ")\n",
    "display(name_chooser)"
   ]
  },
  {
   "cell_type": "code",
   "execution_count": 41,
   "metadata": {},
   "outputs": [
    {
     "data": {
      "text/plain": [
       "[<matplotlib.text.Text at 0x1124c63c8>, <matplotlib.text.Text at 0x1124b0438>]"
      ]
     },
     "execution_count": 41,
     "metadata": {},
     "output_type": "execute_result"
    },
    {
     "data": {
      "image/png": "[encoded data removed]",
      "text/plain": [
       "<matplotlib.figure.Figure at 0x1121922e8>"
      ]
     },
     "metadata": {},
     "output_type": "display_data"
    }
   ],
   "source": [
    "name = name_chooser.value\n",
    "\n",
    "name_row = df[df['name']==name][['inspection_put',\n",
    " 'inspection_get',\n",
    " 'fema_put',\n",
    " 'fema_get',\n",
    " 'assessment_put',\n",
    " 'assessment_get',\n",
    " 'permit_put',\n",
    " 'permit_get',\n",
    "'occupy_put',\n",
    "'occupy_get',\n",
    " 'home_put',\n",
    " 'home_get']]\n",
    "\n",
    "%matplotlib inline\n",
    "plt.figure(figsize=(10,10))\n",
    "sns.set_style(style=\"whitegrid\")\n",
    "sns.set(font_scale=2)\n",
    "ax = sns.stripplot(name_row.iloc[0], name_row.columns, jitter=True, size = 15, linewidth=1)\n",
    "ax.set(xlabel=\"Days After Event\", ylabel=\"Housing Recovery Events for {0}\".format(name))"
   ]
  },
  {
   "cell_type": "markdown",
   "metadata": {},
   "source": [
    "Map of outputs"
   ]
  },
  {
   "cell_type": "code",
   "execution_count": 42,
   "metadata": {
    "collapsed": true
   },
   "outputs": [],
   "source": [
    "outfile = '../outputs/' + 'folium_map_' + str(datetime.now().hour) + str(datetime.now().minute) + str(datetime.now().day) \\\n",
    "                 + str(datetime.now().month) + str(datetime.now().year) + '.html'\n",
    "    \n",
    "folium_map(df, outfile = outfile)"
   ]
  },
  {
   "cell_type": "markdown",
   "metadata": {},
   "source": [
    "Dashboard of outputs"
   ]
  },
  {
   "cell_type": "code",
   "execution_count": 43,
   "metadata": {
    "collapsed": true
   },
   "outputs": [],
   "source": [
    "outfile = '../outputs/' + 'dashboard_' + str(datetime.now().hour) + str(datetime.now().minute) + str(datetime.now().day) \\\n",
    "                 + str(datetime.now().month) + str(datetime.now().year) + '.html'\n",
    "\n",
    "dashboard(df, outfile = outfile)"
   ]
  }
 ],
 "metadata": {
  "anaconda-cloud": {},
  "kernelspec": {
   "display_name": "Python [default]",
   "language": "python",
   "name": "python3"
  },
  "language_info": {
   "codemirror_mode": {
    "name": "ipython",
    "version": 3
   },
   "file_extension": ".py",
   "mimetype": "text/x-python",
   "name": "python",
   "nbconvert_exporter": "python",
   "pygments_lexer": "ipython3",
   "version": "3.5.5"
  },
  "nbpresent": {
   "slides": {
    "c70bf630-c1ab-4568-8b60-1be60a4c6f14": {
     "id": "c70bf630-c1ab-4568-8b60-1be60a4c6f14",
     "layout": "grid",
     "prev": null,
     "regions": {
      "4937cfd3-95ef-472b-8bcb-0fe395034eeb": {
       "attrs": {
        "height": 0.75,
        "pad": 0.01,
        "treemap:weight": 1,
        "width": 0.3333333333333333,
        "x": 0.6666666666666666,
        "y": 0
       },
       "id": "4937cfd3-95ef-472b-8bcb-0fe395034eeb"
      },
      "5fbef4a8-e9f1-4a08-86db-46056e211b66": {
       "attrs": {
        "height": 0.75,
        "pad": 0.01,
        "treemap:weight": 1,
        "width": 0.3333333333333333,
        "x": 0.3333333333333333,
        "y": 0
       },
       "id": "5fbef4a8-e9f1-4a08-86db-46056e211b66"
      },
      "7ee15621-2c2c-44b3-b170-4eb63bd818cc": {
       "attrs": {
        "height": 0.25,
        "pad": 0.01,
        "treemap:weight": 1,
        "width": 1,
        "x": 0,
        "y": 0.75
       },
       "id": "7ee15621-2c2c-44b3-b170-4eb63bd818cc"
      },
      "fc201ce3-4473-4f2f-b833-b627be3edf18": {
       "attrs": {
        "height": 0.75,
        "pad": 0.01,
        "treemap:weight": 1,
        "width": 0.3333333333333333,
        "x": 0,
        "y": 0
       },
       "content": {
        "cell": "daf47265-2d0b-406e-bda0-4d5c93d295ab",
        "part": "source"
       },
       "id": "fc201ce3-4473-4f2f-b833-b627be3edf18"
      }
     }
    }
   },
   "themes": {}
  }
 },
 "nbformat": 4,
 "nbformat_minor": 2
}
